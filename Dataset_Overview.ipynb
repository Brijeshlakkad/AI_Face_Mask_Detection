{
 "cells": [
  {
   "cell_type": "code",
   "execution_count": 1,
   "id": "020567e9",
   "metadata": {},
   "outputs": [],
   "source": [
    "import os\n",
    "import pandas as pd\n",
    "\n",
    "root_dir = './data'\n",
    "data_folder = \"./data/face-mask-detection-dataset\""
   ]
  },
  {
   "cell_type": "code",
   "execution_count": 2,
   "id": "58a397ee",
   "metadata": {},
   "outputs": [],
   "source": [
    "\n",
    "columns = [\"filename\", \"classname\", \"gender\", \"age\"]\n",
    "def get_preprocessed_df():\n",
    "    return pd.read_csv(os.path.join(root_dir, \"preprocessed\", \"data.csv\"),\n",
    "                        skiprows=1, names=columns)"
   ]
  },
  {
   "cell_type": "code",
   "execution_count": 3,
   "id": "0e0ea8fd",
   "metadata": {},
   "outputs": [],
   "source": [
    "def preview_classes():\n",
    "    classes = []\n",
    "    preselected_class_count = {\n",
    "        \"face_with_cloth_mask\": 0,\n",
    "        \"face_no_mask\": 0,\n",
    "        \"face_with_ffp2_mask\": 0,\n",
    "        \"face_with_surgical_mask\": 0\n",
    "    }\n",
    "    train_df = get_preprocessed_df()\n",
    "    for row_index in range(len(train_df)):\n",
    "        className = train_df[columns[1]][row_index]\n",
    "        if className not in classes:\n",
    "            classes.append(className)\n",
    "        if className in preselected_class_count.keys():\n",
    "            preselected_class_count[className] += 1\n",
    "    print(preselected_class_count)"
   ]
  },
  {
   "cell_type": "code",
   "execution_count": 4,
   "id": "18723d3e",
   "metadata": {},
   "outputs": [
    {
     "name": "stdout",
     "output_type": "stream",
     "text": [
      "{'face_with_cloth_mask': 526, 'face_no_mask': 649, 'face_with_ffp2_mask': 615, 'face_with_surgical_mask': 528}\n"
     ]
    }
   ],
   "source": [
    "preview_classes()"
   ]
  },
  {
   "cell_type": "code",
   "execution_count": 5,
   "id": "bcfe2a04",
   "metadata": {},
   "outputs": [
    {
     "data": {
      "text/html": [
       "<div>\n",
       "<style scoped>\n",
       "    .dataframe tbody tr th:only-of-type {\n",
       "        vertical-align: middle;\n",
       "    }\n",
       "\n",
       "    .dataframe tbody tr th {\n",
       "        vertical-align: top;\n",
       "    }\n",
       "\n",
       "    .dataframe thead th {\n",
       "        text-align: right;\n",
       "    }\n",
       "</style>\n",
       "<table border=\"1\" class=\"dataframe\">\n",
       "  <thead>\n",
       "    <tr style=\"text-align: right;\">\n",
       "      <th></th>\n",
       "      <th>filename</th>\n",
       "      <th>classname</th>\n",
       "      <th>gender</th>\n",
       "      <th>age</th>\n",
       "    </tr>\n",
       "  </thead>\n",
       "  <tbody>\n",
       "    <tr>\n",
       "      <th>0</th>\n",
       "      <td>1001.png</td>\n",
       "      <td>face_with_cloth_mask</td>\n",
       "      <td>1</td>\n",
       "      <td>1</td>\n",
       "    </tr>\n",
       "    <tr>\n",
       "      <th>1</th>\n",
       "      <td>1003.png</td>\n",
       "      <td>face_with_surgical_mask</td>\n",
       "      <td>2</td>\n",
       "      <td>1</td>\n",
       "    </tr>\n",
       "    <tr>\n",
       "      <th>2</th>\n",
       "      <td>1004.png</td>\n",
       "      <td>face_with_cloth_mask</td>\n",
       "      <td>1</td>\n",
       "      <td>1</td>\n",
       "    </tr>\n",
       "    <tr>\n",
       "      <th>3</th>\n",
       "      <td>1007.png</td>\n",
       "      <td>face_with_cloth_mask</td>\n",
       "      <td>1</td>\n",
       "      <td>2</td>\n",
       "    </tr>\n",
       "    <tr>\n",
       "      <th>4</th>\n",
       "      <td>1008.png</td>\n",
       "      <td>face_with_cloth_mask</td>\n",
       "      <td>1</td>\n",
       "      <td>1</td>\n",
       "    </tr>\n",
       "  </tbody>\n",
       "</table>\n",
       "</div>"
      ],
      "text/plain": [
       "   filename                classname  gender  age\n",
       "0  1001.png     face_with_cloth_mask       1    1\n",
       "1  1003.png  face_with_surgical_mask       2    1\n",
       "2  1004.png     face_with_cloth_mask       1    1\n",
       "3  1007.png     face_with_cloth_mask       1    2\n",
       "4  1008.png     face_with_cloth_mask       1    1"
      ]
     },
     "execution_count": 5,
     "metadata": {},
     "output_type": "execute_result"
    }
   ],
   "source": [
    "train_df = get_preprocessed_df()\n",
    "\n",
    "train_df.head()\n"
   ]
  }
 ],
 "metadata": {
  "kernelspec": {
   "display_name": "Python 3.8.8 64-bit ('base': conda)",
   "language": "python",
   "name": "python388jvsc74a57bd040d3a090f54c6569ab1632332b64b2c03c39dcf918b08424e98f38b5ae0af88f"
  },
  "language_info": {
   "codemirror_mode": {
    "name": "ipython",
    "version": 3
   },
   "file_extension": ".py",
   "mimetype": "text/x-python",
   "name": "python",
   "nbconvert_exporter": "python",
   "pygments_lexer": "ipython3",
   "version": "3.8.8"
  }
 },
 "nbformat": 4,
 "nbformat_minor": 5
}
