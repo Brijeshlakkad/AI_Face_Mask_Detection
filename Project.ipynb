{
  "cells": [
    {
      "cell_type": "code",
      "execution_count": 1,
      "id": "ZwmOvfWynTeL",
      "metadata": {
        "colab": {
          "base_uri": "https://localhost:8080/"
        },
        "id": "ZwmOvfWynTeL",
        "outputId": "513e2724-f30e-47ce-e53d-afa0684e2097"
      },
      "outputs": [
        {
          "name": "stdout",
          "output_type": "stream",
          "text": [
            "Drive already mounted at /content/drive; to attempt to forcibly remount, call drive.mount(\"/content/drive\", force_remount=True).\n"
          ]
        }
      ],
      "source": [
        "from google.colab import drive\n",
        "drive.mount('/content/drive')"
      ]
    },
    {
      "cell_type": "code",
      "execution_count": 2,
      "id": "6580d713",
      "metadata": {
        "id": "6580d713"
      },
      "outputs": [],
      "source": [
        "import pandas as pd\n",
        "import os\n",
        "from torch.utils.data import Dataset\n",
        "from PIL import Image\n",
        "import random\n",
        "import torch\n",
        "import torch.nn as nn\n",
        "import torchvision.transforms as transforms\n",
        "from sklearn.model_selection import KFold\n",
        "from torch.utils.data.dataset import Subset\n",
        "from sklearn.metrics import confusion_matrix, classification_report\n",
        "import numpy as np\n",
        "\n",
        "columns = [\"filename\", \"classname\", \"gender\", \"age\"]\n",
        "\n",
        "# BASE = \"./data\"\n",
        "BASE = \"/content/drive/MyDrive/Colab Notebooks/data/preprocessed\"\n",
        "data_csv_file = os.path.join(BASE, \"./data.csv\")\n",
        "data_folder = os.path.join(BASE, \"./images\")\n",
        "root_folder = os.path.join(BASE, \"./\")\n",
        "\n",
        "data_df = pd.read_csv(data_csv_file, skiprows=1, names=columns)"
      ]
    },
    {
      "cell_type": "code",
      "execution_count": 3,
      "id": "d09f94dc",
      "metadata": {
        "id": "d09f94dc"
      },
      "outputs": [],
      "source": [
        "# get image data\n",
        "def getImageData(folder, image_file):\n",
        "    return Image.open(os.path.join(folder, image_file)).convert('RGB') # Load the image\n",
        "\n",
        "# create directory\n",
        "def make_dir(dir_path):\n",
        "    if not os.path.isdir(dir_path):\n",
        "        os.makedirs(dir_path)\n",
        "\n",
        "model_path = os.path.join(root_folder, 'model', 'face_mask_detection.pth')\n",
        "# make_dir(model_path)\n"
      ]
    },
    {
      "cell_type": "code",
      "execution_count": 4,
      "id": "oboqeW3077pC",
      "metadata": {
        "id": "oboqeW3077pC"
      },
      "outputs": [],
      "source": [
        "# predefined classes\n",
        "classes = {\n",
        "    \"face_with_cloth_mask\": 0,\n",
        "    \"face_no_mask\": 1,\n",
        "    \"face_with_ffp2_mask\": 2,\n",
        "    \"face_with_surgical_mask\": 3\n",
        "}\n",
        "\n",
        "genderGroup = {\n",
        "    '0': 'Female',\n",
        "    '1': 'Male'\n",
        "}\n",
        "\n",
        "ageGroup = {\n",
        "    '0': '0-30 Age group',\n",
        "    '1': '30-60 Age Group'\n",
        "}\n",
        "\n",
        "def to_gender_str(label):\n",
        "  return genderGroup[label]\n",
        "\n",
        "def to_age_str(label):\n",
        "  return ageGroup[label]\n",
        "\n",
        "def to_gender_str(label):\n",
        "  return genderGroup[label]\n",
        "\n",
        "def to_age_str(label):\n",
        "  return ageGroup[label]\n",
        "\n",
        "def to_face_mask_type_str(label):\n",
        "  for classname in classes.keys():\n",
        "    if classes[classname] == label:\n",
        "      return classname\n",
        "  return 'NULL'\n",
        "\n",
        "def to_face_mask_type_label(classname):\n",
        "  return classes[classname]\n",
        "\n",
        "def to_gender_label(classname):\n",
        "  for label in genderGroup.keys():\n",
        "    if genderGroup[label] == classname:\n",
        "      return label\n",
        "  return -1\n",
        "\n",
        "def to_age_label(classname):\n",
        "  for label in genderGroup.keys():\n",
        "    if genderGroup[label] == classname:\n",
        "      return label\n",
        "  return -1"
      ]
    },
    {
      "cell_type": "code",
      "execution_count": 5,
      "id": "9002c180",
      "metadata": {
        "id": "9002c180"
      },
      "outputs": [],
      "source": [
        "class FaceMaskDataset(Dataset):\n",
        "    def __init__(self, indexes, conversion=transforms.ToTensor()):\n",
        "        self.dataset = []\n",
        "        self.conversion = conversion\n",
        "        for rowIndex in indexes:\n",
        "            sample = {}\n",
        "            sample['image'] = getImageData(data_folder, data_df[columns[0]][rowIndex])\n",
        "            sample['target'] = to_face_mask_type_label(data_df[columns[1]][rowIndex])\n",
        "            sample['gender'] = str(int(data_df[columns[2]][rowIndex]) - 1)\n",
        "            sample['age'] = str(int(data_df[columns[3]][rowIndex]) - 1)\n",
        "            self.dataset.append(sample)\n",
        "\n",
        "    def __len__(self):\n",
        "        return len(self.dataset)\n",
        "\n",
        "    def __getitem__(self, index):\n",
        "        image = self.dataset[index]['image']\n",
        "        if self.conversion is not None:\n",
        "            image = self.conversion(image)\n",
        "        return image, self.dataset[index]['target'], self.dataset[index]['gender'], self.dataset[index]['age']"
      ]
    },
    {
      "cell_type": "code",
      "execution_count": 6,
      "id": "47d105e6",
      "metadata": {
        "colab": {
          "base_uri": "https://localhost:8080/"
        },
        "id": "47d105e6",
        "outputId": "4bd4523d-ef89-438d-d076-82e94c4906b5"
      },
      "outputs": [
        {
          "name": "stdout",
          "output_type": "stream",
          "text": [
            "size_of_the_dataset 2318\n",
            "Effective train split = 1622\n",
            "Effective test split = 696\n",
            "Effective train split = 69.97411561691112%\n",
            "Effective test split = 30.02588438308887%\n"
          ]
        }
      ],
      "source": [
        "from sklearn.model_selection import train_test_split\n",
        "\n",
        "size_of_the_dataset = int(data_df.shape[0])\n",
        "print(\"size_of_the_dataset\", size_of_the_dataset)\n",
        "\n",
        "batch_size = 20\n",
        "num_of_classes = len(classes.keys())\n",
        "\n",
        "indexes = list(range(size_of_the_dataset))\n",
        "\n",
        "train_indexes, gtest_indexes = train_test_split(indexes, test_size=0.3, shuffle=True)\n",
        "\n",
        "print(f\"Effective train split = {len(train_indexes)}\")\n",
        "# print(f\"Effective val split = {len(val_indexes)}\")\n",
        "print(f\"Effective test split = {len(gtest_indexes)}\")\n",
        "\n",
        "print(f\"Effective train split = {len(train_indexes)/len(indexes)*100}%\")\n",
        "# print(f\"Effective val split = {len(val_indexes)/len(indexes)*100}%\")\n",
        "print(f\"Effective test split = {len(gtest_indexes)/len(indexes)*100}%\")"
      ]
    },
    {
      "cell_type": "code",
      "execution_count": 7,
      "id": "xWtJ0bEh7obY",
      "metadata": {
        "id": "xWtJ0bEh7obY"
      },
      "outputs": [],
      "source": [
        "transform = transforms.Compose(\n",
        "    [transforms.Resize((250, 250)),\n",
        "        transforms.ToTensor()])"
      ]
    },
    {
      "cell_type": "code",
      "execution_count": 8,
      "id": "c58831c3",
      "metadata": {
        "colab": {
          "base_uri": "https://localhost:8080/"
        },
        "id": "c58831c3",
        "outputId": "82d812c1-e372-4259-8fa3-626cf6ffcbb8"
      },
      "outputs": [
        {
          "name": "stdout",
          "output_type": "stream",
          "text": [
            "Loading training set\n"
          ]
        }
      ],
      "source": [
        "print(\"Loading training set\")\n",
        "train_dataset = FaceMaskDataset(train_indexes, conversion=transform)"
      ]
    },
    {
      "cell_type": "code",
      "execution_count": 9,
      "id": "ti3qPWSu6Ibs",
      "metadata": {
        "colab": {
          "base_uri": "https://localhost:8080/"
        },
        "id": "ti3qPWSu6Ibs",
        "outputId": "b6338972-78b5-416e-9112-e01eba419ece"
      },
      "outputs": [
        {
          "name": "stdout",
          "output_type": "stream",
          "text": [
            "Loading test set\n"
          ]
        }
      ],
      "source": [
        "print(\"Loading test set\")\n",
        "\n",
        "gtest_dataset = FaceMaskDataset(gtest_indexes, conversion=transform)\n",
        "# gtest_loader = torch.utils.data.DataLoader(dataset=gtest_dataset, batch_size=batch_size, shuffle=True, num_workers=0)"
      ]
    },
    {
      "cell_type": "code",
      "execution_count": 10,
      "id": "c67379d5",
      "metadata": {
        "colab": {
          "base_uri": "https://localhost:8080/"
        },
        "id": "c67379d5",
        "outputId": "bdd77143-01b1-403f-a682-5dede8aaccf0"
      },
      "outputs": [
        {
          "name": "stdout",
          "output_type": "stream",
          "text": [
            "Using device: cuda\n"
          ]
        }
      ],
      "source": [
        "# import os\n",
        "# os.environ['CUDA_LAUNCH_BLOCKING'] = '1'\n",
        "device = torch.device('cuda' if torch.cuda.is_available() else 'cpu')\n",
        "print('Using device:', device)"
      ]
    },
    {
      "cell_type": "code",
      "execution_count": 11,
      "id": "0a2b3745",
      "metadata": {
        "id": "0a2b3745"
      },
      "outputs": [],
      "source": [
        "import torch.nn as nn\n",
        "import torch.nn.functional as F\n",
        "\n",
        "class FaceMaskClassificationBase(nn.Module):\n",
        "    def training_step(self, batch):\n",
        "        images, labels, _, _ = batch \n",
        "        images, labels = images.to(device), labels.to(device)\n",
        "        out = self(images)                  # Generate predictions\n",
        "        loss = F.cross_entropy(out, labels) # Calculate loss\n",
        "        scores, predictions = torch.max(out.data, 1)\n",
        "        train_correct = (predictions == labels).sum().item()\n",
        "        return loss, train_correct\n",
        "    \n",
        "    def validation_step(self, batch):\n",
        "        images, labels = batch \n",
        "        images, labels = images.to(device), labels.to(device)\n",
        "        out = self(images)                    # Generate predictions\n",
        "        loss = F.cross_entropy(out, labels)   # Calculate loss\n",
        "        acc = accuracy(out, labels)           # Calculate accuracy\n",
        "        return {'val_loss': loss.detach(), 'val_acc': acc}\n",
        "        \n",
        "    def validation_epoch_end(self, outputs):\n",
        "        batch_losses = [x['val_loss'] for x in outputs]\n",
        "        epoch_loss = torch.stack(batch_losses).mean()   # Combine losses\n",
        "        batch_accs = [x['val_acc'] for x in outputs]\n",
        "        epoch_acc = torch.stack(batch_accs).mean()      # Combine accuracies\n",
        "        return {'val_loss': epoch_loss.item(), 'val_acc': epoch_acc.item()}\n",
        "    \n",
        "    def epoch_end(self, epoch, result):\n",
        "        print(\"Epoch [{}], train_loss: {:.4f}, train_accuracy: {:.4f}\".format(\n",
        "            epoch+1, result['train_loss'], result['train_accuracy']))"
      ]
    },
    {
      "cell_type": "code",
      "execution_count": 12,
      "id": "0323ceca",
      "metadata": {
        "id": "0323ceca"
      },
      "outputs": [],
      "source": [
        "class CNN(FaceMaskClassificationBase):\n",
        "    def __init__(self):\n",
        "        super(CNN, self).__init__()\n",
        "        self.conv_layer = nn.Sequential(\n",
        "            nn.Conv2d(in_channels=3, out_channels=128, kernel_size=3, padding=1),\n",
        "            nn.BatchNorm2d(128),\n",
        "            nn.ReLU(inplace=True),\n",
        "            nn.MaxPool2d(kernel_size=2, stride=2),\n",
        "            nn.Dropout(p=0.02),\n",
        "\n",
        "            nn.Conv2d(in_channels=128, out_channels=64, kernel_size=3, padding=1),\n",
        "            nn.BatchNorm2d(64),\n",
        "            nn.ReLU(inplace=True),\n",
        "            nn.MaxPool2d(kernel_size=2, stride=2),\n",
        "            nn.Dropout(p=0.02),\n",
        "\n",
        "            nn.Conv2d(in_channels=64, out_channels=32, kernel_size=3, padding=1),\n",
        "            nn.BatchNorm2d(32),\n",
        "            nn.ReLU(inplace=True),\n",
        "            nn.MaxPool2d(kernel_size=2, stride=2),\n",
        "            nn.Dropout(p=0.02),\n",
        "\n",
        "            nn.Conv2d(in_channels=32, out_channels=64, kernel_size=3, padding=1),\n",
        "            nn.BatchNorm2d(64),\n",
        "            nn.ReLU(inplace=True),\n",
        "            nn.MaxPool2d(kernel_size=2, stride=2),\n",
        "            nn.Dropout(p=0.02),\n",
        "\n",
        "            nn.Conv2d(in_channels=64, out_channels=128, kernel_size=3, padding=1),\n",
        "            nn.BatchNorm2d(128),\n",
        "            nn.ReLU(inplace=True),\n",
        "            nn.MaxPool2d(kernel_size=2, stride=2)\n",
        "        )\n",
        "        self.fc_layer = nn.Sequential(\n",
        "            nn.Dropout(p=0.1),\n",
        "            nn.Linear(6272, 512),\n",
        "            nn.ReLU(inplace=True),\n",
        "            nn.Linear(512, 128),\n",
        "            nn.ReLU(inplace=True),\n",
        "            nn.Dropout(p=0.1),\n",
        "            nn.Linear(128, num_of_classes),\n",
        "        )\n",
        "\n",
        "    def forward(self, x):\n",
        "        # conv layers\n",
        "        x = self.conv_layer(x)\n",
        "        # flatten\n",
        "        x = x.view(x.size(0), -1)\n",
        "        # fc layer\n",
        "        x = self.fc_layer(x)\n",
        "        return x\n"
      ]
    },
    {
      "cell_type": "code",
      "execution_count": 13,
      "id": "QUOnI_PUZ1SM",
      "metadata": {
        "id": "QUOnI_PUZ1SM"
      },
      "outputs": [],
      "source": [
        "def accuracy(outputs, labels):\n",
        "    _, preds = torch.max(outputs, dim=1)\n",
        "    return torch.tensor(torch.sum(preds == labels).item() / len(preds))\n",
        "\n",
        "  \n",
        "@torch.no_grad()\n",
        "def evaluate(model, val_loader):\n",
        "    model.eval()\n",
        "    outputs = [model.validation_step(batch) for batch in val_loader]\n",
        "    return model.validation_epoch_end(outputs)\n",
        "\n",
        "  \n",
        "def fit(epochs, lr, model, train_loader, history, opt_func = torch.optim.SGD):\n",
        "    optimizer = opt_func(model.parameters(),lr)\n",
        "    for epoch in range(epochs):\n",
        "        model.train()\n",
        "        train_losses = []\n",
        "        train_correct = 0\n",
        "        for batch in train_loader:\n",
        "            images, labels, _, _ = batch\n",
        "            # forward-pass: compute-predicted-outputs-by-passing-inputs-to-the-model\n",
        "            loss, correct = model.training_step(batch)\n",
        "            # update-training-loss\n",
        "            train_losses.append(loss)\n",
        "\n",
        "            train_correct += correct\n",
        "            # backward-pass: compute-gradient-of-the-loss-wrt-model-parameters\n",
        "            loss.backward()\n",
        "            # perform-a-single-optimization-step (parameter-update)\n",
        "            optimizer.step()\n",
        "            # clear-the-gradients-of-all-optimized-variables\n",
        "            optimizer.zero_grad()\n",
        "            \n",
        "        #result = evaluate(model, val_loader)\n",
        "        result = {}\n",
        "        result['train_loss'] = torch.stack(train_losses).mean().item()\n",
        "        result['train_accuracy'] = train_correct / len(train_loader.dataset) * 100\n",
        "        \n",
        "        model.epoch_end(epoch, result)\n",
        "        #history.append(result)\n",
        "\n",
        "    history['train_loss'] = result['train_loss']\n",
        "    history['train_accuracy'] = result['train_accuracy']\n",
        "\n",
        "    return history"
      ]
    },
    {
      "cell_type": "code",
      "execution_count": 14,
      "id": "d49d62d7",
      "metadata": {
        "id": "d49d62d7"
      },
      "outputs": [],
      "source": [
        "model = CNN()\n",
        "model = model.to(device)"
      ]
    },
    {
      "cell_type": "code",
      "execution_count": 15,
      "id": "1glLRZm4mi5k",
      "metadata": {
        "id": "1glLRZm4mi5k"
      },
      "outputs": [],
      "source": [
        "from sklearn.metrics import precision_recall_fscore_support as score\n",
        "\n",
        "def test_phase(model, test_loader, history):\n",
        "  y_true = torch.tensor([])\n",
        "  y_true = y_true.to(device)\n",
        "  y_preds = torch.tensor([])\n",
        "  y_preds = y_preds.to(device)\n",
        "\n",
        "  # test-the-model\n",
        "  model.eval()  # it-disables-dropout\n",
        "  with torch.no_grad():\n",
        "      correct = 0\n",
        "      total = 0\n",
        "      for images, labels, _, _ in test_loader:\n",
        "          images = images.to(device)\n",
        "          labels = labels.to(device)\n",
        "          y_true = torch.cat(\n",
        "              (y_true, labels)\n",
        "          )\n",
        "          outputs = model(images)\n",
        "\n",
        "          loss = F.cross_entropy(outputs, labels) # Calculate loss\n",
        "          scores, predicted = torch.max(outputs.data, 1)\n",
        "          \n",
        "\n",
        "          #_, predicted = torch.max(outputs.data, 1)\n",
        "          total += labels.size(0)\n",
        "          correct += (predicted == labels).sum().item()\n",
        "          y_preds = torch.cat(\n",
        "              (y_preds, predicted)\n",
        "          )\n",
        "\n",
        "      test_accuracy = correct / total * 100\n",
        "      print('Test loss of the model: {:.4f} %'.format(loss)) \n",
        "      print('Test Accuracy of the model: {} %'.format(test_accuracy))\n",
        "\n",
        "      history['test_loss'] = loss\n",
        "      history['test_accuracy'] = test_accuracy\n",
        "\n",
        "\n",
        "  y_true = y_true.to('cpu')\n",
        "  y_preds = y_preds.to('cpu')\n",
        "  \n",
        "  precision, recall, fscore, support = score(y_true, y_preds)\n",
        "  print(classification_report(y_true,y_preds))\n",
        "\n",
        "  return history"
      ]
    },
    {
      "cell_type": "code",
      "execution_count": 16,
      "id": "Z3W0xodT6zii",
      "metadata": {
        "id": "Z3W0xodT6zii"
      },
      "outputs": [],
      "source": [
        "k = 10\n",
        "\n",
        "def KFold_creator(model, dataset, batch_size, device):\n",
        "  kfold = KFold(n_splits=k, shuffle=True)\n",
        "  fold_value = 1;\n",
        "  foldperf={}\n",
        "  for fold, (train_idx, test_idx) in enumerate(kfold.split(dataset)):\n",
        "    print('Fold {}'.format(fold + 1))\n",
        "    train_data = Subset(dataset, train_idx)\n",
        "    test_data = Subset(dataset, test_idx)\n",
        "\n",
        "    train_loader = torch.utils.data.DataLoader(dataset=train_data,batch_size=batch_size,num_workers=0, shuffle=True)\n",
        "    test_loader = torch.utils.data.DataLoader(dataset=test_data,batch_size=batch_size,num_workers=0, shuffle=True)\n",
        "    \n",
        "    #model.apply(reset_weights)\n",
        "\n",
        "    history = {'train_loss': 0, 'test_loss': 0,'train_accuracy': 0,'test_accuracy': 0}\n",
        "\n",
        "    history = fit(10, 0.0001, model, train_loader, history, torch.optim.Adam)\n",
        "    history = test_phase(model, test_loader, history)\n",
        "\n",
        "    foldperf['fold{}'.format(fold+1)] = history   \n",
        "  \n",
        "  return foldperf"
      ]
    },
    {
      "cell_type": "code",
      "execution_count": 17,
      "id": "9w6V0fQYA3D-",
      "metadata": {
        "colab": {
          "base_uri": "https://localhost:8080/"
        },
        "id": "9w6V0fQYA3D-",
        "outputId": "a0676190-1f78-457f-8ee4-c3129cfd5ac5"
      },
      "outputs": [
        {
          "name": "stdout",
          "output_type": "stream",
          "text": [
            "Fold 1\n",
            "Epoch [1], train_loss: 1.3123, train_accuracy: 36.6004\n",
            "Epoch [2], train_loss: 1.1419, train_accuracy: 49.8972\n",
            "Epoch [3], train_loss: 1.0198, train_accuracy: 57.5051\n",
            "Epoch [4], train_loss: 0.8963, train_accuracy: 65.0446\n",
            "Epoch [5], train_loss: 0.7826, train_accuracy: 69.2255\n",
            "Epoch [6], train_loss: 0.6729, train_accuracy: 74.9143\n",
            "Epoch [7], train_loss: 0.5529, train_accuracy: 80.1919\n",
            "Epoch [8], train_loss: 0.4302, train_accuracy: 85.1953\n",
            "Epoch [9], train_loss: 0.3729, train_accuracy: 87.7313\n",
            "Epoch [10], train_loss: 0.3038, train_accuracy: 90.0617\n",
            "Test loss of the model: 0.4529 %\n",
            "Test Accuracy of the model: 65.03067484662577 %\n",
            "              precision    recall  f1-score   support\n",
            "\n",
            "         0.0       0.59      0.47      0.52        34\n",
            "         1.0       0.62      0.82      0.71        49\n",
            "         2.0       0.72      0.67      0.69        42\n",
            "         3.0       0.67      0.58      0.62        38\n",
            "\n",
            "    accuracy                           0.65       163\n",
            "   macro avg       0.65      0.63      0.64       163\n",
            "weighted avg       0.65      0.65      0.64       163\n",
            "\n",
            "Fold 2\n",
            "Epoch [1], train_loss: 0.3393, train_accuracy: 88.4853\n",
            "Epoch [2], train_loss: 0.2334, train_accuracy: 93.6258\n",
            "Epoch [3], train_loss: 0.2030, train_accuracy: 93.7629\n",
            "Epoch [4], train_loss: 0.1491, train_accuracy: 95.6820\n",
            "Epoch [5], train_loss: 0.1184, train_accuracy: 97.0528\n",
            "Epoch [6], train_loss: 0.0945, train_accuracy: 97.8067\n",
            "Epoch [7], train_loss: 0.0911, train_accuracy: 97.8067\n",
            "Epoch [8], train_loss: 0.0652, train_accuracy: 98.7663\n",
            "Epoch [9], train_loss: 0.0828, train_accuracy: 97.7382\n",
            "Epoch [10], train_loss: 0.0773, train_accuracy: 98.1494\n",
            "Test loss of the model: 0.0882 %\n",
            "Test Accuracy of the model: 93.25153374233128 %\n",
            "              precision    recall  f1-score   support\n",
            "\n",
            "         0.0       0.83      0.94      0.88        32\n",
            "         1.0       0.97      0.95      0.96        38\n",
            "         2.0       0.97      0.90      0.94        41\n",
            "         3.0       0.94      0.94      0.94        52\n",
            "\n",
            "    accuracy                           0.93       163\n",
            "   macro avg       0.93      0.93      0.93       163\n",
            "weighted avg       0.94      0.93      0.93       163\n",
            "\n",
            "Fold 3\n",
            "Epoch [1], train_loss: 0.1133, train_accuracy: 96.3699\n",
            "Epoch [2], train_loss: 0.0720, train_accuracy: 97.9452\n",
            "Epoch [3], train_loss: 0.0490, train_accuracy: 98.6986\n",
            "Epoch [4], train_loss: 0.0443, train_accuracy: 99.1096\n",
            "Epoch [5], train_loss: 0.0722, train_accuracy: 97.3973\n",
            "Epoch [6], train_loss: 0.1006, train_accuracy: 96.3699\n",
            "Epoch [7], train_loss: 0.0441, train_accuracy: 98.9726\n",
            "Epoch [8], train_loss: 0.0309, train_accuracy: 99.5205\n",
            "Epoch [9], train_loss: 0.0443, train_accuracy: 98.3562\n",
            "Epoch [10], train_loss: 0.0439, train_accuracy: 98.8356\n",
            "Test loss of the model: 0.0053 %\n",
            "Test Accuracy of the model: 94.44444444444444 %\n",
            "              precision    recall  f1-score   support\n",
            "\n",
            "         0.0       0.84      1.00      0.92        38\n",
            "         1.0       0.97      1.00      0.99        33\n",
            "         2.0       1.00      0.87      0.93        55\n",
            "         3.0       0.97      0.94      0.96        36\n",
            "\n",
            "    accuracy                           0.94       162\n",
            "   macro avg       0.95      0.95      0.95       162\n",
            "weighted avg       0.95      0.94      0.94       162\n",
            "\n",
            "Fold 4\n",
            "Epoch [1], train_loss: 0.0745, train_accuracy: 97.6712\n",
            "Epoch [2], train_loss: 0.0433, train_accuracy: 98.6301\n",
            "Epoch [3], train_loss: 0.0329, train_accuracy: 99.1781\n",
            "Epoch [4], train_loss: 0.0445, train_accuracy: 98.6986\n",
            "Epoch [5], train_loss: 0.0521, train_accuracy: 98.0822\n",
            "Epoch [6], train_loss: 0.0325, train_accuracy: 99.2466\n",
            "Epoch [7], train_loss: 0.0747, train_accuracy: 97.0548\n",
            "Epoch [8], train_loss: 0.0604, train_accuracy: 98.2877\n",
            "Epoch [9], train_loss: 0.0520, train_accuracy: 98.0137\n",
            "Epoch [10], train_loss: 0.0256, train_accuracy: 99.1781\n",
            "Test loss of the model: 0.0163 %\n",
            "Test Accuracy of the model: 99.38271604938271 %\n",
            "              precision    recall  f1-score   support\n",
            "\n",
            "         0.0       1.00      1.00      1.00        34\n",
            "         1.0       0.98      1.00      0.99        48\n",
            "         2.0       1.00      1.00      1.00        45\n",
            "         3.0       1.00      0.97      0.99        35\n",
            "\n",
            "    accuracy                           0.99       162\n",
            "   macro avg       0.99      0.99      0.99       162\n",
            "weighted avg       0.99      0.99      0.99       162\n",
            "\n",
            "Fold 5\n",
            "Epoch [1], train_loss: 0.0440, train_accuracy: 98.6301\n",
            "Epoch [2], train_loss: 0.0619, train_accuracy: 97.8767\n",
            "Epoch [3], train_loss: 0.0544, train_accuracy: 98.3562\n",
            "Epoch [4], train_loss: 0.0260, train_accuracy: 99.0411\n",
            "Epoch [5], train_loss: 0.0428, train_accuracy: 98.7671\n",
            "Epoch [6], train_loss: 0.0184, train_accuracy: 99.1781\n",
            "Epoch [7], train_loss: 0.0155, train_accuracy: 99.5205\n",
            "Epoch [8], train_loss: 0.0155, train_accuracy: 99.5205\n",
            "Epoch [9], train_loss: 0.0166, train_accuracy: 99.4521\n",
            "Epoch [10], train_loss: 0.0610, train_accuracy: 97.8767\n",
            "Test loss of the model: 0.0032 %\n",
            "Test Accuracy of the model: 99.38271604938271 %\n",
            "              precision    recall  f1-score   support\n",
            "\n",
            "         0.0       1.00      1.00      1.00        44\n",
            "         1.0       1.00      0.98      0.99        48\n",
            "         2.0       1.00      1.00      1.00        37\n",
            "         3.0       0.97      1.00      0.99        33\n",
            "\n",
            "    accuracy                           0.99       162\n",
            "   macro avg       0.99      0.99      0.99       162\n",
            "weighted avg       0.99      0.99      0.99       162\n",
            "\n",
            "Fold 6\n",
            "Epoch [1], train_loss: 0.0339, train_accuracy: 98.6301\n",
            "Epoch [2], train_loss: 0.0243, train_accuracy: 99.1096\n",
            "Epoch [3], train_loss: 0.0782, train_accuracy: 97.8082\n",
            "Epoch [4], train_loss: 0.0522, train_accuracy: 98.3562\n",
            "Epoch [5], train_loss: 0.0257, train_accuracy: 99.2466\n",
            "Epoch [6], train_loss: 0.0074, train_accuracy: 99.7945\n",
            "Epoch [7], train_loss: 0.0197, train_accuracy: 99.3836\n",
            "Epoch [8], train_loss: 0.0139, train_accuracy: 99.3151\n",
            "Epoch [9], train_loss: 0.0634, train_accuracy: 97.8082\n",
            "Epoch [10], train_loss: 0.0210, train_accuracy: 99.3151\n",
            "Test loss of the model: 1.8281 %\n",
            "Test Accuracy of the model: 98.76543209876543 %\n",
            "              precision    recall  f1-score   support\n",
            "\n",
            "         0.0       1.00      0.97      0.99        38\n",
            "         1.0       1.00      1.00      1.00        45\n",
            "         2.0       0.98      1.00      0.99        47\n",
            "         3.0       0.97      0.97      0.97        32\n",
            "\n",
            "    accuracy                           0.99       162\n",
            "   macro avg       0.99      0.99      0.99       162\n",
            "weighted avg       0.99      0.99      0.99       162\n",
            "\n",
            "Fold 7\n",
            "Epoch [1], train_loss: 0.0365, train_accuracy: 98.7671\n",
            "Epoch [2], train_loss: 0.0235, train_accuracy: 99.2466\n",
            "Epoch [3], train_loss: 0.0246, train_accuracy: 99.1096\n",
            "Epoch [4], train_loss: 0.0388, train_accuracy: 98.4932\n",
            "Epoch [5], train_loss: 0.0361, train_accuracy: 98.8356\n",
            "Epoch [6], train_loss: 0.0107, train_accuracy: 99.7260\n",
            "Epoch [7], train_loss: 0.0063, train_accuracy: 99.7945\n",
            "Epoch [8], train_loss: 0.0053, train_accuracy: 99.7945\n",
            "Epoch [9], train_loss: 0.0203, train_accuracy: 99.2466\n",
            "Epoch [10], train_loss: 0.0201, train_accuracy: 99.1781\n",
            "Test loss of the model: 0.0000 %\n",
            "Test Accuracy of the model: 98.76543209876543 %\n",
            "              precision    recall  f1-score   support\n",
            "\n",
            "         0.0       1.00      0.97      0.98        33\n",
            "         1.0       1.00      1.00      1.00        46\n",
            "         2.0       0.98      0.98      0.98        45\n",
            "         3.0       0.97      1.00      0.99        38\n",
            "\n",
            "    accuracy                           0.99       162\n",
            "   macro avg       0.99      0.99      0.99       162\n",
            "weighted avg       0.99      0.99      0.99       162\n",
            "\n",
            "Fold 8\n",
            "Epoch [1], train_loss: 0.0544, train_accuracy: 98.3562\n",
            "Epoch [2], train_loss: 0.0132, train_accuracy: 99.5205\n",
            "Epoch [3], train_loss: 0.0227, train_accuracy: 99.3836\n",
            "Epoch [4], train_loss: 0.0175, train_accuracy: 99.4521\n",
            "Epoch [5], train_loss: 0.0201, train_accuracy: 99.0411\n",
            "Epoch [6], train_loss: 0.0132, train_accuracy: 99.5890\n",
            "Epoch [7], train_loss: 0.0435, train_accuracy: 98.6301\n",
            "Epoch [8], train_loss: 0.0399, train_accuracy: 98.9041\n",
            "Epoch [9], train_loss: 0.0260, train_accuracy: 98.7671\n",
            "Epoch [10], train_loss: 0.0105, train_accuracy: 99.5890\n",
            "Test loss of the model: 0.0001 %\n",
            "Test Accuracy of the model: 99.38271604938271 %\n",
            "              precision    recall  f1-score   support\n",
            "\n",
            "         0.0       1.00      1.00      1.00        38\n",
            "         1.0       1.00      1.00      1.00        35\n",
            "         2.0       1.00      0.98      0.99        47\n",
            "         3.0       0.98      1.00      0.99        42\n",
            "\n",
            "    accuracy                           0.99       162\n",
            "   macro avg       0.99      0.99      0.99       162\n",
            "weighted avg       0.99      0.99      0.99       162\n",
            "\n",
            "Fold 9\n",
            "Epoch [1], train_loss: 0.0352, train_accuracy: 98.6301\n",
            "Epoch [2], train_loss: 0.0146, train_accuracy: 99.3151\n",
            "Epoch [3], train_loss: 0.0096, train_accuracy: 99.4521\n",
            "Epoch [4], train_loss: 0.0346, train_accuracy: 98.3562\n",
            "Epoch [5], train_loss: 0.0353, train_accuracy: 98.9041\n",
            "Epoch [6], train_loss: 0.0200, train_accuracy: 99.1096\n",
            "Epoch [7], train_loss: 0.0170, train_accuracy: 99.2466\n",
            "Epoch [8], train_loss: 0.0199, train_accuracy: 99.1096\n",
            "Epoch [9], train_loss: 0.0202, train_accuracy: 99.3836\n",
            "Epoch [10], train_loss: 0.0068, train_accuracy: 99.5890\n",
            "Test loss of the model: 0.0001 %\n",
            "Test Accuracy of the model: 99.38271604938271 %\n",
            "              precision    recall  f1-score   support\n",
            "\n",
            "         0.0       0.96      1.00      0.98        24\n",
            "         1.0       1.00      1.00      1.00        52\n",
            "         2.0       1.00      1.00      1.00        49\n",
            "         3.0       1.00      0.97      0.99        37\n",
            "\n",
            "    accuracy                           0.99       162\n",
            "   macro avg       0.99      0.99      0.99       162\n",
            "weighted avg       0.99      0.99      0.99       162\n",
            "\n",
            "Fold 10\n",
            "Epoch [1], train_loss: 0.0153, train_accuracy: 99.5890\n",
            "Epoch [2], train_loss: 0.0435, train_accuracy: 98.6301\n",
            "Epoch [3], train_loss: 0.0200, train_accuracy: 99.1781\n",
            "Epoch [4], train_loss: 0.0088, train_accuracy: 99.7260\n",
            "Epoch [5], train_loss: 0.0200, train_accuracy: 99.3836\n",
            "Epoch [6], train_loss: 0.0196, train_accuracy: 98.9726\n",
            "Epoch [7], train_loss: 0.0124, train_accuracy: 99.3836\n",
            "Epoch [8], train_loss: 0.0388, train_accuracy: 98.6986\n",
            "Epoch [9], train_loss: 0.0339, train_accuracy: 98.4932\n",
            "Epoch [10], train_loss: 0.0109, train_accuracy: 99.5205\n",
            "Test loss of the model: 0.0005 %\n",
            "Test Accuracy of the model: 96.91358024691358 %\n",
            "              precision    recall  f1-score   support\n",
            "\n",
            "         0.0       0.97      0.88      0.92        32\n",
            "         1.0       0.90      1.00      0.95        36\n",
            "         2.0       1.00      1.00      1.00        41\n",
            "         3.0       1.00      0.98      0.99        53\n",
            "\n",
            "    accuracy                           0.97       162\n",
            "   macro avg       0.97      0.96      0.96       162\n",
            "weighted avg       0.97      0.97      0.97       162\n",
            "\n"
          ]
        }
      ],
      "source": [
        "from sklearn.metrics import confusion_matrix, classification_report\n",
        "\n",
        "foldperf = KFold_creator(model, train_dataset, batch_size, device)"
      ]
    },
    {
      "cell_type": "code",
      "execution_count": 18,
      "id": "FSudP9KCBLgI",
      "metadata": {
        "colab": {
          "base_uri": "https://localhost:8080/"
        },
        "id": "FSudP9KCBLgI",
        "outputId": "19c2b916-977a-47a6-9811-92086d5d3c32"
      },
      "outputs": [
        {
          "name": "stdout",
          "output_type": "stream",
          "text": [
            "Performance of 10 fold cross validation\n",
            "Average Training Loss: 0.0581 \t Average Test Loss: 0.2395 \t Average Training Acc: 98.1293 \t Average Test Acc: 94.4702\n"
          ]
        }
      ],
      "source": [
        "testLoss, trainLoss, testAccuracy, trainAccuracy = [], [], [], []\n",
        "for f in range(1, k+1):\n",
        "  trainLoss.append(foldperf['fold{}'.format(f)]['train_loss'])\n",
        "  trainAccuracy.append(foldperf['fold{}'.format(f)]['train_accuracy'])\n",
        "  testLoss.append(foldperf['fold{}'.format(f)]['test_loss'])\n",
        "  testAccuracy.append(foldperf['fold{}'.format(f)]['test_accuracy'])\n",
        "\n",
        "print('Performance of {} fold cross validation'.format(k))\n",
        "print(\"Average Training Loss: {:.4f} \\t Average Test Loss: {:.4f} \\t Average Training Acc: {:.4f} \\t Average Test Acc: {:.4f}\".format(np.mean(trainLoss),sum(testLoss)/k,np.mean(trainAccuracy),sum(testAccuracy)/k))     "
      ]
    },
    {
      "cell_type": "code",
      "execution_count": 19,
      "id": "UwUEpIgGBJb9",
      "metadata": {
        "id": "UwUEpIgGBJb9"
      },
      "outputs": [],
      "source": [
        "import matplotlib.pyplot as plt\n",
        "\n",
        "def plot_accuracies(trainAccuracy, testAccuracy):\n",
        "    \"\"\" Plot the accuracies in each fold\"\"\"\n",
        "    plt.figure(figsize=(10,8))\n",
        "    plt.semilogy(trainAccuracy, label='Train')\n",
        "    plt.semilogy(testAccuracy, label='Test')\n",
        "    plt.xlabel('Fold')\n",
        "    plt.ylabel('Accuracy')\n",
        "    plt.legend()\n",
        "    plt.title('Accuracy vs. No. of folds')\n",
        "    plt.show()"
      ]
    },
    {
      "cell_type": "code",
      "execution_count": 20,
      "id": "yTyB5WqABKKO",
      "metadata": {
        "colab": {
          "base_uri": "https://localhost:8080/",
          "height": 513
        },
        "id": "yTyB5WqABKKO",
        "outputId": "108b9404-6515-43df-a670-60e481ec2e13"
      },
      "outputs": [
        {
          "data": {
            "image/png": "[encoded data removed]",
            "text/plain": [
              "<Figure size 720x576 with 1 Axes>"
            ]
          },
          "metadata": {
            "needs_background": "light"
          },
          "output_type": "display_data"
        }
      ],
      "source": [
        "plot_accuracies(trainAccuracy, testAccuracy)\n"
      ]
    },
    {
      "cell_type": "code",
      "execution_count": 21,
      "id": "ujJGbJ0XcV1X",
      "metadata": {
        "id": "ujJGbJ0XcV1X"
      },
      "outputs": [],
      "source": [
        "def model_predict(model, dataset):\n",
        "  y_actuals = []\n",
        "  y_preds = torch.tensor([])\n",
        "  y_preds = y_preds.to(device)\n",
        "\n",
        "  # test-the-model\n",
        "  model.eval()  # it-disables-dropout\n",
        "  with torch.no_grad():\n",
        "      for image, label, _, _ in dataset:\n",
        "        image = image.unsqueeze(0)\n",
        "        image = image.to(device)\n",
        "        outputs = model(image)\n",
        "        _, predicted = torch.max(outputs.data, 1)\n",
        "        predicted = predicted.unsqueeze(0)\n",
        "        y_preds = torch.cat(\n",
        "            (y_preds, predicted)\n",
        "        )\n",
        "\n",
        "        y_actuals.append(label)\n",
        "  return np.array(y_actuals, dtype=np.float64), torch.reshape(y_preds.to('cpu'), (-1, )).numpy()"
      ]
    },
    {
      "cell_type": "code",
      "execution_count": 22,
      "id": "QSiViMuXfOMr",
      "metadata": {
        "id": "QSiViMuXfOMr"
      },
      "outputs": [],
      "source": [
        "y_actuals, y_preds = model_predict(model, gtest_dataset)"
      ]
    },
    {
      "cell_type": "code",
      "execution_count": 23,
      "id": "wcijeLXnnChS",
      "metadata": {
        "id": "wcijeLXnnChS"
      },
      "outputs": [],
      "source": [
        "from sklearn.metrics import confusion_matrix, classification_report\n",
        "import seaborn as sns\n",
        "import matplotlib.pyplot as plt\n",
        "\n",
        "def heat_map(y_true, y_preds, x_label, y_label, title):\n",
        "    matrix = confusion_matrix(y_true, y_preds)\n",
        "    plt.figure(figsize = (10,7))\n",
        "    ax = sns.heatmap(matrix, fmt='', annot=True, cmap='Blues')\n",
        "    ax.set_title(title);\n",
        "    ax.set_xlabel(x_label)\n",
        "    ax.set_ylabel(y_label)\n",
        "    ax.xaxis.set_ticklabels([i for i in classes.keys()])\n",
        "    ax.yaxis.set_ticklabels([i for i in classes.keys()])\n",
        "    plt.show()\n",
        "\n",
        "def show_confusion_matrix(y_actuals, y_preds):\n",
        "  precision, recall, fscore, support = score(y_actuals, y_preds)\n",
        "  print(classification_report(y_actuals,y_preds))"
      ]
    },
    {
      "cell_type": "code",
      "execution_count": 24,
      "id": "_MHunGoknLtD",
      "metadata": {
        "colab": {
          "base_uri": "https://localhost:8080/",
          "height": 661
        },
        "id": "_MHunGoknLtD",
        "outputId": "e1675f05-27e6-4dce-ddd1-f4835d42aadb"
      },
      "outputs": [
        {
          "name": "stdout",
          "output_type": "stream",
          "text": [
            "              precision    recall  f1-score   support\n",
            "\n",
            "         0.0       0.88      0.51      0.64       170\n",
            "         1.0       0.63      0.90      0.74       185\n",
            "         2.0       0.81      0.77      0.79       184\n",
            "         3.0       0.70      0.72      0.71       157\n",
            "\n",
            "    accuracy                           0.73       696\n",
            "   macro avg       0.76      0.72      0.72       696\n",
            "weighted avg       0.75      0.73      0.72       696\n",
            "\n"
          ]
        },
        {
          "data": {
            "image/png": "[encoded data removed]",
            "text/plain": [
              "<Figure size 720x504 with 2 Axes>"
            ]
          },
          "metadata": {
            "needs_background": "light"
          },
          "output_type": "display_data"
        }
      ],
      "source": [
        "show_confusion_matrix(y_actuals, y_preds)\n",
        "\n",
        "heat_map(y_actuals, y_preds, 'Predicted Mask Type', 'Actual Mask Type', 'Confusion Matrix with labels!!')"
      ]
    },
    {
      "cell_type": "code",
      "execution_count": 25,
      "id": "2z1_wcy1eN8-",
      "metadata": {
        "id": "2z1_wcy1eN8-"
      },
      "outputs": [],
      "source": [
        "def split_test_set_by_category(dataset, class_index, group):\n",
        "  \"\"\"\n",
        "  Returns two datasets from spliting, based on the binary category it belongs to (e.g. Female/Male).\n",
        "  \"\"\"\n",
        "  label_0, label_1 = group.keys()\n",
        "  \n",
        "  test_0 = []\n",
        "  test_1 = []\n",
        "  for index, row in enumerate(dataset):\n",
        "    if row[class_index] == label_0:\n",
        "      test_0.append(index)\n",
        "    elif row[class_index] == label_1:\n",
        "      test_1.append(index)\n",
        "\n",
        "  return test_0, test_1\n",
        "\n",
        "def calculate_classification_metrics(y_actual, y_predicted, threshold):\n",
        "  throshold_layer = lambda x: 1 if x >= threshold else 0\n",
        "  \n",
        "  y_predicted = np.array([throshold_layer(i) for i in y_predicted], dtype=np.float64)\n",
        "\n",
        "  cf_matrix = confusion_matrix(y_actual, y_predicted).ravel()\n",
        "\n",
        "  tn, fp, fn, tp = cf_matrix[0], cf_matrix[1], cf_matrix[2], cf_matrix[3]\n",
        "  \"\"\" Positive rate: % classified as positive (% predicted with correct face mask type) \"\"\"\n",
        "  pr = (tp + fp) / (tn + fp + fn + tp)\n",
        "\n",
        "  \"\"\" Negative rate: % classified as negative (% predicted to default) \"\"\"\n",
        "  nr = (tn + fn) / (tn + fp + fn + tp)\n",
        "\n",
        "  \"\"\" True positive rate: % of all positive that were classified correctly with its face mask. \"\"\"\n",
        "  tpr = 0\n",
        "  if (tp + fn) != 0:\n",
        "    tpr = tp / (tp + fn)\n",
        "\n",
        "  \"\"\" False positive rate: % of all negatives that we miss-classified with the face mask. \"\"\"\n",
        "  fpr = 0\n",
        "  if (fp + tn) != 0:\n",
        "    fpr = fp / (fp + tn)\n",
        "\n",
        "  return tp, fp, pr, nr, tpr, fpr\n",
        "\n",
        "\n",
        "def run_algorithmic_interventions(test_0, test_1):\n",
        "  results_columns = ['IntervationName', 'Correct', 'threshold_0', 'threshold_1', 'TruePositive0', 'FalsePositive0',\n",
        "                       'PositiveRate0', 'NegativeRate0', 'TruePositiveRate0', 'FalsePositiveRate0', 'TruePositive1',\n",
        "                       'FalsePositive1', 'PositiveRate1', 'NegativeRate1', 'TruePositiveRate1', 'FalsePositiveRate1']\n",
        "                       \n",
        "  results_df = pd.DataFrame(columns=results_columns)\n",
        "\n",
        "  thresholds = np.arange(0, 1.01, 0.02)\n",
        "\n",
        "  for t0 in thresholds:\n",
        "      for t1 in thresholds:\n",
        "\n",
        "          results_group_0 = calculate_classification_metrics(test_0[0], test_0[1], t0)\n",
        "\n",
        "          results_group_1 = calculate_classification_metrics(test_1[0], test_1[1], t1)\n",
        "\n",
        "          tp0, fp0, pr0, nr0, tpr0, fpr0 = results_group_0\n",
        "          tp1, fp1, pr1, nr1, tpr1, fpr1 = results_group_1\n",
        "\n",
        "          bias_function = (tp0 + tp1) - (fp0 + fp1)\n",
        "\n",
        "          \"\"\"\n",
        "          Intervention 1: no fairness constraint\n",
        "          \"\"\"\n",
        "          results_df = results_df.append(\n",
        "              pd.DataFrame(\n",
        "                  columns=results_columns,\n",
        "                  data=[('MaxProfit', bias_function, t0, t1) + results_group_0 + results_group_1]))\n",
        "\n",
        "          \"\"\"\n",
        "          Intervention 2: uses same FICO (Fair credit score) threshold for all groups\n",
        "          \"\"\"\n",
        "          if t0 == t1:\n",
        "              results_df = results_df.append(pd.DataFrame(\n",
        "                  columns=results_columns,\n",
        "                  data=[('GroupUnawareness', bias_function, t0, t1) + results_group_0 + results_group_1]))\n",
        "\n",
        "          \"\"\"\n",
        "          Intervention 3: picks for each group a threshold such that the fraction of group members wearing the different types of face masks is the same\n",
        "          \"\"\"\n",
        "          if round(pr0, 2) == round(pr1, 2):\n",
        "              results_df = results_df.append(pd.DataFrame(\n",
        "                  columns=results_columns,\n",
        "                  data=[('DemographicParity', bias_function, t0, t1) + results_group_0 + results_group_1]))\n",
        "\n",
        "          \"\"\"\n",
        "          Intervention 4: picks a threshold for each group such that fraction of people with the correct labeled face mask group members is the same.\n",
        "          \"\"\"\n",
        "          if round(tpr0, 2) == round(tpr1, 2):\n",
        "              results_df = results_df.append(pd.DataFrame(\n",
        "                  columns=results_columns,\n",
        "                  data=[('EqualOpportunity', bias_function, t0, t1) + results_group_0 + results_group_1]))\n",
        "              \"\"\"\n",
        "              Intervention 5: requires both the fraction of people with the correct labeled face mask and the fraction of people with the incorrect labeled face mask to be constant across groups.\n",
        "              \"\"\"\n",
        "              if round(fpr0, 2) == round(fpr1, 2):\n",
        "                  results_df = results_df.append(pd.DataFrame(\n",
        "                      columns=results_columns,\n",
        "                      data=[('EqualisedOdds', bias_function, t0, t1) + results_group_0 + results_group_1]))\n",
        "            \n",
        "  return results_df"
      ]
    },
    {
      "cell_type": "code",
      "execution_count": 26,
      "id": "BZlDU8LB618S",
      "metadata": {
        "colab": {
          "base_uri": "https://localhost:8080/"
        },
        "id": "BZlDU8LB618S",
        "outputId": "a4efe85e-3db4-48c7-96d0-8890aa88b7b1"
      },
      "outputs": [
        {
          "name": "stdout",
          "output_type": "stream",
          "text": [
            "[0, 2, 5, 6, 7, 9, 12, 14, 16, 19, 20, 21, 24, 25, 27, 30, 31, 32, 34, 37, 40, 41, 42, 43, 45, 53, 54, 55, 57, 59, 60, 61, 62, 64, 65, 67, 74, 77, 78, 80, 81, 83, 84, 86, 87, 91, 94, 95, 98, 99, 100, 101, 102, 106, 109, 110, 112, 116, 117, 118, 119, 121, 122, 126, 127, 128, 129, 130, 132, 133, 134, 135, 136, 138, 139, 143, 144, 145, 148, 150, 151, 153, 154, 156, 158, 159, 160, 162, 163, 166, 174, 179, 180, 182, 183, 185, 186, 187, 190, 197, 198, 199, 200, 201, 204, 209, 210, 212, 215, 218, 220, 223, 224, 227, 232, 234, 236, 238, 241, 243, 245, 246, 249, 250, 252, 254, 255, 256, 257, 258, 260, 261, 262, 264, 266, 267, 269, 273, 274, 281, 287, 289, 291, 292, 293, 296, 297, 299, 305, 313, 316, 317, 319, 321, 324, 325, 326, 327, 328, 334, 336, 338, 342, 343, 345, 346, 348, 351, 352, 353, 354, 358, 360, 362, 365, 366, 370, 376, 377, 378, 379, 380, 381, 385, 386, 387, 388, 390, 392, 394, 395, 396, 400, 403, 405, 408, 409, 410, 412, 416, 417, 421, 422, 428, 429, 430, 432, 433, 436, 437, 438, 444, 446, 450, 451, 453, 455, 457, 458, 459, 460, 461, 462, 463, 465, 470, 472, 476, 479, 480, 481, 483, 484, 485, 486, 488, 489, 494, 495, 496, 498, 501, 502, 504, 506, 507, 508, 510, 511, 512, 513, 514, 515, 516, 517, 518, 521, 522, 524, 526, 527, 529, 532, 534, 535, 536, 537, 538, 539, 540, 542, 543, 545, 549, 552, 556, 557, 561, 567, 575, 576, 578, 579, 580, 581, 583, 584, 585, 587, 588, 589, 594, 596, 597, 599, 600, 603, 604, 605, 606, 607, 608, 609, 612, 614, 619, 622, 626, 628, 629, 631, 632, 633, 634, 636, 637, 638, 639, 642, 643, 645, 646, 647, 649, 651, 652, 653, 654, 657, 658, 659, 661, 663, 665, 666, 671, 676, 679, 681, 683, 684, 685, 686, 688, 694, 695]\n",
            "[1, 3, 4, 8, 10, 11, 13, 15, 17, 18, 22, 23, 26, 28, 29, 33, 35, 36, 38, 39, 44, 46, 47, 48, 49, 50, 51, 52, 56, 58, 63, 66, 68, 69, 70, 71, 72, 73, 75, 76, 79, 82, 85, 88, 89, 90, 92, 93, 96, 97, 103, 104, 105, 107, 108, 111, 113, 114, 115, 120, 123, 124, 125, 131, 137, 140, 141, 142, 146, 147, 149, 152, 155, 157, 161, 164, 165, 167, 168, 169, 170, 171, 172, 173, 175, 176, 177, 178, 181, 184, 188, 189, 191, 192, 193, 194, 195, 196, 202, 203, 205, 206, 207, 208, 211, 213, 214, 216, 217, 219, 221, 222, 225, 226, 228, 229, 230, 231, 233, 235, 237, 239, 240, 242, 244, 247, 248, 251, 253, 259, 263, 265, 268, 270, 271, 272, 275, 276, 277, 278, 279, 280, 282, 283, 284, 285, 286, 288, 290, 294, 295, 298, 300, 301, 302, 303, 304, 306, 307, 308, 309, 310, 311, 312, 314, 315, 318, 320, 322, 323, 329, 330, 331, 332, 333, 335, 337, 339, 340, 341, 344, 347, 349, 350, 355, 356, 357, 359, 361, 363, 364, 367, 368, 369, 371, 372, 373, 374, 375, 382, 383, 384, 389, 391, 393, 397, 398, 399, 401, 402, 404, 406, 407, 411, 413, 414, 415, 418, 419, 420, 423, 424, 425, 426, 427, 431, 434, 435, 439, 440, 441, 442, 443, 445, 447, 448, 449, 452, 454, 456, 464, 466, 467, 468, 469, 471, 473, 474, 475, 477, 478, 482, 487, 490, 491, 492, 493, 497, 499, 500, 503, 505, 509, 519, 520, 523, 525, 528, 530, 531, 533, 541, 544, 546, 547, 548, 550, 551, 553, 554, 555, 558, 559, 560, 562, 563, 564, 565, 566, 568, 569, 570, 571, 572, 573, 574, 577, 582, 586, 590, 591, 592, 593, 595, 598, 601, 602, 610, 611, 613, 615, 616, 617, 618, 620, 621, 623, 624, 625, 627, 630, 635, 640, 641, 644, 648, 650, 655, 656, 660, 662, 664, 667, 668, 669, 670, 672, 673, 674, 675, 677, 678, 680, 682, 687, 689, 690, 691, 692, 693]\n"
          ]
        }
      ],
      "source": [
        "# Bias measures by Gender\n",
        "test_gender_female_indexes, test_gender_male_indexes = split_test_set_by_category(gtest_dataset, columns.index('gender'), genderGroup)\n",
        "\n",
        "print(test_gender_female_indexes)\n",
        "print(test_gender_male_indexes)"
      ]
    },
    {
      "cell_type": "code",
      "execution_count": 27,
      "id": "fJWpObBxPPXK",
      "metadata": {
        "id": "fJWpObBxPPXK"
      },
      "outputs": [],
      "source": [
        "y_gender_female_actuals = np.array([y_actuals[i] for i in test_gender_female_indexes], dtype=np.float64)\n",
        "y_gender_female_predictions = np.array([y_preds[i] for i in test_gender_female_indexes], dtype=np.float64)\n",
        "\n",
        "y_gender_male_actuals = np.array([y_actuals[i] for i in test_gender_male_indexes], dtype=np.float64)\n",
        "y_gender_male_predictions = np.array([y_preds[i] for i in test_gender_male_indexes], dtype=np.float64)"
      ]
    },
    {
      "cell_type": "code",
      "execution_count": 28,
      "id": "mUPD_WTEmrR4",
      "metadata": {
        "colab": {
          "base_uri": "https://localhost:8080/",
          "height": 661
        },
        "id": "mUPD_WTEmrR4",
        "outputId": "fb27d351-4953-4e9d-fd16-981367fbd8f9"
      },
      "outputs": [
        {
          "name": "stdout",
          "output_type": "stream",
          "text": [
            "              precision    recall  f1-score   support\n",
            "\n",
            "         0.0       0.90      0.58      0.71       108\n",
            "         1.0       0.59      0.87      0.71        77\n",
            "         2.0       0.70      0.74      0.72        76\n",
            "         3.0       0.69      0.67      0.68        85\n",
            "\n",
            "    accuracy                           0.70       346\n",
            "   macro avg       0.72      0.72      0.70       346\n",
            "weighted avg       0.74      0.70      0.70       346\n",
            "\n"
          ]
        },
        {
          "data": {
            "image/png": "[encoded data removed]",
            "text/plain": [
              "<Figure size 720x504 with 2 Axes>"
            ]
          },
          "metadata": {
            "needs_background": "light"
          },
          "output_type": "display_data"
        }
      ],
      "source": [
        "show_confusion_matrix(y_gender_female_actuals, y_gender_female_predictions)\n",
        "\n",
        "heat_map(y_gender_female_actuals, y_gender_female_predictions, 'Predicted Mask Type', 'Actual Mask Type', 'Gender - Confusion Matrix with labels by Female!!')"
      ]
    },
    {
      "cell_type": "code",
      "execution_count": 29,
      "id": "vtkH4COPot7l",
      "metadata": {
        "colab": {
          "base_uri": "https://localhost:8080/",
          "height": 661
        },
        "id": "vtkH4COPot7l",
        "outputId": "79f9cf51-36cd-4793-8489-4422352beec9"
      },
      "outputs": [
        {
          "name": "stdout",
          "output_type": "stream",
          "text": [
            "              precision    recall  f1-score   support\n",
            "\n",
            "         0.0       0.82      0.37      0.51        62\n",
            "         1.0       0.66      0.92      0.77       108\n",
            "         2.0       0.90      0.79      0.84       108\n",
            "         3.0       0.72      0.78      0.75        72\n",
            "\n",
            "    accuracy                           0.75       350\n",
            "   macro avg       0.78      0.71      0.72       350\n",
            "weighted avg       0.78      0.75      0.74       350\n",
            "\n"
          ]
        },
        {
          "data": {
            "image/png": "[encoded data removed]",
            "text/plain": [
              "<Figure size 720x504 with 2 Axes>"
            ]
          },
          "metadata": {
            "needs_background": "light"
          },
          "output_type": "display_data"
        }
      ],
      "source": [
        "show_confusion_matrix(y_gender_male_actuals, y_gender_male_predictions)\n",
        "\n",
        "heat_map(y_gender_male_actuals, y_gender_male_predictions, 'Predicted Mask Type', 'Actual Mask Type', 'Gender - Confusion Matrix with labels by Male!!')"
      ]
    },
    {
      "cell_type": "code",
      "execution_count": 30,
      "id": "Zd1Zj2EyVAdB",
      "metadata": {
        "id": "Zd1Zj2EyVAdB"
      },
      "outputs": [],
      "source": [
        "gender_results = run_algorithmic_interventions(\n",
        "    [y_gender_female_actuals, y_gender_female_predictions],\n",
        "    [y_gender_male_actuals, y_gender_male_predictions]\n",
        ")\n",
        "\n",
        "gender_results.to_csv(os.path.join(root_folder, 'fairness_by_gender.csv'))"
      ]
    },
    {
      "cell_type": "code",
      "execution_count": 31,
      "id": "842b7mpiBFw7",
      "metadata": {
        "colab": {
          "base_uri": "https://localhost:8080/"
        },
        "id": "842b7mpiBFw7",
        "outputId": "6ac2c59f-cb2c-4101-ae02-a5b681057972"
      },
      "outputs": [
        {
          "name": "stdout",
          "output_type": "stream",
          "text": [
            "[0, 1, 2, 4, 6, 8, 9, 10, 11, 12, 13, 14, 15, 17, 18, 19, 20, 21, 22, 24, 26, 27, 28, 31, 32, 33, 34, 36, 37, 39, 42, 43, 45, 46, 47, 51, 52, 53, 54, 55, 56, 57, 58, 59, 60, 64, 65, 66, 70, 71, 76, 77, 80, 82, 83, 84, 85, 86, 87, 88, 89, 94, 96, 97, 100, 101, 102, 103, 104, 105, 106, 107, 109, 110, 111, 113, 114, 115, 116, 117, 119, 121, 123, 124, 126, 127, 128, 129, 130, 131, 132, 135, 136, 137, 138, 139, 140, 141, 145, 146, 150, 151, 152, 153, 154, 156, 158, 159, 162, 163, 165, 166, 169, 170, 171, 173, 174, 178, 181, 183, 185, 190, 194, 195, 196, 197, 198, 199, 201, 202, 204, 205, 206, 207, 208, 209, 210, 211, 213, 214, 217, 218, 220, 221, 222, 223, 224, 225, 226, 227, 231, 233, 234, 235, 237, 238, 239, 240, 241, 242, 243, 245, 246, 248, 249, 251, 252, 253, 255, 256, 257, 258, 259, 260, 262, 263, 265, 268, 269, 272, 273, 275, 280, 282, 283, 286, 287, 289, 292, 293, 294, 295, 296, 298, 299, 303, 304, 305, 306, 307, 309, 310, 312, 313, 314, 315, 316, 317, 318, 319, 321, 322, 323, 324, 325, 328, 330, 332, 333, 335, 336, 338, 339, 341, 343, 344, 345, 346, 349, 351, 353, 355, 356, 357, 358, 359, 360, 364, 367, 368, 370, 371, 372, 374, 375, 376, 377, 378, 379, 380, 383, 385, 386, 389, 390, 392, 393, 395, 396, 397, 398, 399, 405, 406, 407, 408, 409, 410, 411, 412, 414, 416, 417, 418, 419, 420, 421, 422, 423, 424, 425, 427, 428, 430, 431, 432, 434, 436, 437, 443, 444, 445, 447, 450, 452, 454, 456, 459, 461, 463, 464, 466, 467, 469, 470, 471, 472, 475, 476, 479, 480, 481, 482, 483, 484, 485, 486, 487, 488, 491, 492, 493, 496, 497, 498, 499, 500, 501, 503, 505, 507, 508, 509, 511, 513, 515, 516, 518, 519, 520, 521, 526, 527, 528, 529, 530, 531, 532, 533, 534, 535, 536, 538, 539, 541, 542, 543, 544, 545, 546, 547, 549, 550, 553, 554, 555, 556, 559, 560, 561, 562, 563, 564, 566, 567, 568, 569, 570, 571, 573, 574, 576, 577, 578, 579, 581, 582, 583, 584, 585, 586, 589, 592, 593, 595, 596, 597, 598, 599, 601, 602, 604, 605, 607, 608, 611, 612, 613, 614, 615, 616, 617, 618, 619, 620, 622, 623, 624, 625, 626, 628, 629, 630, 631, 633, 634, 638, 640, 641, 642, 644, 647, 648, 649, 650, 651, 652, 653, 654, 655, 658, 662, 663, 664, 666, 668, 669, 670, 671, 672, 675, 677, 678, 679, 680, 681, 684, 685, 686, 687, 689, 691, 693]\n",
            "[3, 5, 7, 16, 23, 25, 29, 30, 35, 38, 40, 41, 44, 48, 49, 50, 61, 62, 63, 67, 68, 69, 72, 73, 74, 75, 78, 79, 81, 90, 91, 92, 93, 95, 98, 99, 108, 112, 118, 120, 122, 125, 133, 134, 142, 143, 144, 147, 148, 149, 155, 157, 160, 161, 164, 167, 168, 172, 175, 176, 177, 179, 180, 182, 184, 186, 187, 188, 189, 191, 192, 193, 200, 203, 212, 215, 216, 219, 228, 229, 230, 232, 236, 244, 247, 250, 254, 261, 264, 266, 267, 270, 271, 274, 276, 277, 278, 279, 281, 284, 285, 288, 290, 291, 297, 300, 301, 302, 308, 311, 320, 326, 327, 329, 331, 334, 337, 340, 342, 347, 348, 350, 352, 354, 361, 362, 363, 365, 366, 369, 373, 381, 382, 384, 387, 388, 391, 394, 400, 401, 402, 403, 404, 413, 415, 426, 429, 433, 435, 438, 439, 440, 441, 442, 446, 448, 449, 451, 453, 455, 457, 458, 460, 462, 465, 468, 473, 474, 477, 478, 489, 490, 494, 495, 502, 504, 506, 510, 512, 514, 517, 522, 523, 524, 525, 537, 540, 548, 551, 552, 557, 558, 565, 572, 575, 580, 587, 588, 590, 591, 594, 600, 603, 606, 609, 610, 621, 627, 632, 635, 636, 637, 639, 643, 645, 646, 656, 657, 659, 660, 661, 665, 667, 673, 674, 676, 682, 683, 688, 690, 692, 694, 695]\n"
          ]
        }
      ],
      "source": [
        "# Bias measures by Age\n",
        "test_age_group_0_indexes, test_age_group_1_indexes = split_test_set_by_category(gtest_dataset, columns.index('age'), ageGroup)\n",
        "\n",
        "print(test_age_group_0_indexes)\n",
        "print(test_age_group_1_indexes)"
      ]
    },
    {
      "cell_type": "code",
      "execution_count": 32,
      "id": "mDVf3d4STXrI",
      "metadata": {
        "id": "mDVf3d4STXrI"
      },
      "outputs": [],
      "source": [
        "y_age_group_0_actuals = np.array([y_actuals[i] for i in test_age_group_0_indexes], dtype=np.float64)\n",
        "y_age_group_0_predictions = np.array([y_preds[i] for i in test_age_group_0_indexes], dtype=np.float64)\n",
        "\n",
        "y_age_group_1_actuals = np.array([y_actuals[i] for i in test_age_group_1_indexes], dtype=np.float64)\n",
        "y_age_group_1_predictions = np.array([y_preds[i] for i in test_age_group_1_indexes], dtype=np.float64)"
      ]
    },
    {
      "cell_type": "code",
      "execution_count": 33,
      "id": "VMyTyiHIosB6",
      "metadata": {
        "colab": {
          "base_uri": "https://localhost:8080/",
          "height": 661
        },
        "id": "VMyTyiHIosB6",
        "outputId": "17beadab-0f47-4cbc-a105-59e170c6ad8b"
      },
      "outputs": [
        {
          "name": "stdout",
          "output_type": "stream",
          "text": [
            "              precision    recall  f1-score   support\n",
            "\n",
            "         0.0       0.85      0.50      0.63       107\n",
            "         1.0       0.65      0.89      0.76       123\n",
            "         2.0       0.83      0.78      0.80       137\n",
            "         3.0       0.67      0.73      0.70        96\n",
            "\n",
            "    accuracy                           0.73       463\n",
            "   macro avg       0.75      0.72      0.72       463\n",
            "weighted avg       0.76      0.73      0.73       463\n",
            "\n"
          ]
        },
        {
          "data": {
            "image/png": "[encoded data removed]",
            "text/plain": [
              "<Figure size 720x504 with 2 Axes>"
            ]
          },
          "metadata": {
            "needs_background": "light"
          },
          "output_type": "display_data"
        }
      ],
      "source": [
        "show_confusion_matrix(y_age_group_0_actuals, y_age_group_0_predictions)\n",
        "\n",
        "heat_map(y_age_group_0_actuals, y_age_group_0_predictions, 'Predicted Mask Type', 'Actual Mask Type', 'Age - Confusion Matrix with labels by 0-30 age group!!')"
      ]
    },
    {
      "cell_type": "code",
      "execution_count": 34,
      "id": "O2R_1LNfo70p",
      "metadata": {
        "colab": {
          "base_uri": "https://localhost:8080/",
          "height": 661
        },
        "id": "O2R_1LNfo70p",
        "outputId": "c5dc4cc5-7baf-4dfa-a1dc-8c300be3a990"
      },
      "outputs": [
        {
          "name": "stdout",
          "output_type": "stream",
          "text": [
            "              precision    recall  f1-score   support\n",
            "\n",
            "         0.0       0.92      0.52      0.67        63\n",
            "         1.0       0.59      0.90      0.71        62\n",
            "         2.0       0.76      0.72      0.74        47\n",
            "         3.0       0.75      0.70      0.73        61\n",
            "\n",
            "    accuracy                           0.71       233\n",
            "   macro avg       0.75      0.71      0.71       233\n",
            "weighted avg       0.75      0.71      0.71       233\n",
            "\n"
          ]
        },
        {
          "data": {
            "image/png": "[encoded data removed]",
            "text/plain": [
              "<Figure size 720x504 with 2 Axes>"
            ]
          },
          "metadata": {
            "needs_background": "light"
          },
          "output_type": "display_data"
        }
      ],
      "source": [
        "show_confusion_matrix(y_age_group_1_actuals, y_age_group_1_predictions)\n",
        "\n",
        "heat_map(y_age_group_1_actuals, y_age_group_1_predictions, 'Predicted Mask Type', 'Actual Mask Type', 'Age - Confusion Matrix with labels by 30-60 age group!!')"
      ]
    },
    {
      "cell_type": "code",
      "execution_count": 35,
      "id": "RLEBmSuzVHvD",
      "metadata": {
        "id": "RLEBmSuzVHvD"
      },
      "outputs": [],
      "source": [
        "age_results = run_algorithmic_interventions(\n",
        "    [y_age_group_0_actuals, y_age_group_0_predictions],\n",
        "    [y_age_group_1_actuals, y_age_group_1_predictions]\n",
        ")\n",
        "\n",
        "age_results.to_csv(os.path.join(root_folder, 'fairness_by_age.csv'))"
      ]
    },
    {
      "cell_type": "code",
      "execution_count": 36,
      "id": "ylr52fOMG74s",
      "metadata": {
        "colab": {
          "base_uri": "https://localhost:8080/",
          "height": 226
        },
        "id": "ylr52fOMG74s",
        "outputId": "38e4e0a5-eef6-45f4-af9d-06cd4c5de47a"
      },
      "outputs": [
        {
          "data": {
            "text/html": [
              "<div>\n",
              "<style scoped>\n",
              "    .dataframe tbody tr th:only-of-type {\n",
              "        vertical-align: middle;\n",
              "    }\n",
              "\n",
              "    .dataframe tbody tr th {\n",
              "        vertical-align: top;\n",
              "    }\n",
              "\n",
              "    .dataframe thead th {\n",
              "        text-align: right;\n",
              "    }\n",
              "</style>\n",
              "<table border=\"1\" class=\"dataframe\">\n",
              "  <thead>\n",
              "    <tr style=\"text-align: right;\">\n",
              "      <th></th>\n",
              "      <th>IntervationName</th>\n",
              "      <th>Correct</th>\n",
              "      <th>threshold_0</th>\n",
              "      <th>threshold_1</th>\n",
              "      <th>TruePositive0</th>\n",
              "      <th>FalsePositive0</th>\n",
              "      <th>PositiveRate0</th>\n",
              "      <th>NegativeRate0</th>\n",
              "      <th>TruePositiveRate0</th>\n",
              "      <th>FalsePositiveRate0</th>\n",
              "      <th>TruePositive1</th>\n",
              "      <th>FalsePositive1</th>\n",
              "      <th>PositiveRate1</th>\n",
              "      <th>NegativeRate1</th>\n",
              "      <th>TruePositiveRate1</th>\n",
              "      <th>FalsePositiveRate1</th>\n",
              "    </tr>\n",
              "  </thead>\n",
              "  <tbody>\n",
              "    <tr>\n",
              "      <th>109</th>\n",
              "      <td>EqualOpportunity</td>\n",
              "      <td>-84</td>\n",
              "      <td>0.02</td>\n",
              "      <td>0.02</td>\n",
              "      <td>0</td>\n",
              "      <td>45</td>\n",
              "      <td>0.416667</td>\n",
              "      <td>0.583333</td>\n",
              "      <td>0</td>\n",
              "      <td>0.416667</td>\n",
              "      <td>0</td>\n",
              "      <td>39</td>\n",
              "      <td>0.629032</td>\n",
              "      <td>0.370968</td>\n",
              "      <td>0</td>\n",
              "      <td>0.629032</td>\n",
              "    </tr>\n",
              "    <tr>\n",
              "      <th>108</th>\n",
              "      <td>GroupUnawareness</td>\n",
              "      <td>-84</td>\n",
              "      <td>0.02</td>\n",
              "      <td>0.02</td>\n",
              "      <td>0</td>\n",
              "      <td>45</td>\n",
              "      <td>0.416667</td>\n",
              "      <td>0.583333</td>\n",
              "      <td>0</td>\n",
              "      <td>0.416667</td>\n",
              "      <td>0</td>\n",
              "      <td>39</td>\n",
              "      <td>0.629032</td>\n",
              "      <td>0.370968</td>\n",
              "      <td>0</td>\n",
              "      <td>0.629032</td>\n",
              "    </tr>\n",
              "    <tr>\n",
              "      <th>107</th>\n",
              "      <td>MaxProfit</td>\n",
              "      <td>-84</td>\n",
              "      <td>0.02</td>\n",
              "      <td>0.02</td>\n",
              "      <td>0</td>\n",
              "      <td>45</td>\n",
              "      <td>0.416667</td>\n",
              "      <td>0.583333</td>\n",
              "      <td>0</td>\n",
              "      <td>0.416667</td>\n",
              "      <td>0</td>\n",
              "      <td>39</td>\n",
              "      <td>0.629032</td>\n",
              "      <td>0.370968</td>\n",
              "      <td>0</td>\n",
              "      <td>0.629032</td>\n",
              "    </tr>\n",
              "    <tr>\n",
              "      <th>2</th>\n",
              "      <td>DemographicParity</td>\n",
              "      <td>-170</td>\n",
              "      <td>0.00</td>\n",
              "      <td>0.00</td>\n",
              "      <td>0</td>\n",
              "      <td>108</td>\n",
              "      <td>1.000000</td>\n",
              "      <td>0.000000</td>\n",
              "      <td>0</td>\n",
              "      <td>1.000000</td>\n",
              "      <td>0</td>\n",
              "      <td>62</td>\n",
              "      <td>1.000000</td>\n",
              "      <td>0.000000</td>\n",
              "      <td>0</td>\n",
              "      <td>1.000000</td>\n",
              "    </tr>\n",
              "    <tr>\n",
              "      <th>4</th>\n",
              "      <td>EqualisedOdds</td>\n",
              "      <td>-170</td>\n",
              "      <td>0.00</td>\n",
              "      <td>0.00</td>\n",
              "      <td>0</td>\n",
              "      <td>108</td>\n",
              "      <td>1.000000</td>\n",
              "      <td>0.000000</td>\n",
              "      <td>0</td>\n",
              "      <td>1.000000</td>\n",
              "      <td>0</td>\n",
              "      <td>62</td>\n",
              "      <td>1.000000</td>\n",
              "      <td>0.000000</td>\n",
              "      <td>0</td>\n",
              "      <td>1.000000</td>\n",
              "    </tr>\n",
              "  </tbody>\n",
              "</table>\n",
              "</div>"
            ],
            "text/plain": [
              "       IntervationName  Correct  ...  TruePositiveRate1  FalsePositiveRate1\n",
              "109   EqualOpportunity      -84  ...                  0            0.629032\n",
              "108   GroupUnawareness      -84  ...                  0            0.629032\n",
              "107          MaxProfit      -84  ...                  0            0.629032\n",
              "2    DemographicParity     -170  ...                  0            1.000000\n",
              "4        EqualisedOdds     -170  ...                  0            1.000000\n",
              "\n",
              "[5 rows x 16 columns]"
            ]
          },
          "execution_count": 36,
          "metadata": {},
          "output_type": "execute_result"
        }
      ],
      "source": [
        "gender_results_df = pd.read_csv(os.path.join(root_folder, 'fairness_by_gender.csv'), index_col=[0]).reset_index(drop=True).round(20)\n",
        "\n",
        "max_profits_gender = gender_results_df.loc[gender_results_df.groupby(['IntervationName'])['Correct'].idxmax()]  \n",
        "max_profits_gender = max_profits_gender.sort_values('Correct', ascending=False)\n",
        "\n",
        "max_profits_gender"
      ]
    },
    {
      "cell_type": "code",
      "execution_count": 37,
      "id": "VXH5SrmKV2-r",
      "metadata": {
        "colab": {
          "base_uri": "https://localhost:8080/",
          "height": 112
        },
        "id": "VXH5SrmKV2-r",
        "outputId": "b8b6c451-c802-4459-85f7-b82fccaabbd8"
      },
      "outputs": [
        {
          "data": {
            "text/html": [
              "<div>\n",
              "<style scoped>\n",
              "    .dataframe tbody tr th:only-of-type {\n",
              "        vertical-align: middle;\n",
              "    }\n",
              "\n",
              "    .dataframe tbody tr th {\n",
              "        vertical-align: top;\n",
              "    }\n",
              "\n",
              "    .dataframe thead th {\n",
              "        text-align: right;\n",
              "    }\n",
              "</style>\n",
              "<table border=\"1\" class=\"dataframe\">\n",
              "  <thead>\n",
              "    <tr style=\"text-align: right;\">\n",
              "      <th></th>\n",
              "      <th>threshold_0</th>\n",
              "      <th>threshold_1</th>\n",
              "    </tr>\n",
              "  </thead>\n",
              "  <tbody>\n",
              "    <tr>\n",
              "      <th>mean</th>\n",
              "      <td>0.012000</td>\n",
              "      <td>0.012000</td>\n",
              "    </tr>\n",
              "    <tr>\n",
              "      <th>std</th>\n",
              "      <td>0.010954</td>\n",
              "      <td>0.010954</td>\n",
              "    </tr>\n",
              "  </tbody>\n",
              "</table>\n",
              "</div>"
            ],
            "text/plain": [
              "      threshold_0  threshold_1\n",
              "mean     0.012000     0.012000\n",
              "std      0.010954     0.010954"
            ]
          },
          "execution_count": 37,
          "metadata": {},
          "output_type": "execute_result"
        }
      ],
      "source": [
        "max_profits_gender[['threshold_0', 'threshold_1']].describe().loc[['mean', 'std']]"
      ]
    },
    {
      "cell_type": "code",
      "execution_count": 38,
      "id": "cdUd7ijHjmnD",
      "metadata": {
        "colab": {
          "base_uri": "https://localhost:8080/",
          "height": 226
        },
        "id": "cdUd7ijHjmnD",
        "outputId": "648e7cde-4c49-4b2c-e999-ff0aea1b93f4"
      },
      "outputs": [
        {
          "data": {
            "text/html": [
              "<div>\n",
              "<style scoped>\n",
              "    .dataframe tbody tr th:only-of-type {\n",
              "        vertical-align: middle;\n",
              "    }\n",
              "\n",
              "    .dataframe tbody tr th {\n",
              "        vertical-align: top;\n",
              "    }\n",
              "\n",
              "    .dataframe thead th {\n",
              "        text-align: right;\n",
              "    }\n",
              "</style>\n",
              "<table border=\"1\" class=\"dataframe\">\n",
              "  <thead>\n",
              "    <tr style=\"text-align: right;\">\n",
              "      <th></th>\n",
              "      <th>IntervationName</th>\n",
              "      <th>Correct</th>\n",
              "      <th>threshold_0</th>\n",
              "      <th>threshold_1</th>\n",
              "      <th>TruePositive0</th>\n",
              "      <th>FalsePositive0</th>\n",
              "      <th>PositiveRate0</th>\n",
              "      <th>NegativeRate0</th>\n",
              "      <th>TruePositiveRate0</th>\n",
              "      <th>FalsePositiveRate0</th>\n",
              "      <th>TruePositive1</th>\n",
              "      <th>FalsePositive1</th>\n",
              "      <th>PositiveRate1</th>\n",
              "      <th>NegativeRate1</th>\n",
              "      <th>TruePositiveRate1</th>\n",
              "      <th>FalsePositiveRate1</th>\n",
              "    </tr>\n",
              "  </thead>\n",
              "  <tbody>\n",
              "    <tr>\n",
              "      <th>109</th>\n",
              "      <td>EqualOpportunity</td>\n",
              "      <td>-84</td>\n",
              "      <td>0.02</td>\n",
              "      <td>0.02</td>\n",
              "      <td>0</td>\n",
              "      <td>54</td>\n",
              "      <td>0.5</td>\n",
              "      <td>0.5</td>\n",
              "      <td>0</td>\n",
              "      <td>0.5</td>\n",
              "      <td>0</td>\n",
              "      <td>30</td>\n",
              "      <td>0.48</td>\n",
              "      <td>0.52</td>\n",
              "      <td>0</td>\n",
              "      <td>0.48</td>\n",
              "    </tr>\n",
              "    <tr>\n",
              "      <th>108</th>\n",
              "      <td>GroupUnawareness</td>\n",
              "      <td>-84</td>\n",
              "      <td>0.02</td>\n",
              "      <td>0.02</td>\n",
              "      <td>0</td>\n",
              "      <td>54</td>\n",
              "      <td>0.5</td>\n",
              "      <td>0.5</td>\n",
              "      <td>0</td>\n",
              "      <td>0.5</td>\n",
              "      <td>0</td>\n",
              "      <td>30</td>\n",
              "      <td>0.48</td>\n",
              "      <td>0.52</td>\n",
              "      <td>0</td>\n",
              "      <td>0.48</td>\n",
              "    </tr>\n",
              "    <tr>\n",
              "      <th>107</th>\n",
              "      <td>MaxProfit</td>\n",
              "      <td>-84</td>\n",
              "      <td>0.02</td>\n",
              "      <td>0.02</td>\n",
              "      <td>0</td>\n",
              "      <td>54</td>\n",
              "      <td>0.5</td>\n",
              "      <td>0.5</td>\n",
              "      <td>0</td>\n",
              "      <td>0.5</td>\n",
              "      <td>0</td>\n",
              "      <td>30</td>\n",
              "      <td>0.48</td>\n",
              "      <td>0.52</td>\n",
              "      <td>0</td>\n",
              "      <td>0.48</td>\n",
              "    </tr>\n",
              "    <tr>\n",
              "      <th>2</th>\n",
              "      <td>DemographicParity</td>\n",
              "      <td>-170</td>\n",
              "      <td>0.00</td>\n",
              "      <td>0.00</td>\n",
              "      <td>0</td>\n",
              "      <td>107</td>\n",
              "      <td>1.0</td>\n",
              "      <td>0.0</td>\n",
              "      <td>0</td>\n",
              "      <td>1.0</td>\n",
              "      <td>0</td>\n",
              "      <td>63</td>\n",
              "      <td>1.00</td>\n",
              "      <td>0.00</td>\n",
              "      <td>0</td>\n",
              "      <td>1.00</td>\n",
              "    </tr>\n",
              "    <tr>\n",
              "      <th>4</th>\n",
              "      <td>EqualisedOdds</td>\n",
              "      <td>-170</td>\n",
              "      <td>0.00</td>\n",
              "      <td>0.00</td>\n",
              "      <td>0</td>\n",
              "      <td>107</td>\n",
              "      <td>1.0</td>\n",
              "      <td>0.0</td>\n",
              "      <td>0</td>\n",
              "      <td>1.0</td>\n",
              "      <td>0</td>\n",
              "      <td>63</td>\n",
              "      <td>1.00</td>\n",
              "      <td>0.00</td>\n",
              "      <td>0</td>\n",
              "      <td>1.00</td>\n",
              "    </tr>\n",
              "  </tbody>\n",
              "</table>\n",
              "</div>"
            ],
            "text/plain": [
              "       IntervationName  Correct  ...  TruePositiveRate1  FalsePositiveRate1\n",
              "109   EqualOpportunity      -84  ...                  0                0.48\n",
              "108   GroupUnawareness      -84  ...                  0                0.48\n",
              "107          MaxProfit      -84  ...                  0                0.48\n",
              "2    DemographicParity     -170  ...                  0                1.00\n",
              "4        EqualisedOdds     -170  ...                  0                1.00\n",
              "\n",
              "[5 rows x 16 columns]"
            ]
          },
          "execution_count": 38,
          "metadata": {},
          "output_type": "execute_result"
        }
      ],
      "source": [
        "age_group_results_df = pd.read_csv(os.path.join(root_folder, 'fairness_by_age.csv'), index_col=[0]).reset_index(drop=True).round(2)\n",
        "\n",
        "max_profits_age_group = age_group_results_df.loc[age_group_results_df.groupby(['IntervationName'])['Correct'].idxmax()]  \n",
        "max_profits_age_group = max_profits_age_group.sort_values('Correct', ascending=False)\n",
        "\n",
        "max_profits_age_group"
      ]
    },
    {
      "cell_type": "code",
      "execution_count": 39,
      "id": "D3zRWFKUj65Y",
      "metadata": {
        "colab": {
          "base_uri": "https://localhost:8080/",
          "height": 112
        },
        "id": "D3zRWFKUj65Y",
        "outputId": "3fc9e377-f545-414c-ec35-3b0e8092d8f9"
      },
      "outputs": [
        {
          "data": {
            "text/html": [
              "<div>\n",
              "<style scoped>\n",
              "    .dataframe tbody tr th:only-of-type {\n",
              "        vertical-align: middle;\n",
              "    }\n",
              "\n",
              "    .dataframe tbody tr th {\n",
              "        vertical-align: top;\n",
              "    }\n",
              "\n",
              "    .dataframe thead th {\n",
              "        text-align: right;\n",
              "    }\n",
              "</style>\n",
              "<table border=\"1\" class=\"dataframe\">\n",
              "  <thead>\n",
              "    <tr style=\"text-align: right;\">\n",
              "      <th></th>\n",
              "      <th>threshold_0</th>\n",
              "      <th>threshold_1</th>\n",
              "    </tr>\n",
              "  </thead>\n",
              "  <tbody>\n",
              "    <tr>\n",
              "      <th>mean</th>\n",
              "      <td>0.012000</td>\n",
              "      <td>0.012000</td>\n",
              "    </tr>\n",
              "    <tr>\n",
              "      <th>std</th>\n",
              "      <td>0.010954</td>\n",
              "      <td>0.010954</td>\n",
              "    </tr>\n",
              "  </tbody>\n",
              "</table>\n",
              "</div>"
            ],
            "text/plain": [
              "      threshold_0  threshold_1\n",
              "mean     0.012000     0.012000\n",
              "std      0.010954     0.010954"
            ]
          },
          "execution_count": 39,
          "metadata": {},
          "output_type": "execute_result"
        }
      ],
      "source": [
        "max_profits_age_group[['threshold_0', 'threshold_1']].describe().loc[['mean', 'std']]"
      ]
    },
    {
      "cell_type": "code",
      "execution_count": 40,
      "id": "D-8FWj7SKo7M",
      "metadata": {
        "id": "D-8FWj7SKo7M"
      },
      "outputs": [],
      "source": [
        "def show_image(image, title, xlabel, ylabel):\n",
        "  plt.imshow(image)\n",
        "  plt.title(to_face_mask_type_str(title))\n",
        "  plt.xlabel(xlabel)\n",
        "  plt.ylabel(ylabel)\n",
        "  plt.show()"
      ]
    },
    {
      "cell_type": "code",
      "execution_count": 41,
      "id": "7f67cc65",
      "metadata": {
        "colab": {
          "base_uri": "https://localhost:8080/",
          "height": 211
        },
        "id": "7f67cc65",
        "outputId": "7ddbdae7-e84c-4b84-8cd2-53b988fca86b"
      },
      "outputs": [
        {
          "ename": "TypeError",
          "evalue": "ignored",
          "output_type": "error",
          "traceback": [
            "\u001b[0;31m---------------------------------------------------------------------------\u001b[0m",
            "\u001b[0;31mTypeError\u001b[0m                                 Traceback (most recent call last)",
            "\u001b[0;32m<ipython-input-41-75f0031ff8fb>\u001b[0m in \u001b[0;36m<module>\u001b[0;34m()\u001b[0m\n\u001b[1;32m     12\u001b[0m       \u001b[0mlabels\u001b[0m \u001b[0;34m=\u001b[0m \u001b[0mmodel\u001b[0m\u001b[0;34m(\u001b[0m\u001b[0mimage\u001b[0m\u001b[0;34m)\u001b[0m\u001b[0;34m\u001b[0m\u001b[0;34m\u001b[0m\u001b[0m\n\u001b[1;32m     13\u001b[0m       \u001b[0m_\u001b[0m\u001b[0;34m,\u001b[0m \u001b[0mpredicted\u001b[0m \u001b[0;34m=\u001b[0m \u001b[0mtorch\u001b[0m\u001b[0;34m.\u001b[0m\u001b[0mmax\u001b[0m\u001b[0;34m(\u001b[0m\u001b[0mlabels\u001b[0m\u001b[0;34m.\u001b[0m\u001b[0mdata\u001b[0m\u001b[0;34m,\u001b[0m \u001b[0;36m1\u001b[0m\u001b[0;34m)\u001b[0m\u001b[0;34m\u001b[0m\u001b[0;34m\u001b[0m\u001b[0m\n\u001b[0;32m---> 14\u001b[0;31m       \u001b[0mshow_image\u001b[0m\u001b[0;34m(\u001b[0m\u001b[0mold_image\u001b[0m\u001b[0;34m,\u001b[0m \u001b[0mto_face_mask_type_str\u001b[0m\u001b[0;34m(\u001b[0m\u001b[0mpredicted\u001b[0m\u001b[0;34m.\u001b[0m\u001b[0mto\u001b[0m\u001b[0;34m(\u001b[0m\u001b[0;34m'cpu'\u001b[0m\u001b[0;34m)\u001b[0m\u001b[0;34m)\u001b[0m\u001b[0;34m,\u001b[0m \u001b[0;34m)\u001b[0m\u001b[0;34m\u001b[0m\u001b[0;34m\u001b[0m\u001b[0m\n\u001b[0m",
            "\u001b[0;31mTypeError\u001b[0m: show_image() missing 2 required positional arguments: 'xlabel' and 'ylabel'"
          ]
        }
      ],
      "source": [
        "new_images_path = os.path.join(root_folder, \"./test\")\n",
        "\n",
        "new_images = os.listdir(new_images_path)\n",
        "\n",
        "with torch.no_grad():\n",
        "    for image in new_images:\n",
        "      file_name = image\n",
        "      image = transform(Image.open(os.path.join(new_images_path, image)).convert('RGB'))\n",
        "      old_image = image\n",
        "      image = image.unsqueeze(0)\n",
        "      image = image.to(device)\n",
        "      labels = model(image)\n",
        "      _, predicted = torch.max(labels.data, 1)\n",
        "      show_image(old_image, to_face_mask_type_str(predicted.to('cpu')), )\n"
      ]
    },
    {
      "cell_type": "code",
      "execution_count": null,
      "id": "XVokts9hJyT0",
      "metadata": {
        "id": "XVokts9hJyT0"
      },
      "outputs": [],
      "source": [
        "cp = 0\n",
        "for image, label, _, _ in gtest_dataset:\n",
        "  image = transforms.ToPILImage()(image)\n",
        "  cp+=1\n",
        "  if cp >= 10:\n",
        "    break"
      ]
    },
    {
      "cell_type": "code",
      "execution_count": null,
      "id": "25d62024",
      "metadata": {
        "id": "25d62024"
      },
      "outputs": [],
      "source": [
        "# transform = transforms.Compose(\n",
        "#     [transforms.Resize((100, 100)),\n",
        "#         transforms.ToTensor(),\n",
        "#         transforms.Normalize((0.5, 0.5, 0.5), (0.5, 0.5, 0.5))])\n",
        "\n",
        "\n",
        "# new_data_folder = \"./data/new/images\"\n",
        "\n",
        "# tensor_image = transforms.ToPILImage()(transform(Image.open(os.path.join(new_data_folder, '1.png'))))\n",
        "\n",
        "# import matplotlib.pyplot as plt\n",
        "\n",
        "# plt.imshow(tensor_image)\n",
        "# plt.show()"
      ]
    }
  ],
  "metadata": {
    "accelerator": "GPU",
    "colab": {
      "collapsed_sections": [],
      "machine_shape": "hm",
      "name": "Project.ipynb",
      "provenance": []
    },
    "kernelspec": {
      "display_name": "Python 3",
      "language": "python",
      "name": "python3"
    },
    "language_info": {
      "codemirror_mode": {
        "name": "ipython",
        "version": 3
      },
      "file_extension": ".py",
      "mimetype": "text/x-python",
      "name": "python",
      "nbconvert_exporter": "python",
      "pygments_lexer": "ipython3",
      "version": "3.8.8"
    }
  },
  "nbformat": 4,
  "nbformat_minor": 5
}
