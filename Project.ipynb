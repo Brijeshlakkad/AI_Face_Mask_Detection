{
  "nbformat": 4,
  "nbformat_minor": 5,
  "metadata": {
    "accelerator": "GPU",
    "colab": {
      "name": "Project.ipynb",
      "provenance": [],
      "collapsed_sections": [],
      "machine_shape": "hm"
    },
    "kernelspec": {
      "display_name": "Python 3",
      "language": "python",
      "name": "python3"
    },
    "language_info": {
      "codemirror_mode": {
        "name": "ipython",
        "version": 3
      },
      "file_extension": ".py",
      "mimetype": "text/x-python",
      "name": "python",
      "nbconvert_exporter": "python",
      "pygments_lexer": "ipython3",
      "version": "3.8.8"
    }
  },
  "cells": [
    {
      "cell_type": "code",
      "metadata": {
        "colab": {
          "base_uri": "https://localhost:8080/"
        },
        "id": "ZwmOvfWynTeL",
        "outputId": "71861f52-fac0-4bea-b51a-28b5f305eedd"
      },
      "source": [
        "from google.colab import drive\n",
        "drive.mount('/content/drive')"
      ],
      "id": "ZwmOvfWynTeL",
      "execution_count": null,
      "outputs": [
        {
          "output_type": "stream",
          "name": "stdout",
          "text": [
            "Mounted at /content/drive\n"
          ]
        }
      ]
    },
    {
      "cell_type": "code",
      "metadata": {
        "id": "6580d713"
      },
      "source": [
        "import pandas as pd\n",
        "import numpy as np\n",
        "import os\n",
        "from torch.utils.data import Dataset\n",
        "from PIL import Image\n",
        "import random\n",
        "import torch\n",
        "import torch.nn as nn\n",
        "import torchvision.transforms as transforms\n",
        "from sklearn.model_selection import KFold\n",
        "from torch.utils.data.dataset import Subset\n",
        "import matplotlib.pyplot as plt\n",
        "from sklearn.metrics import confusion_matrix, classification_report\n",
        "import seaborn as sns\n",
        "\n",
        "columns = [\"filename\", \"classname\"]\n",
        "\n",
        "# BASE = \"./data\"\n",
        "BASE = \"/content/drive/MyDrive/Colab Notebooks/data/preprocessed\"\n",
        "data_csv_file = os.path.join(BASE, \"data.csv\")\n",
        "data_folder = os.path.join(BASE, \"images\")\n",
        "#root_folder = os.path.join(BASE, \"/\")\n",
        "\n",
        "data_df = pd.read_csv(data_csv_file, skiprows=1, names=columns)\n",
        "#print(len(data_df))"
      ],
      "id": "6580d713",
      "execution_count": null,
      "outputs": []
    },
    {
      "cell_type": "code",
      "metadata": {
        "id": "d09f94dc"
      },
      "source": [
        "# get image data\n",
        "def getImageData(folder, image_file):\n",
        "    return Image.open(os.path.join(folder, image_file)).convert('RGB') # Load the image\n",
        "\n",
        "# create directory\n",
        "def make_dir(dir_path):\n",
        "    if not os.path.isdir(dir_path):\n",
        "        os.makedirs(dir_path)\n",
        "\n",
        "model_path = os.path.join(BASE, 'model', 'face_mask_detection.pth')\n",
        "# make_dir(model_path)\n",
        "\n",
        "# predefined classes\n",
        "classes = {\n",
        "    \"mask_colorful\": 0,\n",
        "    \"face_no_mask\": 1,\n",
        "    \"mask_surgical\": 2,\n",
        "    \"ffp2_mask\": 3\n",
        "}\n"
      ],
      "id": "d09f94dc",
      "execution_count": null,
      "outputs": []
    },
    {
      "cell_type": "code",
      "metadata": {
        "id": "9002c180"
      },
      "source": [
        "class FaceMaskDataset(Dataset):\n",
        "    dataset = []\n",
        "    conversion = None\n",
        "\n",
        "    def __init__(self, indexes, conversion=transforms.ToTensor()):\n",
        "        self.conversion = conversion\n",
        "        for rowIndex in indexes:\n",
        "            sample = {}\n",
        "            sample['image'] = getImageData(data_folder, data_df[columns[0]][rowIndex])\n",
        "            sample['target'] = classes[data_df[columns[1]][rowIndex]]\n",
        "            self.dataset.append(sample)\n",
        "\n",
        "    def __len__(self):\n",
        "        return len(self.dataset)\n",
        "\n",
        "    def __getitem__(self, index):\n",
        "        image = self.dataset[index]['image']\n",
        "        if self.conversion is not None:\n",
        "            image = self.conversion(image)\n",
        "        return image, self.dataset[index]['target']"
      ],
      "id": "9002c180",
      "execution_count": null,
      "outputs": []
    },
    {
      "cell_type": "code",
      "metadata": {
        "colab": {
          "base_uri": "https://localhost:8080/"
        },
        "id": "47d105e6",
        "outputId": "373d9168-d4f2-49ac-ed0b-9b09d10301d9"
      },
      "source": [
        "size_of_the_dataset = int(data_df.shape[0]/5)\n",
        "\n",
        "\n",
        "print(\"size_of_the_dataset\", size_of_the_dataset)\n",
        "\n",
        "batch_size = 25\n",
        "num_of_classes = len(classes.keys())\n",
        "\n",
        "indexes = list(range(size_of_the_dataset))\n",
        "random.shuffle(indexes)\n",
        "print(len(indexes))"
      ],
      "id": "47d105e6",
      "execution_count": null,
      "outputs": [
        {
          "output_type": "stream",
          "name": "stdout",
          "text": [
            "size_of_the_dataset 266\n",
            "266\n"
          ]
        }
      ]
    },
    {
      "cell_type": "code",
      "metadata": {
        "id": "xWtJ0bEh7obY"
      },
      "source": [
        "transform = transforms.Compose(\n",
        "    [transforms.Resize((250, 250)),\n",
        "        transforms.ToTensor(),\n",
        "        transforms.Normalize(mean=[0.485, 0.456, 0.406],\n",
        "                                       std=[0.229, 0.224, 0.225])])"
      ],
      "id": "xWtJ0bEh7obY",
      "execution_count": null,
      "outputs": []
    },
    {
      "cell_type": "code",
      "metadata": {
        "colab": {
          "base_uri": "https://localhost:8080/"
        },
        "id": "nG4dQr0j5x0N",
        "outputId": "19bd662d-d334-46d2-c725-6ecdf649533e"
      },
      "source": [
        "print(\"Loading dataset\")\n",
        "dataset = FaceMaskDataset(indexes, conversion=transform)"
      ],
      "id": "nG4dQr0j5x0N",
      "execution_count": null,
      "outputs": [
        {
          "output_type": "stream",
          "name": "stdout",
          "text": [
            "Loading dataset\n"
          ]
        }
      ]
    },
    {
      "cell_type": "code",
      "metadata": {
        "colab": {
          "base_uri": "https://localhost:8080/",
          "height": 72
        },
        "id": "c58831c3",
        "outputId": "64fd0c4c-7b5c-48e2-9887-d5438afc747b"
      },
      "source": [
        "\"\"\"print(\"Loading training set\")\n",
        "train_dataset = FaceMaskDataset(train_indexes, conversion=transform)\n",
        "print(\"Loading validation set\")\n",
        "val_dataset = FaceMaskDataset(val_indexes, conversion=transform)\n",
        "train_loader = torch.utils.data.DataLoader(\n",
        "    dataset=train_dataset, batch_size=batch_size, shuffle=True, num_workers=0)\n",
        "val_loader = torch.utils.data.DataLoader(\n",
        "    dataset=val_dataset, batch_size=batch_size, shuffle=False, num_workers=0)\"\"\""
      ],
      "id": "c58831c3",
      "execution_count": null,
      "outputs": [
        {
          "output_type": "execute_result",
          "data": {
            "application/vnd.google.colaboratory.intrinsic+json": {
              "type": "string"
            },
            "text/plain": [
              "'print(\"Loading training set\")\\ntrain_dataset = FaceMaskDataset(train_indexes, conversion=transform)\\nprint(\"Loading validation set\")\\nval_dataset = FaceMaskDataset(val_indexes, conversion=transform)\\ntrain_loader = torch.utils.data.DataLoader(\\n    dataset=train_dataset, batch_size=batch_size, shuffle=True, num_workers=0)\\nval_loader = torch.utils.data.DataLoader(\\n    dataset=val_dataset, batch_size=batch_size, shuffle=False, num_workers=0)'"
            ]
          },
          "metadata": {},
          "execution_count": 6
        }
      ]
    },
    {
      "cell_type": "code",
      "metadata": {
        "id": "c67379d5",
        "colab": {
          "base_uri": "https://localhost:8080/"
        },
        "outputId": "802d3762-4daf-48c8-dfce-3a4b37eae37f"
      },
      "source": [
        "device = torch.device('cuda' if torch.cuda.is_available() else 'cpu')\n",
        "print('Using device:', device)"
      ],
      "id": "c67379d5",
      "execution_count": null,
      "outputs": [
        {
          "output_type": "stream",
          "name": "stdout",
          "text": [
            "Using device: cuda\n"
          ]
        }
      ]
    },
    {
      "cell_type": "code",
      "metadata": {
        "id": "0a2b3745"
      },
      "source": [
        "import torch.nn as nn\n",
        "import torch.nn.functional as F\n",
        "\n",
        "class FaceMaskClassificationBase(nn.Module):\n",
        "    train_correct = 0\n",
        "    def training_step(self, batch):\n",
        "        images, labels = batch \n",
        "        images, labels = images.to(device), labels.to(device)\n",
        "        out = self(images)                  # Generate predictions\n",
        "        loss = F.cross_entropy(out, labels) # Calculate loss\n",
        "        scores, predictions = torch.max(out.data, 1)\n",
        "        train_correct = (predictions == labels).sum().item()\n",
        "        return loss, train_correct\n",
        "    \n",
        "    def validation_step(self, batch):\n",
        "        images, labels = batch \n",
        "        images, labels = images.to(device), labels.to(device)\n",
        "        out = self(images)                    # Generate predictions\n",
        "        loss = F.cross_entropy(out, labels)   # Calculate loss\n",
        "        acc = accuracy(out, labels)           # Calculate accuracy\n",
        "        return {'val_loss': loss.detach(), 'val_acc': acc}\n",
        "        \n",
        "    def validation_epoch_end(self, outputs):\n",
        "        batch_losses = [x['val_loss'] for x in outputs]\n",
        "        epoch_loss = torch.stack(batch_losses).mean()   # Combine losses\n",
        "        batch_accs = [x['val_acc'] for x in outputs]\n",
        "        epoch_acc = torch.stack(batch_accs).mean()      # Combine accuracies\n",
        "        return {'val_loss': epoch_loss.item(), 'val_acc': epoch_acc.item()}\n",
        "    \n",
        "    def epoch_end(self, epoch, result):\n",
        "        print(\"Epoch [{}], train_loss: {:.4f}, train_accuracy: {:.4f}\".format(\n",
        "            epoch+1, result['train_loss'], result['train_accuracy']))"
      ],
      "id": "0a2b3745",
      "execution_count": null,
      "outputs": []
    },
    {
      "cell_type": "code",
      "metadata": {
        "id": "0323ceca"
      },
      "source": [
        "class CNN(FaceMaskClassificationBase):\n",
        "    def __init__(self):\n",
        "        super(CNN, self).__init__()\n",
        "        self.conv_layer = nn.Sequential(\n",
        "            nn.Conv2d(in_channels=3, out_channels=32, kernel_size=3, padding=1),\n",
        "            nn.BatchNorm2d(32),\n",
        "            nn.LeakyReLU(inplace=True),\n",
        "            nn.Conv2d(in_channels=32, out_channels=32, kernel_size=3, padding=1),\n",
        "            nn.BatchNorm2d(32),\n",
        "            nn.LeakyReLU(inplace=True),\n",
        "            nn.MaxPool2d(kernel_size=2, stride=2),\n",
        "            nn.Conv2d(in_channels=32, out_channels=64, kernel_size=3, padding=1),\n",
        "            nn.BatchNorm2d(64),\n",
        "            nn.LeakyReLU(inplace=True),\n",
        "            nn.Conv2d(in_channels=64, out_channels=64, kernel_size=3, padding=1),\n",
        "            nn.BatchNorm2d(64),\n",
        "            nn.LeakyReLU(inplace=True),\n",
        "            nn.MaxPool2d(kernel_size=2, stride=2),\n",
        "        )\n",
        "        self.fc_layer = nn.Sequential(\n",
        "            nn.Dropout(p=0.1),\n",
        "            nn.Linear(246016, 1024),\n",
        "            nn.ReLU(inplace=True),\n",
        "            nn.Linear(1024, 512),\n",
        "            nn.ReLU(inplace=True),\n",
        "            nn.Dropout(p=0.1),\n",
        "            nn.Linear(512, num_of_classes),\n",
        "        )\n",
        "\n",
        "    def forward(self, x):\n",
        "        # conv layers\n",
        "        x = self.conv_layer(x)\n",
        "        # flatten\n",
        "        x = x.view(x.size(0), -1)\n",
        "        # fc layer\n",
        "        x = self.fc_layer(x)\n",
        "        return x\n"
      ],
      "id": "0323ceca",
      "execution_count": null,
      "outputs": []
    },
    {
      "cell_type": "code",
      "metadata": {
        "id": "QUOnI_PUZ1SM"
      },
      "source": [
        "def accuracy(outputs, labels):\n",
        "    _, preds = torch.max(outputs, dim=1)\n",
        "    return torch.tensor(torch.sum(preds == labels).item() / len(preds))\n",
        "\n",
        "  \n",
        "@torch.no_grad()\n",
        "def evaluate(model, val_loader):\n",
        "    model.eval()\n",
        "    outputs = [model.validation_step(batch) for batch in val_loader]\n",
        "    return model.validation_epoch_end(outputs)\n",
        "\n",
        "  \n",
        "def fit(epochs, lr, model, train_loader, history, opt_func = torch.optim.SGD):\n",
        "    optimizer = opt_func(model.parameters(),lr)\n",
        "    for epoch in range(epochs):\n",
        "        model.train()\n",
        "        train_losses = []\n",
        "        train_correct = 0\n",
        "        for batch in train_loader:\n",
        "            images, labels = batch\n",
        "            # forward-pass: compute-predicted-outputs-by-passing-inputs-to-the-model\n",
        "            loss, correct = model.training_step(batch)\n",
        "            # update-training-loss\n",
        "            train_losses.append(loss)\n",
        "\n",
        "            train_correct += correct\n",
        "            # backward-pass: compute-gradient-of-the-loss-wrt-model-parameters\n",
        "            loss.backward()\n",
        "            # perform-a-single-optimization-step (parameter-update)\n",
        "            optimizer.step()\n",
        "            # clear-the-gradients-of-all-optimized-variables\n",
        "            optimizer.zero_grad()\n",
        "            \n",
        "        #result = evaluate(model, val_loader)\n",
        "        result = {}\n",
        "        result['train_loss'] = torch.stack(train_losses).mean().item()\n",
        "        result['train_accuracy'] = train_correct / len(train_loader.dataset) * 100\n",
        "        \n",
        "        model.epoch_end(epoch, result)\n",
        "        #history.append(result)\n",
        "\n",
        "    history['train_loss'] = result['train_loss']\n",
        "    history['train_accuracy'] = result['train_accuracy']\n",
        "\n",
        "    return history"
      ],
      "id": "QUOnI_PUZ1SM",
      "execution_count": null,
      "outputs": []
    },
    {
      "cell_type": "code",
      "metadata": {
        "id": "d49d62d7"
      },
      "source": [
        "model = CNN()\n",
        "model = model.to(device)"
      ],
      "id": "d49d62d7",
      "execution_count": null,
      "outputs": []
    },
    {
      "cell_type": "code",
      "metadata": {
        "id": "p0RqIYM3-DhA"
      },
      "source": [
        "def test_phase(model,test_loader, device, history):\n",
        "\n",
        "  y_true = torch.tensor([])\n",
        "  y_true = y_true.to(device)\n",
        "  y_preds = torch.tensor([])\n",
        "  y_preds = y_preds.to(device)\n",
        "\n",
        "  # test-the-model\n",
        "  model.eval()  # it-disables-dropout\n",
        "  with torch.no_grad():\n",
        "      correct = 0\n",
        "      total = 0\n",
        "      for images, labels in test_loader:\n",
        "          images = images.to(device)\n",
        "          labels = labels.to(device)\n",
        "          y_true = torch.cat(\n",
        "              (y_true, labels)\n",
        "          )\n",
        "          outputs = model(images)\n",
        "\n",
        "          loss = F.cross_entropy(outputs, labels) # Calculate loss\n",
        "          scores, predicted = torch.max(outputs.data, 1)\n",
        "          \n",
        "\n",
        "          #_, predicted = torch.max(outputs.data, 1)\n",
        "          total += labels.size(0)\n",
        "          correct += (predicted == labels).sum().item()\n",
        "          y_preds = torch.cat(\n",
        "              (y_preds, predicted)\n",
        "          )\n",
        "\n",
        "      test_accuracy = correct / total * 100\n",
        "      print('Test loss of the model: {:.4f} %'.format(loss)) \n",
        "      print('Test Accuracy of the model: {} %'.format(test_accuracy))\n",
        "\n",
        "      history['test_loss'] = loss\n",
        "      history['test_accuracy'] = test_accuracy\n",
        "\n",
        "\n",
        "  y_true = y_true.to('cpu')\n",
        "  y_preds = y_preds.to('cpu')\n",
        "  #matrix = confusion_matrix(y_true, y_preds)\n",
        "  #plt.figure(figsize = (10,7))\n",
        "  #ax = sns.heatmap(matrix, fmt='', annot=True, cmap='Blues')\n",
        "  #ax.set_title('Confusion Matrix with labels!!');\n",
        "  #ax.set_xlabel('Predicted Mask Type')\n",
        "  #ax.set_ylabel('Actual Mask Type')\n",
        "  #ax.xaxis.set_ticklabels([i for i in classes.keys()])\n",
        "  #ax.yaxis.set_ticklabels([i for i in classes.keys()])\n",
        "  #plt.show()\n",
        "\n",
        "  from sklearn.metrics import precision_recall_fscore_support as score\n",
        "  precision, recall, fscore, support = score(y_true, y_preds)\n",
        "  print(classification_report(y_true,y_preds))\n",
        "\n",
        "  return history"
      ],
      "id": "p0RqIYM3-DhA",
      "execution_count": null,
      "outputs": []
    },
    {
      "cell_type": "code",
      "metadata": {
        "id": "UKMm4DuV92Xn"
      },
      "source": [
        "def reset_weights(m):\n",
        "    if isinstance(m, nn.Conv2d) or isinstance(m, nn.Linear):\n",
        "        m.reset_parameters()"
      ],
      "id": "UKMm4DuV92Xn",
      "execution_count": null,
      "outputs": []
    },
    {
      "cell_type": "code",
      "metadata": {
        "id": "pdMC6o4a5f0F"
      },
      "source": [
        "def KFold_creator(model,dataset,batch_size,device):\n",
        "  kfold = KFold(n_splits=10, shuffle=True,random_state=None)\n",
        "  fold_value = 1;\n",
        "  foldperf={}\n",
        "  for fold, (train_idx,test_idx) in enumerate(kfold.split(dataset)):\n",
        "    print('Fold {}'.format(fold + 1))\n",
        "    train_data = Subset(dataset,train_idx)\n",
        "    test_data = Subset(dataset,test_idx)\n",
        "\n",
        "    train_loader = torch.utils.data.DataLoader(dataset=train_data,batch_size=batch_size,num_workers=0,shuffle=True)\n",
        "    test_loader = torch.utils.data.DataLoader(dataset=test_data,batch_size=batch_size,num_workers=0,shuffle=True)\n",
        "    \n",
        "    #model.apply(reset_weights)\n",
        "\n",
        "    history = {'train_loss': 0, 'test_loss': 0,'train_accuracy': 0,'test_accuracy': 0}\n",
        "\n",
        "\n",
        "    history = fit(10, 0.001, model, train_loader, history, torch.optim.Adam)\n",
        "    history = test_phase(model,test_loader,device,history)\n",
        "\n",
        "    foldperf['fold{}'.format(fold+1)] = history   \n",
        "  \n",
        "  return foldperf"
      ],
      "id": "pdMC6o4a5f0F",
      "execution_count": null,
      "outputs": []
    },
    {
      "cell_type": "code",
      "metadata": {
        "colab": {
          "base_uri": "https://localhost:8080/"
        },
        "id": "cu1C9PvX2EOz",
        "outputId": "3b7a8756-8d11-46c9-e1a3-9c445a63593d"
      },
      "source": [
        "foldperf = KFold_creator(model,dataset,batch_size,device)"
      ],
      "id": "cu1C9PvX2EOz",
      "execution_count": null,
      "outputs": [
        {
          "output_type": "stream",
          "name": "stdout",
          "text": [
            "Fold 1\n",
            "Epoch [1], train_loss: 0.0000, train_accuracy: 100.0000\n",
            "Epoch [2], train_loss: 0.0000, train_accuracy: 100.0000\n",
            "Epoch [3], train_loss: 0.0003, train_accuracy: 100.0000\n",
            "Epoch [4], train_loss: 0.0000, train_accuracy: 100.0000\n",
            "Epoch [5], train_loss: 0.0278, train_accuracy: 99.7214\n",
            "Epoch [6], train_loss: 0.2230, train_accuracy: 99.1643\n",
            "Epoch [7], train_loss: 0.5168, train_accuracy: 98.3287\n",
            "Epoch [8], train_loss: 0.9691, train_accuracy: 97.4930\n",
            "Epoch [9], train_loss: 0.2556, train_accuracy: 98.0501\n",
            "Epoch [10], train_loss: 0.5873, train_accuracy: 98.6072\n",
            "Test loss of the model: 1.4999 %\n",
            "Test Accuracy of the model: 97.5 %\n",
            "              precision    recall  f1-score   support\n",
            "\n",
            "         0.0       0.94      1.00      0.97        15\n",
            "         1.0       1.00      0.93      0.96        14\n",
            "         2.0       1.00      1.00      1.00        11\n",
            "\n",
            "    accuracy                           0.97        40\n",
            "   macro avg       0.98      0.98      0.98        40\n",
            "weighted avg       0.98      0.97      0.97        40\n",
            "\n",
            "Fold 2\n",
            "Epoch [1], train_loss: 0.1698, train_accuracy: 98.3287\n",
            "Epoch [2], train_loss: 0.1833, train_accuracy: 99.4429\n",
            "Epoch [3], train_loss: 0.0000, train_accuracy: 100.0000\n",
            "Epoch [4], train_loss: 0.0440, train_accuracy: 99.7214\n",
            "Epoch [5], train_loss: 0.0000, train_accuracy: 100.0000\n",
            "Epoch [6], train_loss: 0.0355, train_accuracy: 99.7214\n",
            "Epoch [7], train_loss: 0.2022, train_accuracy: 99.4429\n",
            "Epoch [8], train_loss: 0.0007, train_accuracy: 100.0000\n",
            "Epoch [9], train_loss: 0.1761, train_accuracy: 99.1643\n",
            "Epoch [10], train_loss: 0.0240, train_accuracy: 99.7214\n",
            "Test loss of the model: 0.0000 %\n",
            "Test Accuracy of the model: 100.0 %\n",
            "              precision    recall  f1-score   support\n",
            "\n",
            "         0.0       1.00      1.00      1.00        16\n",
            "         1.0       1.00      1.00      1.00        11\n",
            "         2.0       1.00      1.00      1.00        13\n",
            "\n",
            "    accuracy                           1.00        40\n",
            "   macro avg       1.00      1.00      1.00        40\n",
            "weighted avg       1.00      1.00      1.00        40\n",
            "\n",
            "Fold 3\n",
            "Epoch [1], train_loss: 0.0000, train_accuracy: 100.0000\n",
            "Epoch [2], train_loss: 0.1905, train_accuracy: 99.4429\n",
            "Epoch [3], train_loss: 0.0000, train_accuracy: 100.0000\n",
            "Epoch [4], train_loss: 0.1426, train_accuracy: 99.4429\n",
            "Epoch [5], train_loss: 0.0237, train_accuracy: 99.7214\n",
            "Epoch [6], train_loss: 0.0519, train_accuracy: 99.1643\n",
            "Epoch [7], train_loss: 0.1336, train_accuracy: 99.1643\n",
            "Epoch [8], train_loss: 0.0127, train_accuracy: 99.7214\n",
            "Epoch [9], train_loss: 0.0380, train_accuracy: 99.7214\n",
            "Epoch [10], train_loss: 0.1142, train_accuracy: 99.4429\n",
            "Test loss of the model: 0.0000 %\n",
            "Test Accuracy of the model: 100.0 %\n",
            "              precision    recall  f1-score   support\n",
            "\n",
            "         0.0       1.00      1.00      1.00        18\n",
            "         1.0       1.00      1.00      1.00        12\n",
            "         2.0       1.00      1.00      1.00        10\n",
            "\n",
            "    accuracy                           1.00        40\n",
            "   macro avg       1.00      1.00      1.00        40\n",
            "weighted avg       1.00      1.00      1.00        40\n",
            "\n",
            "Fold 4\n",
            "Epoch [1], train_loss: 0.1041, train_accuracy: 99.4429\n",
            "Epoch [2], train_loss: 0.0527, train_accuracy: 99.7214\n",
            "Epoch [3], train_loss: 0.3977, train_accuracy: 99.7214\n",
            "Epoch [4], train_loss: 0.0000, train_accuracy: 100.0000\n",
            "Epoch [5], train_loss: 0.0087, train_accuracy: 99.7214\n",
            "Epoch [6], train_loss: 0.1576, train_accuracy: 99.7214\n",
            "Epoch [7], train_loss: 0.0000, train_accuracy: 100.0000\n",
            "Epoch [8], train_loss: 0.0000, train_accuracy: 100.0000\n",
            "Epoch [9], train_loss: 0.0267, train_accuracy: 99.1643\n",
            "Epoch [10], train_loss: 0.0000, train_accuracy: 100.0000\n",
            "Test loss of the model: 0.0000 %\n",
            "Test Accuracy of the model: 100.0 %\n",
            "              precision    recall  f1-score   support\n",
            "\n",
            "         0.0       1.00      1.00      1.00        14\n",
            "         1.0       1.00      1.00      1.00        12\n",
            "         2.0       1.00      1.00      1.00        14\n",
            "\n",
            "    accuracy                           1.00        40\n",
            "   macro avg       1.00      1.00      1.00        40\n",
            "weighted avg       1.00      1.00      1.00        40\n",
            "\n",
            "Fold 5\n",
            "Epoch [1], train_loss: 0.0997, train_accuracy: 99.7214\n",
            "Epoch [2], train_loss: 0.0000, train_accuracy: 100.0000\n",
            "Epoch [3], train_loss: 0.1099, train_accuracy: 99.7214\n",
            "Epoch [4], train_loss: 0.0000, train_accuracy: 100.0000\n",
            "Epoch [5], train_loss: 0.0345, train_accuracy: 99.7214\n",
            "Epoch [6], train_loss: 0.1043, train_accuracy: 99.4429\n",
            "Epoch [7], train_loss: 0.2227, train_accuracy: 98.8858\n",
            "Epoch [8], train_loss: 0.0172, train_accuracy: 99.4429\n",
            "Epoch [9], train_loss: 0.6304, train_accuracy: 98.8858\n",
            "Epoch [10], train_loss: 0.7083, train_accuracy: 98.8858\n",
            "Test loss of the model: 0.7479 %\n",
            "Test Accuracy of the model: 95.0 %\n",
            "              precision    recall  f1-score   support\n",
            "\n",
            "         0.0       0.95      1.00      0.98        20\n",
            "         1.0       1.00      0.90      0.95        10\n",
            "         2.0       0.90      0.90      0.90        10\n",
            "\n",
            "    accuracy                           0.95        40\n",
            "   macro avg       0.95      0.93      0.94        40\n",
            "weighted avg       0.95      0.95      0.95        40\n",
            "\n",
            "Fold 6\n",
            "Epoch [1], train_loss: 0.2349, train_accuracy: 98.6072\n",
            "Epoch [2], train_loss: 0.0389, train_accuracy: 99.4429\n",
            "Epoch [3], train_loss: 0.0000, train_accuracy: 100.0000\n",
            "Epoch [4], train_loss: 0.0000, train_accuracy: 100.0000\n",
            "Epoch [5], train_loss: 0.0001, train_accuracy: 100.0000\n",
            "Epoch [6], train_loss: 0.0085, train_accuracy: 99.7214\n",
            "Epoch [7], train_loss: 0.0496, train_accuracy: 99.4429\n",
            "Epoch [8], train_loss: 0.0000, train_accuracy: 100.0000\n",
            "Epoch [9], train_loss: 0.0007, train_accuracy: 100.0000\n",
            "Epoch [10], train_loss: 0.0000, train_accuracy: 100.0000\n",
            "Test loss of the model: 0.0000 %\n",
            "Test Accuracy of the model: 100.0 %\n",
            "              precision    recall  f1-score   support\n",
            "\n",
            "         0.0       1.00      1.00      1.00        18\n",
            "         1.0       1.00      1.00      1.00        12\n",
            "         2.0       1.00      1.00      1.00        10\n",
            "\n",
            "    accuracy                           1.00        40\n",
            "   macro avg       1.00      1.00      1.00        40\n",
            "weighted avg       1.00      1.00      1.00        40\n",
            "\n",
            "Fold 7\n",
            "Epoch [1], train_loss: 0.0263, train_accuracy: 99.7214\n",
            "Epoch [2], train_loss: 0.0000, train_accuracy: 100.0000\n",
            "Epoch [3], train_loss: 0.0335, train_accuracy: 99.7214\n",
            "Epoch [4], train_loss: 0.0000, train_accuracy: 100.0000\n",
            "Epoch [5], train_loss: 0.1411, train_accuracy: 99.4429\n",
            "Epoch [6], train_loss: 0.1872, train_accuracy: 99.1643\n",
            "Epoch [7], train_loss: 0.3030, train_accuracy: 99.1643\n",
            "Epoch [8], train_loss: 0.1090, train_accuracy: 99.4429\n",
            "Epoch [9], train_loss: 0.0937, train_accuracy: 99.4429\n",
            "Epoch [10], train_loss: 0.3059, train_accuracy: 98.8858\n",
            "Test loss of the model: 0.0000 %\n",
            "Test Accuracy of the model: 100.0 %\n",
            "              precision    recall  f1-score   support\n",
            "\n",
            "         0.0       1.00      1.00      1.00        15\n",
            "         1.0       1.00      1.00      1.00        15\n",
            "         2.0       1.00      1.00      1.00        10\n",
            "\n",
            "    accuracy                           1.00        40\n",
            "   macro avg       1.00      1.00      1.00        40\n",
            "weighted avg       1.00      1.00      1.00        40\n",
            "\n",
            "Fold 8\n",
            "Epoch [1], train_loss: 0.1416, train_accuracy: 99.1643\n",
            "Epoch [2], train_loss: 0.0924, train_accuracy: 99.7214\n",
            "Epoch [3], train_loss: 0.0000, train_accuracy: 100.0000\n",
            "Epoch [4], train_loss: 0.0011, train_accuracy: 100.0000\n",
            "Epoch [5], train_loss: 0.1374, train_accuracy: 99.7214\n",
            "Epoch [6], train_loss: 0.1073, train_accuracy: 99.4429\n",
            "Epoch [7], train_loss: 0.0663, train_accuracy: 99.7214\n",
            "Epoch [8], train_loss: 0.0000, train_accuracy: 100.0000\n",
            "Epoch [9], train_loss: 0.0000, train_accuracy: 100.0000\n",
            "Epoch [10], train_loss: 0.0842, train_accuracy: 99.7214\n",
            "Test loss of the model: 0.0000 %\n",
            "Test Accuracy of the model: 100.0 %\n",
            "              precision    recall  f1-score   support\n",
            "\n",
            "         0.0       1.00      1.00      1.00        15\n",
            "         1.0       1.00      1.00      1.00        13\n",
            "         2.0       1.00      1.00      1.00        12\n",
            "\n",
            "    accuracy                           1.00        40\n",
            "   macro avg       1.00      1.00      1.00        40\n",
            "weighted avg       1.00      1.00      1.00        40\n",
            "\n",
            "Fold 9\n",
            "Epoch [1], train_loss: 0.0000, train_accuracy: 100.0000\n",
            "Epoch [2], train_loss: 0.0000, train_accuracy: 100.0000\n",
            "Epoch [3], train_loss: 0.0000, train_accuracy: 100.0000\n",
            "Epoch [4], train_loss: 0.0000, train_accuracy: 100.0000\n",
            "Epoch [5], train_loss: 0.0002, train_accuracy: 100.0000\n",
            "Epoch [6], train_loss: 0.0151, train_accuracy: 99.7214\n",
            "Epoch [7], train_loss: 0.1246, train_accuracy: 99.7214\n",
            "Epoch [8], train_loss: 0.0000, train_accuracy: 100.0000\n",
            "Epoch [9], train_loss: 0.1125, train_accuracy: 99.7214\n",
            "Epoch [10], train_loss: 0.0405, train_accuracy: 99.7214\n",
            "Test loss of the model: 0.0065 %\n",
            "Test Accuracy of the model: 97.5 %\n",
            "              precision    recall  f1-score   support\n",
            "\n",
            "         0.0       1.00      0.93      0.97        15\n",
            "         1.0       0.93      1.00      0.96        13\n",
            "         2.0       1.00      1.00      1.00        12\n",
            "\n",
            "    accuracy                           0.97        40\n",
            "   macro avg       0.98      0.98      0.98        40\n",
            "weighted avg       0.98      0.97      0.98        40\n",
            "\n",
            "Fold 10\n",
            "Epoch [1], train_loss: 0.0000, train_accuracy: 100.0000\n",
            "Epoch [2], train_loss: 0.0000, train_accuracy: 100.0000\n",
            "Epoch [3], train_loss: 0.0000, train_accuracy: 100.0000\n",
            "Epoch [4], train_loss: 0.2198, train_accuracy: 99.1667\n",
            "Epoch [5], train_loss: 0.1236, train_accuracy: 99.4444\n",
            "Epoch [6], train_loss: 0.2008, train_accuracy: 99.7222\n",
            "Epoch [7], train_loss: 0.0000, train_accuracy: 100.0000\n",
            "Epoch [8], train_loss: 0.0000, train_accuracy: 100.0000\n",
            "Epoch [9], train_loss: 0.0000, train_accuracy: 100.0000\n",
            "Epoch [10], train_loss: 0.0000, train_accuracy: 100.0000\n",
            "Test loss of the model: 0.0000 %\n",
            "Test Accuracy of the model: 100.0 %\n",
            "              precision    recall  f1-score   support\n",
            "\n",
            "         0.0       1.00      1.00      1.00        16\n",
            "         1.0       1.00      1.00      1.00        11\n",
            "         2.0       1.00      1.00      1.00        12\n",
            "\n",
            "    accuracy                           1.00        39\n",
            "   macro avg       1.00      1.00      1.00        39\n",
            "weighted avg       1.00      1.00      1.00        39\n",
            "\n"
          ]
        }
      ]
    },
    {
      "cell_type": "code",
      "metadata": {
        "colab": {
          "base_uri": "https://localhost:8080/"
        },
        "id": "6N731LqvwwOF",
        "outputId": "eeea91cf-3f12-4e87-9123-c2179e62a153"
      },
      "source": [
        "testLoss,trainLoss,testAccuracy,trainAccuracy=[],[],[],[]\n",
        "k=10\n",
        "for f in range(1,k+1):\n",
        "  trainLoss.append(foldperf['fold{}'.format(f)]['train_loss'])\n",
        "  trainAccuracy.append(foldperf['fold{}'.format(f)]['train_accuracy'])\n",
        "  testLoss.append(foldperf['fold{}'.format(f)]['test_loss'])\n",
        "  testAccuracy.append(foldperf['fold{}'.format(f)]['test_accuracy'])\n",
        "\n",
        "print('Performance of {} fold cross validation'.format(k))\n",
        "print(\"Average Training Loss: {:.4f} \\t Average Test Loss: {:.4f} \\t Average Training Acc: {:.4f} \\t Average Test Acc: {:.4f}\".format(np.mean(trainLoss),sum(testLoss)/k,np.mean(trainAccuracy),sum(testAccuracy)/k))     "
      ],
      "id": "6N731LqvwwOF",
      "execution_count": null,
      "outputs": [
        {
          "output_type": "stream",
          "name": "stdout",
          "text": [
            "Performance of 10 fold cross validation\n",
            "Average Training Loss: 0.1864 \t Average Test Loss: 0.2254 \t Average Training Acc: 99.4986 \t Average Test Acc: 99.0000\n"
          ]
        }
      ]
    },
    {
      "cell_type": "code",
      "metadata": {
        "colab": {
          "base_uri": "https://localhost:8080/"
        },
        "id": "Z3W0xodT6zii",
        "outputId": "48f8efed-8e68-4e67-e50a-277eed349c80"
      },
      "source": [
        "#history = fit(50, 0.001, model, train_loader, val_loader, torch.optim.Adam)\n",
        "\n",
        "torch.save(model, model_path)"
      ],
      "id": "Z3W0xodT6zii",
      "execution_count": null,
      "outputs": [
        {
          "output_type": "stream",
          "name": "stdout",
          "text": [
            "Epoch [1], train_loss: 14.3057, val_loss: 1.3502, val_acc: 0.3803\n",
            "Epoch [2], train_loss: 1.3955, val_loss: 1.1948, val_acc: 0.4778\n",
            "Epoch [3], train_loss: 1.2612, val_loss: 1.1163, val_acc: 0.5513\n",
            "Epoch [4], train_loss: 1.2098, val_loss: 1.0900, val_acc: 0.5246\n",
            "Epoch [5], train_loss: 1.1410, val_loss: 0.9741, val_acc: 0.6314\n",
            "Epoch [6], train_loss: 1.0009, val_loss: 0.8534, val_acc: 0.6221\n",
            "Epoch [7], train_loss: 0.9285, val_loss: 0.7459, val_acc: 0.7132\n",
            "Epoch [8], train_loss: 0.8186, val_loss: 0.5815, val_acc: 0.7823\n",
            "Epoch [9], train_loss: 0.6474, val_loss: 0.4870, val_acc: 0.8208\n",
            "Epoch [10], train_loss: 0.5995, val_loss: 0.4170, val_acc: 0.8649\n",
            "Epoch [11], train_loss: 0.5451, val_loss: 0.3929, val_acc: 0.8574\n",
            "Epoch [12], train_loss: 0.4802, val_loss: 0.4577, val_acc: 0.8190\n",
            "Epoch [13], train_loss: 0.3649, val_loss: 0.2160, val_acc: 0.9241\n",
            "Epoch [14], train_loss: 0.3161, val_loss: 0.2211, val_acc: 0.9241\n",
            "Epoch [15], train_loss: 0.2896, val_loss: 0.2153, val_acc: 0.9150\n",
            "Epoch [16], train_loss: 0.2645, val_loss: 0.3178, val_acc: 0.8907\n",
            "Epoch [17], train_loss: 0.2374, val_loss: 0.1436, val_acc: 0.9516\n",
            "Epoch [18], train_loss: 0.2066, val_loss: 0.2523, val_acc: 0.9024\n",
            "Epoch [19], train_loss: 0.2089, val_loss: 0.0996, val_acc: 0.9600\n",
            "Epoch [20], train_loss: 0.1622, val_loss: 0.0890, val_acc: 0.9667\n",
            "Epoch [21], train_loss: 0.1700, val_loss: 0.1725, val_acc: 0.9525\n",
            "Epoch [22], train_loss: 0.2167, val_loss: 0.0925, val_acc: 0.9633\n",
            "Epoch [23], train_loss: 0.2474, val_loss: 0.1257, val_acc: 0.9550\n",
            "Epoch [24], train_loss: 0.2066, val_loss: 0.1129, val_acc: 0.9675\n",
            "Epoch [25], train_loss: 0.1508, val_loss: 0.0616, val_acc: 0.9741\n",
            "Epoch [26], train_loss: 0.1362, val_loss: 0.0942, val_acc: 0.9616\n",
            "Epoch [27], train_loss: 0.1258, val_loss: 0.1202, val_acc: 0.9516\n",
            "Epoch [28], train_loss: 0.2240, val_loss: 0.1480, val_acc: 0.9458\n",
            "Epoch [29], train_loss: 0.2523, val_loss: 0.3650, val_acc: 0.8865\n",
            "Epoch [30], train_loss: 0.2045, val_loss: 0.0826, val_acc: 0.9716\n",
            "Epoch [31], train_loss: 0.1498, val_loss: 0.0783, val_acc: 0.9667\n",
            "Epoch [32], train_loss: 0.1283, val_loss: 0.0898, val_acc: 0.9616\n",
            "Epoch [33], train_loss: 0.0864, val_loss: 0.0557, val_acc: 0.9749\n",
            "Epoch [34], train_loss: 0.0732, val_loss: 0.0410, val_acc: 0.9774\n",
            "Epoch [35], train_loss: 0.0518, val_loss: 0.0365, val_acc: 0.9775\n",
            "Epoch [36], train_loss: 0.0476, val_loss: 0.0360, val_acc: 0.9775\n",
            "Epoch [37], train_loss: 0.0584, val_loss: 0.0404, val_acc: 0.9775\n",
            "Epoch [38], train_loss: 0.0544, val_loss: 0.0346, val_acc: 0.9774\n",
            "Epoch [39], train_loss: 0.0596, val_loss: 0.0379, val_acc: 0.9774\n",
            "Epoch [40], train_loss: 0.0951, val_loss: 0.0935, val_acc: 0.9641\n",
            "Epoch [41], train_loss: 0.1324, val_loss: 0.1366, val_acc: 0.9474\n",
            "Epoch [42], train_loss: 0.1286, val_loss: 0.2078, val_acc: 0.9224\n",
            "Epoch [43], train_loss: 0.0950, val_loss: 0.0631, val_acc: 0.9691\n",
            "Epoch [44], train_loss: 0.1603, val_loss: 0.3644, val_acc: 0.8824\n",
            "Epoch [45], train_loss: 0.1851, val_loss: 0.1789, val_acc: 0.9324\n",
            "Epoch [46], train_loss: 0.1385, val_loss: 0.0531, val_acc: 0.9725\n",
            "Epoch [47], train_loss: 0.1270, val_loss: 0.2264, val_acc: 0.9216\n",
            "Epoch [48], train_loss: 0.1754, val_loss: 0.4845, val_acc: 0.8657\n",
            "Epoch [49], train_loss: 0.2527, val_loss: 0.0684, val_acc: 0.9674\n",
            "Epoch [50], train_loss: 0.0998, val_loss: 0.0592, val_acc: 0.9742\n"
          ]
        }
      ]
    },
    {
      "cell_type": "code",
      "metadata": {
        "colab": {
          "base_uri": "https://localhost:8080/",
          "height": 295
        },
        "id": "205783a4",
        "outputId": "82741c8a-e8f4-4fd0-ed85-9ca43f9313ce"
      },
      "source": [
        "import matplotlib.pyplot as plt\n",
        "\n",
        "def plot_accuracies(history):\n",
        "    \"\"\" Plot the history of accuracies\"\"\"\n",
        "    #accuracies = [x['val_acc'] for x in history]\n",
        "    plt.plot(history, '-x')\n",
        "    plt.xlabel('epoch')\n",
        "    plt.ylabel('accuracy')\n",
        "    plt.title('Accuracy vs. No. of epochs');\n",
        "    \n",
        "\n",
        "plot_accuracies(trainAccuracy)"
      ],
      "id": "205783a4",
      "execution_count": null,
      "outputs": [
        {
          "output_type": "display_data",
          "data": {
            "image/png": "[encoded data removed]",
            "text/plain": [
              "<Figure size 432x288 with 1 Axes>"
            ]
          },
          "metadata": {
            "needs_background": "light"
          }
        }
      ]
    },
    {
      "cell_type": "code",
      "metadata": {
        "colab": {
          "base_uri": "https://localhost:8080/",
          "height": 295
        },
        "id": "4bf8b30b",
        "outputId": "5097b49f-5fcc-42d6-bc60-61a3761f614d"
      },
      "source": [
        "def plot_losses(history):\n",
        "    \"\"\" Plot the losses in each epoch\"\"\"\n",
        "    train_losses = [x.get('train_loss') for x in history]\n",
        "    val_losses = [x['val_loss'] for x in history]\n",
        "    plt.plot(train_losses, '-bx')\n",
        "    plt.plot(val_losses, '-rx')\n",
        "    plt.xlabel('epoch')\n",
        "    plt.ylabel('loss')\n",
        "    plt.legend(['Training', 'Validation'])\n",
        "    plt.title('Loss vs. No. of epochs');\n",
        "\n",
        "plot_losses(history)"
      ],
      "id": "4bf8b30b",
      "execution_count": null,
      "outputs": [
        {
          "output_type": "display_data",
          "data": {
            "image/png": "[encoded data removed]",
            "text/plain": [
              "<Figure size 432x288 with 1 Axes>"
            ]
          },
          "metadata": {
            "needs_background": "light"
          }
        }
      ]
    },
    {
      "cell_type": "code",
      "metadata": {
        "id": "6J0r-tQo6NgM",
        "colab": {
          "base_uri": "https://localhost:8080/",
          "height": 350
        },
        "outputId": "4ccf25da-825c-47cb-da42-80eeae50d20b"
      },
      "source": [
        "import copy\n",
        "model.load_state_dict(copy.deepcopy(torch.load(model_path, device)))\n",
        "model.eval()"
      ],
      "id": "6J0r-tQo6NgM",
      "execution_count": null,
      "outputs": [
        {
          "output_type": "error",
          "ename": "AttributeError",
          "evalue": "ignored",
          "traceback": [
            "\u001b[0;31m---------------------------------------------------------------------------\u001b[0m",
            "\u001b[0;31mAttributeError\u001b[0m                            Traceback (most recent call last)",
            "\u001b[0;32m<ipython-input-16-4e40856b9d65>\u001b[0m in \u001b[0;36m<module>\u001b[0;34m()\u001b[0m\n\u001b[1;32m      1\u001b[0m \u001b[0;32mimport\u001b[0m \u001b[0mcopy\u001b[0m\u001b[0;34m\u001b[0m\u001b[0;34m\u001b[0m\u001b[0m\n\u001b[0;32m----> 2\u001b[0;31m \u001b[0mmodel\u001b[0m\u001b[0;34m.\u001b[0m\u001b[0mload_state_dict\u001b[0m\u001b[0;34m(\u001b[0m\u001b[0mcopy\u001b[0m\u001b[0;34m.\u001b[0m\u001b[0mdeepcopy\u001b[0m\u001b[0;34m(\u001b[0m\u001b[0mtorch\u001b[0m\u001b[0;34m.\u001b[0m\u001b[0mload\u001b[0m\u001b[0;34m(\u001b[0m\u001b[0mmodel_path\u001b[0m\u001b[0;34m,\u001b[0m \u001b[0mdevice\u001b[0m\u001b[0;34m)\u001b[0m\u001b[0;34m)\u001b[0m\u001b[0;34m)\u001b[0m\u001b[0;34m\u001b[0m\u001b[0;34m\u001b[0m\u001b[0m\n\u001b[0m\u001b[1;32m      3\u001b[0m \u001b[0mmodel\u001b[0m\u001b[0;34m.\u001b[0m\u001b[0meval\u001b[0m\u001b[0;34m(\u001b[0m\u001b[0;34m)\u001b[0m\u001b[0;34m\u001b[0m\u001b[0;34m\u001b[0m\u001b[0m\n",
            "\u001b[0;32m/usr/local/lib/python3.7/dist-packages/torch/nn/modules/module.py\u001b[0m in \u001b[0;36mload_state_dict\u001b[0;34m(self, state_dict, strict)\u001b[0m\n\u001b[1;32m   1453\u001b[0m         \u001b[0;31m# copy state_dict so _load_from_state_dict can modify it\u001b[0m\u001b[0;34m\u001b[0m\u001b[0;34m\u001b[0m\u001b[0;34m\u001b[0m\u001b[0m\n\u001b[1;32m   1454\u001b[0m         \u001b[0mmetadata\u001b[0m \u001b[0;34m=\u001b[0m \u001b[0mgetattr\u001b[0m\u001b[0;34m(\u001b[0m\u001b[0mstate_dict\u001b[0m\u001b[0;34m,\u001b[0m \u001b[0;34m'_metadata'\u001b[0m\u001b[0;34m,\u001b[0m \u001b[0;32mNone\u001b[0m\u001b[0;34m)\u001b[0m\u001b[0;34m\u001b[0m\u001b[0;34m\u001b[0m\u001b[0m\n\u001b[0;32m-> 1455\u001b[0;31m         \u001b[0mstate_dict\u001b[0m \u001b[0;34m=\u001b[0m \u001b[0mstate_dict\u001b[0m\u001b[0;34m.\u001b[0m\u001b[0mcopy\u001b[0m\u001b[0;34m(\u001b[0m\u001b[0;34m)\u001b[0m\u001b[0;34m\u001b[0m\u001b[0;34m\u001b[0m\u001b[0m\n\u001b[0m\u001b[1;32m   1456\u001b[0m         \u001b[0;32mif\u001b[0m \u001b[0mmetadata\u001b[0m \u001b[0;32mis\u001b[0m \u001b[0;32mnot\u001b[0m \u001b[0;32mNone\u001b[0m\u001b[0;34m:\u001b[0m\u001b[0;34m\u001b[0m\u001b[0;34m\u001b[0m\u001b[0m\n\u001b[1;32m   1457\u001b[0m             \u001b[0;31m# mypy isn't aware that \"_metadata\" exists in state_dict\u001b[0m\u001b[0;34m\u001b[0m\u001b[0;34m\u001b[0m\u001b[0;34m\u001b[0m\u001b[0m\n",
            "\u001b[0;32m/usr/local/lib/python3.7/dist-packages/torch/nn/modules/module.py\u001b[0m in \u001b[0;36m__getattr__\u001b[0;34m(self, name)\u001b[0m\n\u001b[1;32m   1176\u001b[0m                 \u001b[0;32mreturn\u001b[0m \u001b[0mmodules\u001b[0m\u001b[0;34m[\u001b[0m\u001b[0mname\u001b[0m\u001b[0;34m]\u001b[0m\u001b[0;34m\u001b[0m\u001b[0;34m\u001b[0m\u001b[0m\n\u001b[1;32m   1177\u001b[0m         raise AttributeError(\"'{}' object has no attribute '{}'\".format(\n\u001b[0;32m-> 1178\u001b[0;31m             type(self).__name__, name))\n\u001b[0m\u001b[1;32m   1179\u001b[0m \u001b[0;34m\u001b[0m\u001b[0m\n\u001b[1;32m   1180\u001b[0m     \u001b[0;32mdef\u001b[0m \u001b[0m__setattr__\u001b[0m\u001b[0;34m(\u001b[0m\u001b[0mself\u001b[0m\u001b[0;34m,\u001b[0m \u001b[0mname\u001b[0m\u001b[0;34m:\u001b[0m \u001b[0mstr\u001b[0m\u001b[0;34m,\u001b[0m \u001b[0mvalue\u001b[0m\u001b[0;34m:\u001b[0m \u001b[0mUnion\u001b[0m\u001b[0;34m[\u001b[0m\u001b[0mTensor\u001b[0m\u001b[0;34m,\u001b[0m \u001b[0;34m'Module'\u001b[0m\u001b[0;34m]\u001b[0m\u001b[0;34m)\u001b[0m \u001b[0;34m->\u001b[0m \u001b[0;32mNone\u001b[0m\u001b[0;34m:\u001b[0m\u001b[0;34m\u001b[0m\u001b[0;34m\u001b[0m\u001b[0m\n",
            "\u001b[0;31mAttributeError\u001b[0m: 'CNN' object has no attribute 'copy'"
          ]
        }
      ]
    },
    {
      "cell_type": "code",
      "metadata": {
        "colab": {
          "base_uri": "https://localhost:8080/"
        },
        "id": "ti3qPWSu6Ibs",
        "outputId": "8b41298f-381a-4009-afe2-b415c78c9030"
      },
      "source": [
        "\"\"\"test_dataset = FaceMaskDataset(test_indexes, conversion=transform)\n",
        "print(\"Loading test set\")\n",
        "test_loader = torch.utils.data.DataLoader(\n",
        "    dataset=test_dataset, batch_size=batch_size, shuffle=True, num_workers=0)\"\"\""
      ],
      "id": "ti3qPWSu6Ibs",
      "execution_count": null,
      "outputs": [
        {
          "output_type": "stream",
          "name": "stdout",
          "text": [
            "Loading test set\n"
          ]
        }
      ]
    },
    {
      "cell_type": "code",
      "metadata": {
        "id": "2Q419aDnyF00"
      },
      "source": [
        "def label_to_classname(label):\n",
        "  for classname in classes.keys():\n",
        "    if classes[classname] == label:\n",
        "      return classname\n",
        "  return 'NULL'"
      ],
      "id": "2Q419aDnyF00",
      "execution_count": null,
      "outputs": []
    },
    {
      "cell_type": "code",
      "metadata": {
        "id": "7f67cc65",
        "colab": {
          "base_uri": "https://localhost:8080/"
        },
        "outputId": "3937e0e8-cf28-4c09-e453-75725c0dda57"
      },
      "source": [
        "new_images_path = os.path.join(BASE, \"test\")\n",
        "\n",
        "new_images = os.listdir(new_images_path)\n",
        "\n",
        "with torch.no_grad():\n",
        "    for image in new_images:\n",
        "      file_name = image\n",
        "      image = transform(Image.open(os.path.join(new_images_path, image)).convert('RGB'))\n",
        "      # image = image.unsqueeze(1)\n",
        "      image = image.unsqueeze(0)\n",
        "      image = image.to(device)\n",
        "      labels = model(image)\n",
        "      _, predicted = torch.max(labels.data, 1)\n",
        "      print(f'{file_name} file is {label_to_classname(predicted[0])}')\n"
      ],
      "id": "7f67cc65",
      "execution_count": null,
      "outputs": [
        {
          "output_type": "stream",
          "name": "stdout",
          "text": [
            "0748.jpg file is mask_surgical\n",
            "1.jpg file is mask_surgical\n",
            "4.jpg file is mask_surgical\n",
            "3.png file is ffp2_mask\n",
            "cloth_mask.jpg file is mask_colorful\n",
            "without_mask.jpg file is face_no_mask\n",
            "n95_mask.jpg file is mask_surgical\n"
          ]
        }
      ]
    },
    {
      "cell_type": "code",
      "metadata": {
        "id": "25d62024"
      },
      "source": [
        "# transform = transforms.Compose(\n",
        "#     [transforms.Resize((100, 100)),\n",
        "#         transforms.ToTensor(),\n",
        "#         transforms.Normalize((0.5, 0.5, 0.5), (0.5, 0.5, 0.5))])\n",
        "\n",
        "\n",
        "# new_data_folder = \"./data/new/images\"\n",
        "\n",
        "# tensor_image = transforms.ToPILImage()(transform(Image.open(os.path.join(new_data_folder, '1.png'))))\n",
        "\n",
        "# import matplotlib.pyplot as plt\n",
        "\n",
        "# plt.imshow(tensor_image)\n",
        "# plt.show()"
      ],
      "id": "25d62024",
      "execution_count": null,
      "outputs": []
    }
  ]
}