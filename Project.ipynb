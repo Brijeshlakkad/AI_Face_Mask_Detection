{
  "nbformat": 4,
  "nbformat_minor": 5,
  "metadata": {
    "accelerator": "GPU",
    "colab": {
      "name": "Project.ipynb",
      "provenance": [],
      "collapsed_sections": [],
      "machine_shape": "hm"
    },
    "kernelspec": {
      "display_name": "Python 3",
      "language": "python",
      "name": "python3"
    },
    "language_info": {
      "codemirror_mode": {
        "name": "ipython",
        "version": 3
      },
      "file_extension": ".py",
      "mimetype": "text/x-python",
      "name": "python",
      "nbconvert_exporter": "python",
      "pygments_lexer": "ipython3",
      "version": "3.8.8"
    }
  },
  "cells": [
    {
      "cell_type": "code",
      "metadata": {
        "colab": {
          "base_uri": "https://localhost:8080/"
        },
        "id": "ZwmOvfWynTeL",
        "outputId": "ea428283-bea9-4268-999c-8f97f627350b"
      },
      "source": [
        "from google.colab import drive\n",
        "drive.mount('/content/drive')"
      ],
      "id": "ZwmOvfWynTeL",
      "execution_count": 1,
      "outputs": [
        {
          "output_type": "stream",
          "name": "stdout",
          "text": [
            "Mounted at /content/drive\n"
          ]
        }
      ]
    },
    {
      "cell_type": "code",
      "metadata": {
        "id": "6580d713"
      },
      "source": [
        "import pandas as pd\n",
        "import numpy as np\n",
        "import os\n",
        "from torch.utils.data import Dataset\n",
        "from PIL import Image\n",
        "import random\n",
        "import torch\n",
        "import torch.nn as nn\n",
        "import torchvision.transforms as transforms\n",
        "from sklearn.model_selection import KFold\n",
        "from torch.utils.data.dataset import Subset\n",
        "import matplotlib.pyplot as plt\n",
        "\n",
        "columns = [\"filename\", \"classname\"]\n",
        "\n",
        "# BASE = \"./data\"\n",
        "BASE = \"/content/drive/MyDrive/Colab Notebooks/data/preprocessed\"\n",
        "data_csv_file = os.path.join(BASE, \"data.csv\")\n",
        "data_folder = os.path.join(BASE, \"images\")\n",
        "#root_folder = os.path.join(BASE, \"/\")\n",
        "\n",
        "data_df = pd.read_csv(data_csv_file, skiprows=1, names=columns)\n",
        "#print(len(data_df))"
      ],
      "id": "6580d713",
      "execution_count": 2,
      "outputs": []
    },
    {
      "cell_type": "code",
      "metadata": {
        "id": "d09f94dc"
      },
      "source": [
        "# get image data\n",
        "def getImageData(folder, image_file):\n",
        "    return Image.open(os.path.join(folder, image_file)).convert('RGB') # Load the image\n",
        "\n",
        "# create directory\n",
        "def make_dir(dir_path):\n",
        "    if not os.path.isdir(dir_path):\n",
        "        os.makedirs(dir_path)\n",
        "\n",
        "model_path = os.path.join(BASE, 'model', 'face_mask_detection.pth')\n",
        "# make_dir(model_path)\n",
        "\n",
        "# predefined classes\n",
        "classes = {\n",
        "    \"mask_colorful\": 0,\n",
        "    \"face_no_mask\": 1,\n",
        "    \"mask_surgical\": 2,\n",
        "    \"ffp2_mask\": 3\n",
        "}\n"
      ],
      "id": "d09f94dc",
      "execution_count": 3,
      "outputs": []
    },
    {
      "cell_type": "code",
      "metadata": {
        "id": "9002c180"
      },
      "source": [
        "class FaceMaskDataset(Dataset):\n",
        "    dataset = []\n",
        "    conversion = None\n",
        "\n",
        "    def __init__(self, indexes, conversion=transforms.ToTensor()):\n",
        "        self.conversion = conversion\n",
        "        for rowIndex in indexes:\n",
        "            sample = {}\n",
        "            sample['image'] = getImageData(data_folder, data_df[columns[0]][rowIndex])\n",
        "            sample['target'] = classes[data_df[columns[1]][rowIndex]]\n",
        "            self.dataset.append(sample)\n",
        "\n",
        "    def __len__(self):\n",
        "        return len(self.dataset)\n",
        "\n",
        "    def __getitem__(self, index):\n",
        "        image = self.dataset[index]['image']\n",
        "        if self.conversion is not None:\n",
        "            image = self.conversion(image)\n",
        "        return image, self.dataset[index]['target']"
      ],
      "id": "9002c180",
      "execution_count": 4,
      "outputs": []
    },
    {
      "cell_type": "code",
      "metadata": {
        "colab": {
          "base_uri": "https://localhost:8080/",
          "height": 145
        },
        "id": "47d105e6",
        "outputId": "ef41c278-adeb-4af7-8967-5e7d19cf2a1d"
      },
      "source": [
        "\"\"\"train_split_percentage = 0.75\n",
        "val_split_percentage = 0.15\n",
        "test_split_percentage = 0.1\"\"\"\n",
        "size_of_the_dataset = int(data_df.shape[0]/10)\n",
        "\n",
        "\n",
        "print(\"size_of_the_dataset\", size_of_the_dataset)\n",
        "\n",
        "batch_size = 25\n",
        "num_of_classes = len(classes.keys())\n",
        "\n",
        "indexes = list(range(size_of_the_dataset))\n",
        "random.shuffle(indexes)\n",
        "print(len(indexes))\n",
        "\n",
        "\"\"\"\n",
        "train_indexes = indexes[:int(train_split_percentage*len(indexes))]\n",
        "val_indexes = indexes[int(train_split_percentage*len(indexes))                      :int((train_split_percentage + val_split_percentage)*len(indexes))]\n",
        "test_indexes = indexes[int(\n",
        "    (train_split_percentage + val_split_percentage)*len(indexes)):]\n",
        "\n",
        "\n",
        "print(f\"Effective train split = {len(train_indexes)/len(indexes)*100}%\")\n",
        "print(f\"Effective val split = {len(val_indexes)/len(indexes)*100}%\")\n",
        "print(f\"Effective test split = {len(test_indexes)/len(indexes)*100}%\")\"\"\""
      ],
      "id": "47d105e6",
      "execution_count": 5,
      "outputs": [
        {
          "output_type": "stream",
          "name": "stdout",
          "text": [
            "size_of_the_dataset 133\n",
            "133\n"
          ]
        },
        {
          "output_type": "execute_result",
          "data": {
            "application/vnd.google.colaboratory.intrinsic+json": {
              "type": "string"
            },
            "text/plain": [
              "'\\ntrain_indexes = indexes[:int(train_split_percentage*len(indexes))]\\nval_indexes = indexes[int(train_split_percentage*len(indexes))                      :int((train_split_percentage + val_split_percentage)*len(indexes))]\\ntest_indexes = indexes[int(\\n    (train_split_percentage + val_split_percentage)*len(indexes)):]\\n\\n\\nprint(f\"Effective train split = {len(train_indexes)/len(indexes)*100}%\")\\nprint(f\"Effective val split = {len(val_indexes)/len(indexes)*100}%\")\\nprint(f\"Effective test split = {len(test_indexes)/len(indexes)*100}%\")'"
            ]
          },
          "metadata": {},
          "execution_count": 5
        }
      ]
    },
    {
      "cell_type": "code",
      "metadata": {
        "id": "xWtJ0bEh7obY"
      },
      "source": [
        "transform = transforms.Compose(\n",
        "    [transforms.Resize((250, 250)),\n",
        "        transforms.ToTensor(),\n",
        "        transforms.Normalize(mean=[0.485, 0.456, 0.406],\n",
        "                                       std=[0.229, 0.224, 0.225])])"
      ],
      "id": "xWtJ0bEh7obY",
      "execution_count": 6,
      "outputs": []
    },
    {
      "cell_type": "code",
      "metadata": {
        "colab": {
          "base_uri": "https://localhost:8080/"
        },
        "id": "nG4dQr0j5x0N",
        "outputId": "ed5c3cd3-7d78-469f-b318-e47aa176626c"
      },
      "source": [
        "print(\"Loading dataset\")\n",
        "dataset = FaceMaskDataset(indexes, conversion=transform)"
      ],
      "id": "nG4dQr0j5x0N",
      "execution_count": 7,
      "outputs": [
        {
          "output_type": "stream",
          "name": "stdout",
          "text": [
            "Loading dataset\n"
          ]
        }
      ]
    },
    {
      "cell_type": "code",
      "metadata": {
        "colab": {
          "base_uri": "https://localhost:8080/",
          "height": 72
        },
        "id": "c58831c3",
        "outputId": "64fd0c4c-7b5c-48e2-9887-d5438afc747b"
      },
      "source": [
        "\"\"\"print(\"Loading training set\")\n",
        "train_dataset = FaceMaskDataset(train_indexes, conversion=transform)\n",
        "print(\"Loading validation set\")\n",
        "val_dataset = FaceMaskDataset(val_indexes, conversion=transform)\n",
        "train_loader = torch.utils.data.DataLoader(\n",
        "    dataset=train_dataset, batch_size=batch_size, shuffle=True, num_workers=0)\n",
        "val_loader = torch.utils.data.DataLoader(\n",
        "    dataset=val_dataset, batch_size=batch_size, shuffle=False, num_workers=0)\"\"\""
      ],
      "id": "c58831c3",
      "execution_count": null,
      "outputs": [
        {
          "output_type": "execute_result",
          "data": {
            "application/vnd.google.colaboratory.intrinsic+json": {
              "type": "string"
            },
            "text/plain": [
              "'print(\"Loading training set\")\\ntrain_dataset = FaceMaskDataset(train_indexes, conversion=transform)\\nprint(\"Loading validation set\")\\nval_dataset = FaceMaskDataset(val_indexes, conversion=transform)\\ntrain_loader = torch.utils.data.DataLoader(\\n    dataset=train_dataset, batch_size=batch_size, shuffle=True, num_workers=0)\\nval_loader = torch.utils.data.DataLoader(\\n    dataset=val_dataset, batch_size=batch_size, shuffle=False, num_workers=0)'"
            ]
          },
          "metadata": {},
          "execution_count": 6
        }
      ]
    },
    {
      "cell_type": "code",
      "metadata": {
        "id": "c67379d5",
        "colab": {
          "base_uri": "https://localhost:8080/"
        },
        "outputId": "aeecde44-2dc8-4aa8-94fb-592b92b2531b"
      },
      "source": [
        "device = torch.device('cuda' if torch.cuda.is_available() else 'cpu')\n",
        "print('Using device:', device)"
      ],
      "id": "c67379d5",
      "execution_count": 8,
      "outputs": [
        {
          "output_type": "stream",
          "name": "stdout",
          "text": [
            "Using device: cuda\n"
          ]
        }
      ]
    },
    {
      "cell_type": "code",
      "metadata": {
        "id": "0a2b3745"
      },
      "source": [
        "import torch.nn as nn\n",
        "import torch.nn.functional as F\n",
        "\n",
        "class FaceMaskClassificationBase(nn.Module):\n",
        "    train_correct = 0\n",
        "    def training_step(self, batch):\n",
        "        images, labels = batch \n",
        "        images, labels = images.to(device), labels.to(device)\n",
        "        out = self(images)                  # Generate predictions\n",
        "        loss = F.cross_entropy(out, labels) # Calculate loss\n",
        "        scores, predictions = torch.max(out.data, 1)\n",
        "        train_correct = (predictions == labels).sum().item()\n",
        "        return loss, train_correct\n",
        "    \n",
        "    def validation_step(self, batch):\n",
        "        images, labels = batch \n",
        "        images, labels = images.to(device), labels.to(device)\n",
        "        out = self(images)                    # Generate predictions\n",
        "        loss = F.cross_entropy(out, labels)   # Calculate loss\n",
        "        acc = accuracy(out, labels)           # Calculate accuracy\n",
        "        return {'val_loss': loss.detach(), 'val_acc': acc}\n",
        "        \n",
        "    def validation_epoch_end(self, outputs):\n",
        "        batch_losses = [x['val_loss'] for x in outputs]\n",
        "        epoch_loss = torch.stack(batch_losses).mean()   # Combine losses\n",
        "        batch_accs = [x['val_acc'] for x in outputs]\n",
        "        epoch_acc = torch.stack(batch_accs).mean()      # Combine accuracies\n",
        "        return {'val_loss': epoch_loss.item(), 'val_acc': epoch_acc.item()}\n",
        "    \n",
        "    def epoch_end(self, epoch, result):\n",
        "        print(\"Epoch [{}], train_loss: {:.4f}, train_accuracy: {:.4f}\".format(\n",
        "            epoch+1, result['train_loss'], result['train_accuracy']))"
      ],
      "id": "0a2b3745",
      "execution_count": 9,
      "outputs": []
    },
    {
      "cell_type": "code",
      "metadata": {
        "id": "0323ceca"
      },
      "source": [
        "class CNN(FaceMaskClassificationBase):\n",
        "    def __init__(self):\n",
        "        super(CNN, self).__init__()\n",
        "        self.conv_layer = nn.Sequential(\n",
        "            nn.Conv2d(in_channels=3, out_channels=32, kernel_size=3, padding=1),\n",
        "            nn.BatchNorm2d(32),\n",
        "            nn.LeakyReLU(inplace=True),\n",
        "            nn.Conv2d(in_channels=32, out_channels=32, kernel_size=3, padding=1),\n",
        "            nn.BatchNorm2d(32),\n",
        "            nn.LeakyReLU(inplace=True),\n",
        "            nn.MaxPool2d(kernel_size=2, stride=2),\n",
        "            nn.Conv2d(in_channels=32, out_channels=64, kernel_size=3, padding=1),\n",
        "            nn.BatchNorm2d(64),\n",
        "            nn.LeakyReLU(inplace=True),\n",
        "            nn.Conv2d(in_channels=64, out_channels=64, kernel_size=3, padding=1),\n",
        "            nn.BatchNorm2d(64),\n",
        "            nn.LeakyReLU(inplace=True),\n",
        "            nn.MaxPool2d(kernel_size=2, stride=2),\n",
        "        )\n",
        "        self.fc_layer = nn.Sequential(\n",
        "            nn.Dropout(p=0.1),\n",
        "            nn.Linear(246016, 1024),\n",
        "            nn.ReLU(inplace=True),\n",
        "            nn.Linear(1024, 512),\n",
        "            nn.ReLU(inplace=True),\n",
        "            nn.Dropout(p=0.1),\n",
        "            nn.Linear(512, num_of_classes),\n",
        "        )\n",
        "\n",
        "    def forward(self, x):\n",
        "        # conv layers\n",
        "        x = self.conv_layer(x)\n",
        "        # flatten\n",
        "        x = x.view(x.size(0), -1)\n",
        "        # fc layer\n",
        "        x = self.fc_layer(x)\n",
        "        return x\n"
      ],
      "id": "0323ceca",
      "execution_count": 10,
      "outputs": []
    },
    {
      "cell_type": "code",
      "metadata": {
        "id": "QUOnI_PUZ1SM"
      },
      "source": [
        "def accuracy(outputs, labels):\n",
        "    _, preds = torch.max(outputs, dim=1)\n",
        "    return torch.tensor(torch.sum(preds == labels).item() / len(preds))\n",
        "\n",
        "  \n",
        "@torch.no_grad()\n",
        "def evaluate(model, val_loader):\n",
        "    model.eval()\n",
        "    outputs = [model.validation_step(batch) for batch in val_loader]\n",
        "    return model.validation_epoch_end(outputs)\n",
        "\n",
        "  \n",
        "def fit(epochs, lr, model, train_loader, history, opt_func = torch.optim.SGD):\n",
        "    optimizer = opt_func(model.parameters(),lr)\n",
        "    for epoch in range(epochs):\n",
        "        model.train()\n",
        "        train_losses = []\n",
        "        train_correct = 0\n",
        "        for batch in train_loader:\n",
        "            images, labels = batch\n",
        "            # forward-pass: compute-predicted-outputs-by-passing-inputs-to-the-model\n",
        "            loss, correct = model.training_step(batch)\n",
        "            # update-training-loss\n",
        "            train_losses.append(loss)\n",
        "\n",
        "            train_correct += correct\n",
        "            # backward-pass: compute-gradient-of-the-loss-wrt-model-parameters\n",
        "            loss.backward()\n",
        "            # perform-a-single-optimization-step (parameter-update)\n",
        "            optimizer.step()\n",
        "            # clear-the-gradients-of-all-optimized-variables\n",
        "            optimizer.zero_grad()\n",
        "            \n",
        "        #result = evaluate(model, val_loader)\n",
        "        result = {}\n",
        "        result['train_loss'] = torch.stack(train_losses).mean().item()\n",
        "        result['train_accuracy'] = train_correct / len(train_loader.dataset) * 100\n",
        "\n",
        "        history['train_loss'].append(result['train_loss'])\n",
        "        history['train_accuracy'].append(result['train_accuracy'])\n",
        "\n",
        "        model.epoch_end(epoch, result)\n",
        "        #history.append(result)\n",
        "    \n",
        "    return history"
      ],
      "id": "QUOnI_PUZ1SM",
      "execution_count": 11,
      "outputs": []
    },
    {
      "cell_type": "code",
      "metadata": {
        "id": "d49d62d7"
      },
      "source": [
        "model = CNN()\n",
        "model = model.to(device)"
      ],
      "id": "d49d62d7",
      "execution_count": 12,
      "outputs": []
    },
    {
      "cell_type": "code",
      "metadata": {
        "id": "UKMm4DuV92Xn"
      },
      "source": [
        "def reset_weights(m):\n",
        "    if isinstance(m, nn.Conv2d) or isinstance(m, nn.Linear):\n",
        "        m.reset_parameters()"
      ],
      "id": "UKMm4DuV92Xn",
      "execution_count": 13,
      "outputs": []
    },
    {
      "cell_type": "code",
      "metadata": {
        "id": "pdMC6o4a5f0F"
      },
      "source": [
        "def KFold_creator(model,dataset,batch_size,device):\n",
        "  kfold = KFold(n_splits=10, shuffle=True,random_state=None)\n",
        "  fold_value = 1;\n",
        "  foldperf={}\n",
        "  for fold, (train_idx,test_idx) in enumerate(kfold.split(dataset)):\n",
        "    print('Fold {}'.format(fold + 1))\n",
        "    train_data = Subset(dataset,train_idx)\n",
        "    test_data = Subset(dataset,test_idx)\n",
        "\n",
        "    train_loader = torch.utils.data.DataLoader(dataset=train_data,batch_size=batch_size,num_workers=0,shuffle=True)\n",
        "    test_loader = torch.utils.data.DataLoader(dataset=test_data,batch_size=batch_size,num_workers=0,shuffle=True)\n",
        "    \n",
        "    model.apply(reset_weights)\n",
        "\n",
        "    history = {'train_loss': [], 'test_loss': 0,'train_accuracy':[],'test_accuracy': 0}\n",
        "\n",
        "\n",
        "    history = fit(10, 0.001, model, train_loader, history, torch.optim.Adam)\n",
        "    history = test_phase(model,test_loader,device,history)\n",
        "\n",
        "    foldperf['fold{}'.format(fold+1)] = history   \n",
        "  \n",
        "  return foldperf"
      ],
      "id": "pdMC6o4a5f0F",
      "execution_count": 31,
      "outputs": []
    },
    {
      "cell_type": "code",
      "metadata": {
        "colab": {
          "base_uri": "https://localhost:8080/"
        },
        "id": "cu1C9PvX2EOz",
        "outputId": "9700be88-a59c-418f-fe24-ffaf1c498942"
      },
      "source": [
        "foldperf = KFold_creator(model,dataset,batch_size,device)"
      ],
      "id": "cu1C9PvX2EOz",
      "execution_count": 32,
      "outputs": [
        {
          "output_type": "stream",
          "name": "stdout",
          "text": [
            "Fold 1\n",
            "Epoch [1], train_loss: 17.8277, train_accuracy: 36.9748\n",
            "Epoch [2], train_loss: 6.5714, train_accuracy: 50.4202\n",
            "Epoch [3], train_loss: 2.8034, train_accuracy: 49.5798\n",
            "Epoch [4], train_loss: 0.8231, train_accuracy: 65.5462\n",
            "Epoch [5], train_loss: 0.8509, train_accuracy: 65.5462\n",
            "Epoch [6], train_loss: 0.5559, train_accuracy: 82.3529\n",
            "Epoch [7], train_loss: 0.4800, train_accuracy: 84.8739\n",
            "Epoch [8], train_loss: 0.3175, train_accuracy: 91.5966\n",
            "Epoch [9], train_loss: 0.1824, train_accuracy: 97.4790\n",
            "Epoch [10], train_loss: 0.1227, train_accuracy: 97.4790\n",
            "Test loss of the model: 6.0186 %\n",
            "Test Accuracy of the model: 21.428571428571427 %\n",
            "              precision    recall  f1-score   support\n",
            "\n",
            "         0.0       0.33      0.20      0.25         5\n",
            "         1.0       0.33      0.40      0.36         5\n",
            "         2.0       0.00      0.00      0.00         4\n",
            "\n",
            "    accuracy                           0.21        14\n",
            "   macro avg       0.22      0.20      0.20        14\n",
            "weighted avg       0.24      0.21      0.22        14\n",
            "\n",
            "Fold 2\n",
            "Epoch [1], train_loss: 36.6099, train_accuracy: 34.4538\n",
            "Epoch [2], train_loss: 7.3802, train_accuracy: 46.2185\n",
            "Epoch [3], train_loss: 2.2721, train_accuracy: 25.2101\n",
            "Epoch [4], train_loss: 1.2257, train_accuracy: 38.6555\n",
            "Epoch [5], train_loss: 1.0349, train_accuracy: 47.8992\n",
            "Epoch [6], train_loss: 0.8832, train_accuracy: 61.3445\n",
            "Epoch [7], train_loss: 0.6942, train_accuracy: 78.9916\n",
            "Epoch [8], train_loss: 0.5039, train_accuracy: 87.3950\n",
            "Epoch [9], train_loss: 0.1790, train_accuracy: 94.9580\n",
            "Epoch [10], train_loss: 0.0672, train_accuracy: 99.1597\n",
            "Test loss of the model: 1.6822 %\n",
            "Test Accuracy of the model: 28.57142857142857 %\n",
            "              precision    recall  f1-score   support\n",
            "\n",
            "         0.0       0.33      0.17      0.22         6\n",
            "         1.0       0.30      0.75      0.43         4\n",
            "         2.0       0.00      0.00      0.00         4\n",
            "\n",
            "    accuracy                           0.29        14\n",
            "   macro avg       0.21      0.31      0.22        14\n",
            "weighted avg       0.23      0.29      0.22        14\n",
            "\n",
            "Fold 3\n",
            "Epoch [1], train_loss: 33.2674, train_accuracy: 37.8151\n",
            "Epoch [2], train_loss: 6.6545, train_accuracy: 38.6555\n",
            "Epoch [3], train_loss: 1.6344, train_accuracy: 52.9412\n",
            "Epoch [4], train_loss: 1.0533, train_accuracy: 47.0588\n",
            "Epoch [5], train_loss: 0.8372, train_accuracy: 60.5042\n",
            "Epoch [6], train_loss: 0.6310, train_accuracy: 73.1092\n",
            "Epoch [7], train_loss: 0.5053, train_accuracy: 84.8739\n",
            "Epoch [8], train_loss: 0.4103, train_accuracy: 88.2353\n",
            "Epoch [9], train_loss: 0.3330, train_accuracy: 89.0756\n",
            "Epoch [10], train_loss: 0.2136, train_accuracy: 94.9580\n",
            "Test loss of the model: 1.8382 %\n",
            "Test Accuracy of the model: 42.857142857142854 %\n",
            "              precision    recall  f1-score   support\n",
            "\n",
            "         0.0       0.57      1.00      0.73         4\n",
            "         1.0       0.50      0.29      0.36         7\n",
            "         2.0       0.00      0.00      0.00         3\n",
            "\n",
            "    accuracy                           0.43        14\n",
            "   macro avg       0.36      0.43      0.36        14\n",
            "weighted avg       0.41      0.43      0.39        14\n",
            "\n",
            "Fold 4\n",
            "Epoch [1], train_loss: 28.4707, train_accuracy: 30.8333\n",
            "Epoch [2], train_loss: 4.2680, train_accuracy: 41.6667\n",
            "Epoch [3], train_loss: 1.0923, train_accuracy: 50.8333\n",
            "Epoch [4], train_loss: 1.0991, train_accuracy: 48.3333\n",
            "Epoch [5], train_loss: 0.7796, train_accuracy: 70.8333\n",
            "Epoch [6], train_loss: 0.6907, train_accuracy: 70.0000\n",
            "Epoch [7], train_loss: 0.4896, train_accuracy: 82.5000\n",
            "Epoch [8], train_loss: 0.3888, train_accuracy: 85.0000\n",
            "Epoch [9], train_loss: 0.1954, train_accuracy: 92.5000\n",
            "Epoch [10], train_loss: 0.1195, train_accuracy: 98.3333\n",
            "Test loss of the model: 2.9430 %\n",
            "Test Accuracy of the model: 23.076923076923077 %\n",
            "              precision    recall  f1-score   support\n",
            "\n",
            "         0.0       0.50      0.29      0.36         7\n",
            "         1.0       0.11      0.33      0.17         3\n",
            "         2.0       0.00      0.00      0.00         3\n",
            "\n",
            "    accuracy                           0.23        13\n",
            "   macro avg       0.20      0.21      0.18        13\n",
            "weighted avg       0.29      0.23      0.23        13\n",
            "\n",
            "Fold 5\n"
          ]
        },
        {
          "output_type": "stream",
          "name": "stderr",
          "text": [
            "/usr/local/lib/python3.7/dist-packages/sklearn/metrics/_classification.py:1308: UndefinedMetricWarning: Precision and F-score are ill-defined and being set to 0.0 in labels with no predicted samples. Use `zero_division` parameter to control this behavior.\n",
            "  _warn_prf(average, modifier, msg_start, len(result))\n",
            "/usr/local/lib/python3.7/dist-packages/sklearn/metrics/_classification.py:1308: UndefinedMetricWarning: Precision and F-score are ill-defined and being set to 0.0 in labels with no predicted samples. Use `zero_division` parameter to control this behavior.\n",
            "  _warn_prf(average, modifier, msg_start, len(result))\n",
            "/usr/local/lib/python3.7/dist-packages/sklearn/metrics/_classification.py:1308: UndefinedMetricWarning: Precision and F-score are ill-defined and being set to 0.0 in labels with no predicted samples. Use `zero_division` parameter to control this behavior.\n",
            "  _warn_prf(average, modifier, msg_start, len(result))\n",
            "/usr/local/lib/python3.7/dist-packages/sklearn/metrics/_classification.py:1308: UndefinedMetricWarning: Precision and F-score are ill-defined and being set to 0.0 in labels with no predicted samples. Use `zero_division` parameter to control this behavior.\n",
            "  _warn_prf(average, modifier, msg_start, len(result))\n"
          ]
        },
        {
          "output_type": "stream",
          "name": "stdout",
          "text": [
            "Epoch [1], train_loss: 37.6628, train_accuracy: 35.0000\n",
            "Epoch [2], train_loss: 5.4194, train_accuracy: 45.8333\n",
            "Epoch [3], train_loss: 2.6535, train_accuracy: 38.3333\n",
            "Epoch [4], train_loss: 1.2388, train_accuracy: 55.8333\n",
            "Epoch [5], train_loss: 0.8511, train_accuracy: 67.5000\n",
            "Epoch [6], train_loss: 0.6674, train_accuracy: 75.8333\n",
            "Epoch [7], train_loss: 0.5358, train_accuracy: 82.5000\n",
            "Epoch [8], train_loss: 0.3204, train_accuracy: 97.5000\n",
            "Epoch [9], train_loss: 0.1324, train_accuracy: 98.3333\n",
            "Epoch [10], train_loss: 0.1070, train_accuracy: 97.5000\n",
            "Test loss of the model: 4.7099 %\n",
            "Test Accuracy of the model: 38.46153846153847 %\n",
            "              precision    recall  f1-score   support\n",
            "\n",
            "         0.0       0.25      0.25      0.25         4\n",
            "         1.0       0.43      0.60      0.50         5\n",
            "         2.0       0.50      0.25      0.33         4\n",
            "\n",
            "    accuracy                           0.38        13\n",
            "   macro avg       0.39      0.37      0.36        13\n",
            "weighted avg       0.40      0.38      0.37        13\n",
            "\n",
            "Fold 6\n",
            "Epoch [1], train_loss: 30.1147, train_accuracy: 25.8333\n",
            "Epoch [2], train_loss: 6.6213, train_accuracy: 34.1667\n",
            "Epoch [3], train_loss: 1.5984, train_accuracy: 35.8333\n",
            "Epoch [4], train_loss: 1.0895, train_accuracy: 50.8333\n",
            "Epoch [5], train_loss: 0.8191, train_accuracy: 66.6667\n",
            "Epoch [6], train_loss: 0.6677, train_accuracy: 72.5000\n",
            "Epoch [7], train_loss: 0.4701, train_accuracy: 80.8333\n",
            "Epoch [8], train_loss: 0.2939, train_accuracy: 92.5000\n",
            "Epoch [9], train_loss: 0.1310, train_accuracy: 96.6667\n",
            "Epoch [10], train_loss: 0.0949, train_accuracy: 95.8333\n",
            "Test loss of the model: 10.8484 %\n",
            "Test Accuracy of the model: 53.84615384615385 %\n",
            "              precision    recall  f1-score   support\n",
            "\n",
            "         0.0       0.67      1.00      0.80         4\n",
            "         1.0       0.67      0.33      0.44         6\n",
            "         2.0       0.25      0.33      0.29         3\n",
            "\n",
            "    accuracy                           0.54        13\n",
            "   macro avg       0.53      0.56      0.51        13\n",
            "weighted avg       0.57      0.54      0.52        13\n",
            "\n",
            "Fold 7\n",
            "Epoch [1], train_loss: 20.1025, train_accuracy: 28.3333\n",
            "Epoch [2], train_loss: 3.6570, train_accuracy: 33.3333\n",
            "Epoch [3], train_loss: 1.6142, train_accuracy: 45.8333\n",
            "Epoch [4], train_loss: 1.0305, train_accuracy: 61.6667\n",
            "Epoch [5], train_loss: 0.7662, train_accuracy: 65.0000\n",
            "Epoch [6], train_loss: 0.5622, train_accuracy: 80.8333\n",
            "Epoch [7], train_loss: 0.2007, train_accuracy: 95.8333\n",
            "Epoch [8], train_loss: 0.1063, train_accuracy: 99.1667\n",
            "Epoch [9], train_loss: 0.1544, train_accuracy: 96.6667\n",
            "Epoch [10], train_loss: 0.1382, train_accuracy: 95.0000\n",
            "Test loss of the model: 2.7590 %\n",
            "Test Accuracy of the model: 38.46153846153847 %\n",
            "              precision    recall  f1-score   support\n",
            "\n",
            "         0.0       0.50      0.25      0.33         8\n",
            "         1.0       0.25      0.50      0.33         4\n",
            "         2.0       1.00      1.00      1.00         1\n",
            "\n",
            "    accuracy                           0.38        13\n",
            "   macro avg       0.58      0.58      0.56        13\n",
            "weighted avg       0.46      0.38      0.38        13\n",
            "\n",
            "Fold 8\n",
            "Epoch [1], train_loss: 20.7627, train_accuracy: 35.8333\n",
            "Epoch [2], train_loss: 5.2074, train_accuracy: 30.0000\n",
            "Epoch [3], train_loss: 3.4282, train_accuracy: 57.5000\n",
            "Epoch [4], train_loss: 1.1657, train_accuracy: 63.3333\n",
            "Epoch [5], train_loss: 1.0248, train_accuracy: 60.0000\n",
            "Epoch [6], train_loss: 0.5745, train_accuracy: 81.6667\n",
            "Epoch [7], train_loss: 0.4008, train_accuracy: 87.5000\n",
            "Epoch [8], train_loss: 0.1769, train_accuracy: 92.5000\n",
            "Epoch [9], train_loss: 0.0977, train_accuracy: 96.6667\n",
            "Epoch [10], train_loss: 0.0752, train_accuracy: 97.5000\n",
            "Test loss of the model: 5.2204 %\n",
            "Test Accuracy of the model: 38.46153846153847 %\n",
            "              precision    recall  f1-score   support\n",
            "\n",
            "         0.0       0.67      0.33      0.44         6\n",
            "         1.0       0.29      0.67      0.40         3\n",
            "         2.0       0.33      0.25      0.29         4\n",
            "\n",
            "    accuracy                           0.38        13\n",
            "   macro avg       0.43      0.42      0.38        13\n",
            "weighted avg       0.48      0.38      0.39        13\n",
            "\n",
            "Fold 9\n",
            "Epoch [1], train_loss: 23.6760, train_accuracy: 26.6667\n",
            "Epoch [2], train_loss: 1.8160, train_accuracy: 40.0000\n",
            "Epoch [3], train_loss: 1.1334, train_accuracy: 48.3333\n",
            "Epoch [4], train_loss: 1.4667, train_accuracy: 51.6667\n",
            "Epoch [5], train_loss: 0.7552, train_accuracy: 65.0000\n",
            "Epoch [6], train_loss: 0.4437, train_accuracy: 87.5000\n",
            "Epoch [7], train_loss: 0.1978, train_accuracy: 95.8333\n",
            "Epoch [8], train_loss: 0.1361, train_accuracy: 96.6667\n",
            "Epoch [9], train_loss: 0.0673, train_accuracy: 98.3333\n",
            "Epoch [10], train_loss: 0.1315, train_accuracy: 96.6667\n",
            "Test loss of the model: 3.1612 %\n",
            "Test Accuracy of the model: 30.76923076923077 %\n",
            "              precision    recall  f1-score   support\n",
            "\n",
            "         0.0       0.00      0.00      0.00         4\n",
            "         1.0       0.44      0.67      0.53         6\n",
            "         2.0       0.00      0.00      0.00         3\n",
            "\n",
            "    accuracy                           0.31        13\n",
            "   macro avg       0.15      0.22      0.18        13\n",
            "weighted avg       0.21      0.31      0.25        13\n",
            "\n",
            "Fold 10\n",
            "Epoch [1], train_loss: 19.8839, train_accuracy: 33.3333\n",
            "Epoch [2], train_loss: 3.0298, train_accuracy: 50.8333\n",
            "Epoch [3], train_loss: 2.4246, train_accuracy: 45.0000\n",
            "Epoch [4], train_loss: 1.0814, train_accuracy: 58.3333\n",
            "Epoch [5], train_loss: 0.7411, train_accuracy: 76.6667\n",
            "Epoch [6], train_loss: 0.5222, train_accuracy: 80.8333\n",
            "Epoch [7], train_loss: 0.3384, train_accuracy: 88.3333\n",
            "Epoch [8], train_loss: 0.2009, train_accuracy: 93.3333\n",
            "Epoch [9], train_loss: 0.0640, train_accuracy: 99.1667\n",
            "Epoch [10], train_loss: 0.0143, train_accuracy: 100.0000\n",
            "Test loss of the model: 3.2953 %\n",
            "Test Accuracy of the model: 15.384615384615385 %\n",
            "              precision    recall  f1-score   support\n",
            "\n",
            "         0.0       0.00      0.00      0.00         4\n",
            "         1.0       0.25      0.33      0.29         3\n",
            "         2.0       0.25      0.17      0.20         6\n",
            "\n",
            "    accuracy                           0.15        13\n",
            "   macro avg       0.17      0.17      0.16        13\n",
            "weighted avg       0.17      0.15      0.16        13\n",
            "\n"
          ]
        }
      ]
    },
    {
      "cell_type": "code",
      "metadata": {
        "colab": {
          "base_uri": "https://localhost:8080/"
        },
        "id": "6N731LqvwwOF",
        "outputId": "4c20e78d-c04e-43d8-ccc1-827de059879d"
      },
      "source": [
        "testLoss,trainLoss,testAccuracy,trainAccuracy=[],[],[],[]\n",
        "k=10\n",
        "for f in range(1,k+1):\n",
        "  trainLoss.append(np.mean(foldperf['fold{}'.format(f)]['train_loss']))\n",
        "  #testl_f.append(foldperf['fold{}'.format(f)]['test_loss'])\n",
        "  trainAccuracy.append(np.mean(foldperf['fold{}'.format(f)]['train_accuracy']))\n",
        "  #testa_f.append(foldperf['fold{}'.format(f)]['test_accuracy'])\n",
        "  testLoss.append(foldperf['fold{}'.format(f)]['test_loss'])\n",
        "  testAccuracy.append(foldperf['fold{}'.format(f)]['test_accuracy'])\n",
        "\n",
        "print('Performance of {} fold cross validation'.format(k))\n",
        "print(\"Average Training Loss: {:.4f} \\t Average Test Loss: {:.4f} \\t Average Training Acc: {:.4f} \\t Average Test Acc: {:.4f}\".format(np.mean(trainLoss),sum(testLoss)/k,np.mean(trainAccuracy),sum(testAccuracy)/k))     "
      ],
      "id": "6N731LqvwwOF",
      "execution_count": 33,
      "outputs": [
        {
          "output_type": "stream",
          "name": "stdout",
          "text": [
            "Performance of 10 fold cross validation\n",
            "Average Training Loss: 3.7538 \t Average Test Loss: 4.2476 \t Average Training Acc: 68.5669 \t Average Test Acc: 33.1319\n"
          ]
        }
      ]
    },
    {
      "cell_type": "code",
      "metadata": {
        "colab": {
          "base_uri": "https://localhost:8080/"
        },
        "id": "Z3W0xodT6zii",
        "outputId": "48f8efed-8e68-4e67-e50a-277eed349c80"
      },
      "source": [
        "#history = fit(50, 0.001, model, train_loader, val_loader, torch.optim.Adam)\n",
        "\n",
        "torch.save(model, model_path)"
      ],
      "id": "Z3W0xodT6zii",
      "execution_count": null,
      "outputs": [
        {
          "output_type": "stream",
          "name": "stdout",
          "text": [
            "Epoch [1], train_loss: 14.3057, val_loss: 1.3502, val_acc: 0.3803\n",
            "Epoch [2], train_loss: 1.3955, val_loss: 1.1948, val_acc: 0.4778\n",
            "Epoch [3], train_loss: 1.2612, val_loss: 1.1163, val_acc: 0.5513\n",
            "Epoch [4], train_loss: 1.2098, val_loss: 1.0900, val_acc: 0.5246\n",
            "Epoch [5], train_loss: 1.1410, val_loss: 0.9741, val_acc: 0.6314\n",
            "Epoch [6], train_loss: 1.0009, val_loss: 0.8534, val_acc: 0.6221\n",
            "Epoch [7], train_loss: 0.9285, val_loss: 0.7459, val_acc: 0.7132\n",
            "Epoch [8], train_loss: 0.8186, val_loss: 0.5815, val_acc: 0.7823\n",
            "Epoch [9], train_loss: 0.6474, val_loss: 0.4870, val_acc: 0.8208\n",
            "Epoch [10], train_loss: 0.5995, val_loss: 0.4170, val_acc: 0.8649\n",
            "Epoch [11], train_loss: 0.5451, val_loss: 0.3929, val_acc: 0.8574\n",
            "Epoch [12], train_loss: 0.4802, val_loss: 0.4577, val_acc: 0.8190\n",
            "Epoch [13], train_loss: 0.3649, val_loss: 0.2160, val_acc: 0.9241\n",
            "Epoch [14], train_loss: 0.3161, val_loss: 0.2211, val_acc: 0.9241\n",
            "Epoch [15], train_loss: 0.2896, val_loss: 0.2153, val_acc: 0.9150\n",
            "Epoch [16], train_loss: 0.2645, val_loss: 0.3178, val_acc: 0.8907\n",
            "Epoch [17], train_loss: 0.2374, val_loss: 0.1436, val_acc: 0.9516\n",
            "Epoch [18], train_loss: 0.2066, val_loss: 0.2523, val_acc: 0.9024\n",
            "Epoch [19], train_loss: 0.2089, val_loss: 0.0996, val_acc: 0.9600\n",
            "Epoch [20], train_loss: 0.1622, val_loss: 0.0890, val_acc: 0.9667\n",
            "Epoch [21], train_loss: 0.1700, val_loss: 0.1725, val_acc: 0.9525\n",
            "Epoch [22], train_loss: 0.2167, val_loss: 0.0925, val_acc: 0.9633\n",
            "Epoch [23], train_loss: 0.2474, val_loss: 0.1257, val_acc: 0.9550\n",
            "Epoch [24], train_loss: 0.2066, val_loss: 0.1129, val_acc: 0.9675\n",
            "Epoch [25], train_loss: 0.1508, val_loss: 0.0616, val_acc: 0.9741\n",
            "Epoch [26], train_loss: 0.1362, val_loss: 0.0942, val_acc: 0.9616\n",
            "Epoch [27], train_loss: 0.1258, val_loss: 0.1202, val_acc: 0.9516\n",
            "Epoch [28], train_loss: 0.2240, val_loss: 0.1480, val_acc: 0.9458\n",
            "Epoch [29], train_loss: 0.2523, val_loss: 0.3650, val_acc: 0.8865\n",
            "Epoch [30], train_loss: 0.2045, val_loss: 0.0826, val_acc: 0.9716\n",
            "Epoch [31], train_loss: 0.1498, val_loss: 0.0783, val_acc: 0.9667\n",
            "Epoch [32], train_loss: 0.1283, val_loss: 0.0898, val_acc: 0.9616\n",
            "Epoch [33], train_loss: 0.0864, val_loss: 0.0557, val_acc: 0.9749\n",
            "Epoch [34], train_loss: 0.0732, val_loss: 0.0410, val_acc: 0.9774\n",
            "Epoch [35], train_loss: 0.0518, val_loss: 0.0365, val_acc: 0.9775\n",
            "Epoch [36], train_loss: 0.0476, val_loss: 0.0360, val_acc: 0.9775\n",
            "Epoch [37], train_loss: 0.0584, val_loss: 0.0404, val_acc: 0.9775\n",
            "Epoch [38], train_loss: 0.0544, val_loss: 0.0346, val_acc: 0.9774\n",
            "Epoch [39], train_loss: 0.0596, val_loss: 0.0379, val_acc: 0.9774\n",
            "Epoch [40], train_loss: 0.0951, val_loss: 0.0935, val_acc: 0.9641\n",
            "Epoch [41], train_loss: 0.1324, val_loss: 0.1366, val_acc: 0.9474\n",
            "Epoch [42], train_loss: 0.1286, val_loss: 0.2078, val_acc: 0.9224\n",
            "Epoch [43], train_loss: 0.0950, val_loss: 0.0631, val_acc: 0.9691\n",
            "Epoch [44], train_loss: 0.1603, val_loss: 0.3644, val_acc: 0.8824\n",
            "Epoch [45], train_loss: 0.1851, val_loss: 0.1789, val_acc: 0.9324\n",
            "Epoch [46], train_loss: 0.1385, val_loss: 0.0531, val_acc: 0.9725\n",
            "Epoch [47], train_loss: 0.1270, val_loss: 0.2264, val_acc: 0.9216\n",
            "Epoch [48], train_loss: 0.1754, val_loss: 0.4845, val_acc: 0.8657\n",
            "Epoch [49], train_loss: 0.2527, val_loss: 0.0684, val_acc: 0.9674\n",
            "Epoch [50], train_loss: 0.0998, val_loss: 0.0592, val_acc: 0.9742\n"
          ]
        }
      ]
    },
    {
      "cell_type": "code",
      "metadata": {
        "colab": {
          "base_uri": "https://localhost:8080/",
          "height": 295
        },
        "id": "205783a4",
        "outputId": "03cdd379-f23f-47e8-cfac-f4bc678b5058"
      },
      "source": [
        "import matplotlib.pyplot as plt\n",
        "\n",
        "def plot_accuracies(history):\n",
        "    \"\"\" Plot the history of accuracies\"\"\"\n",
        "    #accuracies = [x['val_acc'] for x in history]\n",
        "    plt.plot(history, '-x')\n",
        "    plt.xlabel('epoch')\n",
        "    plt.ylabel('accuracy')\n",
        "    plt.title('Accuracy vs. No. of epochs');\n",
        "    \n",
        "\n",
        "plot_accuracies(trainAccuracy)"
      ],
      "id": "205783a4",
      "execution_count": 34,
      "outputs": [
        {
          "output_type": "display_data",
          "data": {
            "image/png": "[encoded data removed]",
            "text/plain": [
              "<Figure size 432x288 with 1 Axes>"
            ]
          },
          "metadata": {
            "needs_background": "light"
          }
        }
      ]
    },
    {
      "cell_type": "code",
      "metadata": {
        "colab": {
          "base_uri": "https://localhost:8080/",
          "height": 295
        },
        "id": "4bf8b30b",
        "outputId": "5097b49f-5fcc-42d6-bc60-61a3761f614d"
      },
      "source": [
        "def plot_losses(history):\n",
        "    \"\"\" Plot the losses in each epoch\"\"\"\n",
        "    train_losses = [x.get('train_loss') for x in history]\n",
        "    val_losses = [x['val_loss'] for x in history]\n",
        "    plt.plot(train_losses, '-bx')\n",
        "    plt.plot(val_losses, '-rx')\n",
        "    plt.xlabel('epoch')\n",
        "    plt.ylabel('loss')\n",
        "    plt.legend(['Training', 'Validation'])\n",
        "    plt.title('Loss vs. No. of epochs');\n",
        "\n",
        "plot_losses(history)"
      ],
      "id": "4bf8b30b",
      "execution_count": null,
      "outputs": [
        {
          "output_type": "display_data",
          "data": {
            "image/png": "[encoded data removed]",
            "text/plain": [
              "<Figure size 432x288 with 1 Axes>"
            ]
          },
          "metadata": {
            "needs_background": "light"
          }
        }
      ]
    },
    {
      "cell_type": "code",
      "metadata": {
        "id": "6J0r-tQo6NgM",
        "colab": {
          "base_uri": "https://localhost:8080/",
          "height": 350
        },
        "outputId": "4ccf25da-825c-47cb-da42-80eeae50d20b"
      },
      "source": [
        "import copy\n",
        "model.load_state_dict(copy.deepcopy(torch.load(model_path, device)))\n",
        "model.eval()"
      ],
      "id": "6J0r-tQo6NgM",
      "execution_count": null,
      "outputs": [
        {
          "output_type": "error",
          "ename": "AttributeError",
          "evalue": "ignored",
          "traceback": [
            "\u001b[0;31m---------------------------------------------------------------------------\u001b[0m",
            "\u001b[0;31mAttributeError\u001b[0m                            Traceback (most recent call last)",
            "\u001b[0;32m<ipython-input-16-4e40856b9d65>\u001b[0m in \u001b[0;36m<module>\u001b[0;34m()\u001b[0m\n\u001b[1;32m      1\u001b[0m \u001b[0;32mimport\u001b[0m \u001b[0mcopy\u001b[0m\u001b[0;34m\u001b[0m\u001b[0;34m\u001b[0m\u001b[0m\n\u001b[0;32m----> 2\u001b[0;31m \u001b[0mmodel\u001b[0m\u001b[0;34m.\u001b[0m\u001b[0mload_state_dict\u001b[0m\u001b[0;34m(\u001b[0m\u001b[0mcopy\u001b[0m\u001b[0;34m.\u001b[0m\u001b[0mdeepcopy\u001b[0m\u001b[0;34m(\u001b[0m\u001b[0mtorch\u001b[0m\u001b[0;34m.\u001b[0m\u001b[0mload\u001b[0m\u001b[0;34m(\u001b[0m\u001b[0mmodel_path\u001b[0m\u001b[0;34m,\u001b[0m \u001b[0mdevice\u001b[0m\u001b[0;34m)\u001b[0m\u001b[0;34m)\u001b[0m\u001b[0;34m)\u001b[0m\u001b[0;34m\u001b[0m\u001b[0;34m\u001b[0m\u001b[0m\n\u001b[0m\u001b[1;32m      3\u001b[0m \u001b[0mmodel\u001b[0m\u001b[0;34m.\u001b[0m\u001b[0meval\u001b[0m\u001b[0;34m(\u001b[0m\u001b[0;34m)\u001b[0m\u001b[0;34m\u001b[0m\u001b[0;34m\u001b[0m\u001b[0m\n",
            "\u001b[0;32m/usr/local/lib/python3.7/dist-packages/torch/nn/modules/module.py\u001b[0m in \u001b[0;36mload_state_dict\u001b[0;34m(self, state_dict, strict)\u001b[0m\n\u001b[1;32m   1453\u001b[0m         \u001b[0;31m# copy state_dict so _load_from_state_dict can modify it\u001b[0m\u001b[0;34m\u001b[0m\u001b[0;34m\u001b[0m\u001b[0;34m\u001b[0m\u001b[0m\n\u001b[1;32m   1454\u001b[0m         \u001b[0mmetadata\u001b[0m \u001b[0;34m=\u001b[0m \u001b[0mgetattr\u001b[0m\u001b[0;34m(\u001b[0m\u001b[0mstate_dict\u001b[0m\u001b[0;34m,\u001b[0m \u001b[0;34m'_metadata'\u001b[0m\u001b[0;34m,\u001b[0m \u001b[0;32mNone\u001b[0m\u001b[0;34m)\u001b[0m\u001b[0;34m\u001b[0m\u001b[0;34m\u001b[0m\u001b[0m\n\u001b[0;32m-> 1455\u001b[0;31m         \u001b[0mstate_dict\u001b[0m \u001b[0;34m=\u001b[0m \u001b[0mstate_dict\u001b[0m\u001b[0;34m.\u001b[0m\u001b[0mcopy\u001b[0m\u001b[0;34m(\u001b[0m\u001b[0;34m)\u001b[0m\u001b[0;34m\u001b[0m\u001b[0;34m\u001b[0m\u001b[0m\n\u001b[0m\u001b[1;32m   1456\u001b[0m         \u001b[0;32mif\u001b[0m \u001b[0mmetadata\u001b[0m \u001b[0;32mis\u001b[0m \u001b[0;32mnot\u001b[0m \u001b[0;32mNone\u001b[0m\u001b[0;34m:\u001b[0m\u001b[0;34m\u001b[0m\u001b[0;34m\u001b[0m\u001b[0m\n\u001b[1;32m   1457\u001b[0m             \u001b[0;31m# mypy isn't aware that \"_metadata\" exists in state_dict\u001b[0m\u001b[0;34m\u001b[0m\u001b[0;34m\u001b[0m\u001b[0;34m\u001b[0m\u001b[0m\n",
            "\u001b[0;32m/usr/local/lib/python3.7/dist-packages/torch/nn/modules/module.py\u001b[0m in \u001b[0;36m__getattr__\u001b[0;34m(self, name)\u001b[0m\n\u001b[1;32m   1176\u001b[0m                 \u001b[0;32mreturn\u001b[0m \u001b[0mmodules\u001b[0m\u001b[0;34m[\u001b[0m\u001b[0mname\u001b[0m\u001b[0;34m]\u001b[0m\u001b[0;34m\u001b[0m\u001b[0;34m\u001b[0m\u001b[0m\n\u001b[1;32m   1177\u001b[0m         raise AttributeError(\"'{}' object has no attribute '{}'\".format(\n\u001b[0;32m-> 1178\u001b[0;31m             type(self).__name__, name))\n\u001b[0m\u001b[1;32m   1179\u001b[0m \u001b[0;34m\u001b[0m\u001b[0m\n\u001b[1;32m   1180\u001b[0m     \u001b[0;32mdef\u001b[0m \u001b[0m__setattr__\u001b[0m\u001b[0;34m(\u001b[0m\u001b[0mself\u001b[0m\u001b[0;34m,\u001b[0m \u001b[0mname\u001b[0m\u001b[0;34m:\u001b[0m \u001b[0mstr\u001b[0m\u001b[0;34m,\u001b[0m \u001b[0mvalue\u001b[0m\u001b[0;34m:\u001b[0m \u001b[0mUnion\u001b[0m\u001b[0;34m[\u001b[0m\u001b[0mTensor\u001b[0m\u001b[0;34m,\u001b[0m \u001b[0;34m'Module'\u001b[0m\u001b[0;34m]\u001b[0m\u001b[0;34m)\u001b[0m \u001b[0;34m->\u001b[0m \u001b[0;32mNone\u001b[0m\u001b[0;34m:\u001b[0m\u001b[0;34m\u001b[0m\u001b[0;34m\u001b[0m\u001b[0m\n",
            "\u001b[0;31mAttributeError\u001b[0m: 'CNN' object has no attribute 'copy'"
          ]
        }
      ]
    },
    {
      "cell_type": "code",
      "metadata": {
        "colab": {
          "base_uri": "https://localhost:8080/"
        },
        "id": "ti3qPWSu6Ibs",
        "outputId": "8b41298f-381a-4009-afe2-b415c78c9030"
      },
      "source": [
        "\"\"\"test_dataset = FaceMaskDataset(test_indexes, conversion=transform)\n",
        "print(\"Loading test set\")\n",
        "test_loader = torch.utils.data.DataLoader(\n",
        "    dataset=test_dataset, batch_size=batch_size, shuffle=True, num_workers=0)\"\"\""
      ],
      "id": "ti3qPWSu6Ibs",
      "execution_count": null,
      "outputs": [
        {
          "output_type": "stream",
          "name": "stdout",
          "text": [
            "Loading test set\n"
          ]
        }
      ]
    },
    {
      "cell_type": "code",
      "metadata": {
        "id": "QSiViMuXfOMr"
      },
      "source": [
        "from sklearn.metrics import confusion_matrix, classification_report\n",
        "import seaborn as sns\n",
        "\n",
        "def test_phase(model,test_loader, device, history):\n",
        "\n",
        "  y_true = torch.tensor([])\n",
        "  y_true = y_true.to(device)\n",
        "  y_preds = torch.tensor([])\n",
        "  y_preds = y_preds.to(device)\n",
        "\n",
        "  # test-the-model\n",
        "  model.eval()  # it-disables-dropout\n",
        "  with torch.no_grad():\n",
        "      correct = 0\n",
        "      total = 0\n",
        "      for images, labels in test_loader:\n",
        "          images = images.to(device)\n",
        "          labels = labels.to(device)\n",
        "          y_true = torch.cat(\n",
        "              (y_true, labels)\n",
        "          )\n",
        "          outputs = model(images)\n",
        "\n",
        "          loss = F.cross_entropy(outputs, labels) # Calculate loss\n",
        "          scores, predicted = torch.max(outputs.data, 1)\n",
        "          \n",
        "\n",
        "          #_, predicted = torch.max(outputs.data, 1)\n",
        "          total += labels.size(0)\n",
        "          correct += (predicted == labels).sum().item()\n",
        "          y_preds = torch.cat(\n",
        "              (y_preds, predicted)\n",
        "          )\n",
        "\n",
        "      test_accuracy = correct / total * 100\n",
        "      print('Test loss of the model: {:.4f} %'.format(loss)) \n",
        "      print('Test Accuracy of the model: {} %'.format(test_accuracy))\n",
        "\n",
        "      history['test_loss'] = loss\n",
        "      history['test_accuracy'] = test_accuracy\n",
        "\n",
        "\n",
        "  y_true = y_true.to('cpu')\n",
        "  y_preds = y_preds.to('cpu')\n",
        "  #matrix = confusion_matrix(y_true, y_preds)\n",
        "  #plt.figure(figsize = (10,7))\n",
        "  #ax = sns.heatmap(matrix, fmt='', annot=True, cmap='Blues')\n",
        "  #ax.set_title('Confusion Matrix with labels!!');\n",
        "  #ax.set_xlabel('Predicted Mask Type')\n",
        "  #ax.set_ylabel('Actual Mask Type')\n",
        "  #ax.xaxis.set_ticklabels([i for i in classes.keys()])\n",
        "  #ax.yaxis.set_ticklabels([i for i in classes.keys()])\n",
        "  #plt.show()\n",
        "\n",
        "  from sklearn.metrics import precision_recall_fscore_support as score\n",
        "  precision, recall, fscore, support = score(y_true, y_preds)\n",
        "  print(classification_report(y_true,y_preds))\n",
        "\n",
        "  return history"
      ],
      "id": "QSiViMuXfOMr",
      "execution_count": 25,
      "outputs": []
    },
    {
      "cell_type": "code",
      "metadata": {
        "id": "2Q419aDnyF00"
      },
      "source": [
        "def label_to_classname(label):\n",
        "  for classname in classes.keys():\n",
        "    if classes[classname] == label:\n",
        "      return classname\n",
        "  return 'NULL'"
      ],
      "id": "2Q419aDnyF00",
      "execution_count": null,
      "outputs": []
    },
    {
      "cell_type": "code",
      "metadata": {
        "id": "7f67cc65",
        "colab": {
          "base_uri": "https://localhost:8080/"
        },
        "outputId": "3937e0e8-cf28-4c09-e453-75725c0dda57"
      },
      "source": [
        "new_images_path = os.path.join(BASE, \"test\")\n",
        "\n",
        "new_images = os.listdir(new_images_path)\n",
        "\n",
        "with torch.no_grad():\n",
        "    for image in new_images:\n",
        "      file_name = image\n",
        "      image = transform(Image.open(os.path.join(new_images_path, image)).convert('RGB'))\n",
        "      # image = image.unsqueeze(1)\n",
        "      image = image.unsqueeze(0)\n",
        "      image = image.to(device)\n",
        "      labels = model(image)\n",
        "      _, predicted = torch.max(labels.data, 1)\n",
        "      print(f'{file_name} file is {label_to_classname(predicted[0])}')\n"
      ],
      "id": "7f67cc65",
      "execution_count": null,
      "outputs": [
        {
          "output_type": "stream",
          "name": "stdout",
          "text": [
            "0748.jpg file is mask_surgical\n",
            "1.jpg file is mask_surgical\n",
            "4.jpg file is mask_surgical\n",
            "3.png file is ffp2_mask\n",
            "cloth_mask.jpg file is mask_colorful\n",
            "without_mask.jpg file is face_no_mask\n",
            "n95_mask.jpg file is mask_surgical\n"
          ]
        }
      ]
    },
    {
      "cell_type": "code",
      "metadata": {
        "id": "25d62024"
      },
      "source": [
        "# transform = transforms.Compose(\n",
        "#     [transforms.Resize((100, 100)),\n",
        "#         transforms.ToTensor(),\n",
        "#         transforms.Normalize((0.5, 0.5, 0.5), (0.5, 0.5, 0.5))])\n",
        "\n",
        "\n",
        "# new_data_folder = \"./data/new/images\"\n",
        "\n",
        "# tensor_image = transforms.ToPILImage()(transform(Image.open(os.path.join(new_data_folder, '1.png'))))\n",
        "\n",
        "# import matplotlib.pyplot as plt\n",
        "\n",
        "# plt.imshow(tensor_image)\n",
        "# plt.show()"
      ],
      "id": "25d62024",
      "execution_count": null,
      "outputs": []
    }
  ]
}