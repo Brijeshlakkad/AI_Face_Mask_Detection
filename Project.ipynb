{
  "cells": [
    {
      "cell_type": "code",
      "execution_count": null,
      "id": "ZwmOvfWynTeL",
      "metadata": {
        "colab": {
          "base_uri": "https://localhost:8080/"
        },
        "id": "ZwmOvfWynTeL",
        "outputId": "738cb43c-74c6-41d5-8a82-467feed53203"
      },
      "outputs": [
        {
          "name": "stdout",
          "output_type": "stream",
          "text": [
            "Mounted at /content/drive\n"
          ]
        }
      ],
      "source": [
        "from google.colab import drive\n",
        "drive.mount('/content/drive')"
      ]
    },
    {
      "cell_type": "code",
      "execution_count": null,
      "id": "6580d713",
      "metadata": {
        "id": "6580d713"
      },
      "outputs": [],
      "source": [
        "import pandas as pd\n",
        "import os\n",
        "from torch.utils.data import Dataset\n",
        "from PIL import Image\n",
        "import random\n",
        "import torch\n",
        "import torch.nn as nn\n",
        "import torchvision.transforms as transforms\n",
        "\n",
        "columns = [\"filename\", \"classname\"]\n",
        "\n",
        "# BASE = \"./data\"\n",
        "BASE = \"/content/drive/MyDrive/Colab Notebooks/data/preprocessed\"\n",
        "data_csv_file = os.path.join(BASE, \"./data.csv\")\n",
        "data_folder = os.path.join(BASE, \"./images\")\n",
        "root_folder = os.path.join(BASE, \"./\")\n",
        "\n",
        "data_df = pd.read_csv(data_csv_file, skiprows=1, names=columns)"
      ]
    },
    {
      "cell_type": "code",
      "execution_count": null,
      "id": "d09f94dc",
      "metadata": {
        "id": "d09f94dc"
      },
      "outputs": [],
      "source": [
        "# get image data\n",
        "def getImageData(folder, image_file):\n",
        "    return Image.open(os.path.join(folder, image_file)).convert('RGB') # Load the image\n",
        "\n",
        "# create directory\n",
        "def make_dir(dir_path):\n",
        "    if not os.path.isdir(dir_path):\n",
        "        os.makedirs(dir_path)\n",
        "\n",
        "model_path = os.path.join(root_folder, 'model', 'face_mask_detection.pth')\n",
        "# make_dir(model_path)\n",
        "\n",
        "# predefined classes\n",
        "classes = {\n",
        "    \"mask_colorful\": 0,\n",
        "    \"face_no_mask\": 1,\n",
        "    \"mask_surgical\": 2,\n",
        "    \"ffp2_mask\": 3\n",
        "}\n"
      ]
    },
    {
      "cell_type": "code",
      "execution_count": null,
      "id": "9002c180",
      "metadata": {
        "id": "9002c180"
      },
      "outputs": [],
      "source": [
        "class FaceMaskDataset(Dataset):\n",
        "    dataset = []\n",
        "    conversion = None\n",
        "\n",
        "    def __init__(self, indexes, conversion=transforms.ToTensor()):\n",
        "        self.conversion = conversion\n",
        "        for rowIndex in indexes:\n",
        "            sample = {}\n",
        "            sample['image'] = getImageData(data_folder, data_df[columns[0]][rowIndex])\n",
        "            sample['target'] = classes[data_df[columns[1]][rowIndex]]\n",
        "            self.dataset.append(sample)\n",
        "\n",
        "    def __len__(self):\n",
        "        return len(self.dataset)\n",
        "\n",
        "    def __getitem__(self, index):\n",
        "        image = self.dataset[index]['image']\n",
        "        if self.conversion is not None:\n",
        "            image = self.conversion(image)\n",
        "        return image, self.dataset[index]['target']"
      ]
    },
    {
      "cell_type": "code",
      "execution_count": null,
      "id": "47d105e6",
      "metadata": {
        "colab": {
          "base_uri": "https://localhost:8080/"
        },
        "id": "47d105e6",
        "outputId": "d248adac-bdf1-4ce1-9187-595d0f2b17fb"
      },
      "outputs": [
        {
          "name": "stdout",
          "output_type": "stream",
          "text": [
            "size_of_the_dataset 1333\n",
            "Effective train split = 799\n",
            "Effective val split = 200\n",
            "Effective test split = 334\n",
            "Effective train split = 59.939984996249066%\n",
            "Effective val split = 15.003750937734434%\n",
            "Effective test split = 25.056264066016503%\n"
          ]
        }
      ],
      "source": [
        "train_split_percentage = 0.60\n",
        "val_split_percentage = 0.15\n",
        "test_split_percentage = 0.25\n",
        "size_of_the_dataset = int(data_df.shape[0])\n",
        "\n",
        "\n",
        "print(\"size_of_the_dataset\", size_of_the_dataset)\n",
        "\n",
        "batch_size = 25\n",
        "num_of_classes = len(classes.keys())\n",
        "\n",
        "indexes = list(range(size_of_the_dataset))\n",
        "random.shuffle(indexes)\n",
        "\n",
        "\n",
        "train_indexes = indexes[:int(train_split_percentage*len(indexes))]\n",
        "val_indexes = indexes[int(train_split_percentage*len(indexes)):int((train_split_percentage + val_split_percentage)*len(indexes))]\n",
        "test_indexes = indexes[int(\n",
        "    (train_split_percentage + val_split_percentage)*len(indexes)):]\n",
        "\n",
        "\n",
        "print(f\"Effective train split = {len(train_indexes)}\")\n",
        "print(f\"Effective val split = {len(val_indexes)}\")\n",
        "print(f\"Effective test split = {len(test_indexes)}\")\n",
        "\n",
        "print(f\"Effective train split = {len(train_indexes)/len(indexes)*100}%\")\n",
        "print(f\"Effective val split = {len(val_indexes)/len(indexes)*100}%\")\n",
        "print(f\"Effective test split = {len(test_indexes)/len(indexes)*100}%\")"
      ]
    },
    {
      "cell_type": "code",
      "execution_count": null,
      "id": "xWtJ0bEh7obY",
      "metadata": {
        "id": "xWtJ0bEh7obY"
      },
      "outputs": [],
      "source": [
        "transform = transforms.Compose(\n",
        "    [transforms.Resize((250, 250)),\n",
        "        transforms.ToTensor(),\n",
        "        transforms.Normalize(mean=[0.485, 0.456, 0.406],\n",
        "                                       std=[0.229, 0.224, 0.225])])"
      ]
    },
    {
      "cell_type": "code",
      "execution_count": null,
      "id": "c58831c3",
      "metadata": {
        "colab": {
          "base_uri": "https://localhost:8080/"
        },
        "id": "c58831c3",
        "outputId": "81125930-2645-4beb-a849-103be3d5a4a9"
      },
      "outputs": [
        {
          "name": "stdout",
          "output_type": "stream",
          "text": [
            "Loading training set\n",
            "Loading validation set\n"
          ]
        }
      ],
      "source": [
        "print(\"Loading training set\")\n",
        "train_dataset = FaceMaskDataset(train_indexes, conversion=transform)\n",
        "print(\"Loading validation set\")\n",
        "val_dataset = FaceMaskDataset(val_indexes, conversion=transform)\n",
        "train_loader = torch.utils.data.DataLoader(\n",
        "    dataset=train_dataset, batch_size=batch_size, shuffle=True, num_workers=0)\n",
        "val_loader = torch.utils.data.DataLoader(\n",
        "    dataset=val_dataset, batch_size=batch_size, shuffle=False, num_workers=0)"
      ]
    },
    {
      "cell_type": "code",
      "execution_count": null,
      "id": "c67379d5",
      "metadata": {
        "colab": {
          "base_uri": "https://localhost:8080/"
        },
        "id": "c67379d5",
        "outputId": "c5bd06cd-fefa-4c3b-c7fe-c2f492e4a7c9"
      },
      "outputs": [
        {
          "name": "stdout",
          "output_type": "stream",
          "text": [
            "Using device: cuda\n"
          ]
        }
      ],
      "source": [
        "device = torch.device('cuda' if torch.cuda.is_available() else 'cpu')\n",
        "print('Using device:', device)"
      ]
    },
    {
      "cell_type": "code",
      "execution_count": null,
      "id": "0a2b3745",
      "metadata": {
        "id": "0a2b3745"
      },
      "outputs": [],
      "source": [
        "import torch.nn as nn\n",
        "import torch.nn.functional as F\n",
        "\n",
        "class FaceMaskClassificationBase(nn.Module):\n",
        "    def training_step(self, batch):\n",
        "        images, labels = batch \n",
        "        images, labels = images.to(device), labels.to(device)\n",
        "        out = self(images)                  # Generate predictions\n",
        "        loss = F.cross_entropy(out, labels) # Calculate loss\n",
        "        return loss\n",
        "    \n",
        "    def validation_step(self, batch):\n",
        "        images, labels = batch \n",
        "        images, labels = images.to(device), labels.to(device)\n",
        "        out = self(images)                    # Generate predictions\n",
        "        loss = F.cross_entropy(out, labels)   # Calculate loss\n",
        "        acc = accuracy(out, labels)           # Calculate accuracy\n",
        "        return {'val_loss': loss.detach(), 'val_acc': acc}\n",
        "        \n",
        "    def validation_epoch_end(self, outputs):\n",
        "        batch_losses = [x['val_loss'] for x in outputs]\n",
        "        epoch_loss = torch.stack(batch_losses).mean()   # Combine losses\n",
        "        batch_accs = [x['val_acc'] for x in outputs]\n",
        "        epoch_acc = torch.stack(batch_accs).mean()      # Combine accuracies\n",
        "        return {'val_loss': epoch_loss.item(), 'val_acc': epoch_acc.item()}\n",
        "    \n",
        "    def epoch_end(self, epoch, result):\n",
        "        print(\"Epoch [{}], train_loss: {:.4f}, val_loss: {:.4f}, val_acc: {:.4f}\".format(\n",
        "            epoch+1, result['train_loss'], result['val_loss'], result['val_acc']))"
      ]
    },
    {
      "cell_type": "code",
      "execution_count": null,
      "id": "0323ceca",
      "metadata": {
        "id": "0323ceca"
      },
      "outputs": [],
      "source": [
        "class CNN(FaceMaskClassificationBase):\n",
        "    def __init__(self):\n",
        "        super(CNN, self).__init__()\n",
        "        self.conv_layer = nn.Sequential(\n",
        "            nn.Conv2d(in_channels=3, out_channels=32, kernel_size=3, padding=1),\n",
        "            nn.BatchNorm2d(32),\n",
        "            nn.LeakyReLU(inplace=True),\n",
        "            nn.Conv2d(in_channels=32, out_channels=32, kernel_size=3, padding=1),\n",
        "            nn.BatchNorm2d(32),\n",
        "            nn.LeakyReLU(inplace=True),\n",
        "            nn.MaxPool2d(kernel_size=2, stride=2),\n",
        "\n",
        "            \n",
        "            nn.Conv2d(in_channels=32, out_channels=64, kernel_size=3, padding=1),\n",
        "            nn.BatchNorm2d(64),\n",
        "            nn.LeakyReLU(inplace=True),\n",
        "            nn.Conv2d(in_channels=64, out_channels=64, kernel_size=3, padding=1),\n",
        "            nn.BatchNorm2d(64),\n",
        "            nn.LeakyReLU(inplace=True),\n",
        "            nn.MaxPool2d(kernel_size=2, stride=2),\n",
        "        )\n",
        "        self.fc_layer = nn.Sequential(\n",
        "            nn.Dropout(p=0.1),\n",
        "            nn.Linear(246016, 1024),\n",
        "            nn.ReLU(inplace=True),\n",
        "            nn.Linear(1024, 512),\n",
        "            nn.ReLU(inplace=True),\n",
        "            nn.Dropout(p=0.1),\n",
        "            nn.Linear(512, num_of_classes),\n",
        "        )\n",
        "\n",
        "    def forward(self, x):\n",
        "        # conv layers\n",
        "        x = self.conv_layer(x)\n",
        "        # flatten\n",
        "        x = x.view(x.size(0), -1)\n",
        "        # fc layer\n",
        "        x = self.fc_layer(x)\n",
        "        return x\n"
      ]
    },
    {
      "cell_type": "code",
      "execution_count": null,
      "id": "QUOnI_PUZ1SM",
      "metadata": {
        "id": "QUOnI_PUZ1SM"
      },
      "outputs": [],
      "source": [
        "def accuracy(outputs, labels):\n",
        "    _, preds = torch.max(outputs, dim=1)\n",
        "    return torch.tensor(torch.sum(preds == labels).item() / len(preds))\n",
        "\n",
        "  \n",
        "@torch.no_grad()\n",
        "def evaluate(model, val_loader):\n",
        "    model.eval()\n",
        "    outputs = [model.validation_step(batch) for batch in val_loader]\n",
        "    return model.validation_epoch_end(outputs)\n",
        "\n",
        "  \n",
        "def fit(epochs, lr, model, train_loader, val_loader, opt_func = torch.optim.SGD):\n",
        "    \n",
        "    history = []\n",
        "    optimizer = opt_func(model.parameters(),lr)\n",
        "    for epoch in range(epochs):\n",
        "        model.train()\n",
        "        train_losses = []\n",
        "        for batch in train_loader:\n",
        "            images, labels = batch\n",
        "            # forward-pass: compute-predicted-outputs-by-passing-inputs-to-the-model\n",
        "            loss = model.training_step(batch)\n",
        "            # update-training-loss\n",
        "            train_losses.append(loss)\n",
        "            # backward-pass: compute-gradient-of-the-loss-wrt-model-parameters\n",
        "            loss.backward()\n",
        "            # perform-a-single-optimization-step (parameter-update)\n",
        "            optimizer.step()\n",
        "            # clear-the-gradients-of-all-optimized-variables\n",
        "            optimizer.zero_grad()\n",
        "            \n",
        "        result = evaluate(model, val_loader)\n",
        "        result['train_loss'] = torch.stack(train_losses).mean().item()\n",
        "        model.epoch_end(epoch, result)\n",
        "        history.append(result)\n",
        "    return history"
      ]
    },
    {
      "cell_type": "code",
      "execution_count": null,
      "id": "d49d62d7",
      "metadata": {
        "id": "d49d62d7"
      },
      "outputs": [],
      "source": [
        "model = CNN()\n",
        "model = model.to(device)"
      ]
    },
    {
      "cell_type": "code",
      "execution_count": null,
      "id": "Z3W0xodT6zii",
      "metadata": {
        "colab": {
          "base_uri": "https://localhost:8080/"
        },
        "id": "Z3W0xodT6zii",
        "outputId": "da1c880a-9125-46bd-c24d-88ebd1c11295"
      },
      "outputs": [
        {
          "name": "stdout",
          "output_type": "stream",
          "text": [
            "Epoch [1], train_loss: 13.4395, val_loss: 1.6733, val_acc: 0.3710\n",
            "Epoch [2], train_loss: 1.6843, val_loss: 1.4635, val_acc: 0.3928\n",
            "Epoch [3], train_loss: 1.5117, val_loss: 1.2093, val_acc: 0.4820\n",
            "Epoch [4], train_loss: 1.2927, val_loss: 1.1797, val_acc: 0.5146\n",
            "Epoch [5], train_loss: 1.2303, val_loss: 1.0511, val_acc: 0.5412\n",
            "Epoch [6], train_loss: 1.1507, val_loss: 1.0925, val_acc: 0.5421\n",
            "Epoch [7], train_loss: 1.0768, val_loss: 0.9077, val_acc: 0.6514\n",
            "Epoch [8], train_loss: 0.9965, val_loss: 0.8412, val_acc: 0.6598\n",
            "Epoch [9], train_loss: 1.1448, val_loss: 1.1325, val_acc: 0.6047\n",
            "Epoch [10], train_loss: 1.0684, val_loss: 0.7825, val_acc: 0.7057\n",
            "Epoch [11], train_loss: 0.8665, val_loss: 0.5805, val_acc: 0.8015\n",
            "Epoch [12], train_loss: 0.6984, val_loss: 0.4881, val_acc: 0.8282\n",
            "Epoch [13], train_loss: 0.5757, val_loss: 0.3652, val_acc: 0.8707\n",
            "Epoch [14], train_loss: 0.4607, val_loss: 0.3250, val_acc: 0.9007\n",
            "Epoch [15], train_loss: 0.3963, val_loss: 0.2596, val_acc: 0.9283\n",
            "Epoch [16], train_loss: 0.3829, val_loss: 0.3553, val_acc: 0.8808\n",
            "Epoch [17], train_loss: 0.3259, val_loss: 0.2324, val_acc: 0.9275\n",
            "Epoch [18], train_loss: 0.2946, val_loss: 0.1598, val_acc: 0.9508\n",
            "Epoch [19], train_loss: 0.2589, val_loss: 0.1349, val_acc: 0.9683\n",
            "Epoch [20], train_loss: 0.2076, val_loss: 0.1922, val_acc: 0.9350\n",
            "Epoch [21], train_loss: 0.2748, val_loss: 0.2428, val_acc: 0.9425\n",
            "Epoch [22], train_loss: 0.1715, val_loss: 0.1434, val_acc: 0.9617\n",
            "Epoch [23], train_loss: 0.2715, val_loss: 0.0989, val_acc: 0.9700\n",
            "Epoch [24], train_loss: 0.1408, val_loss: 0.1300, val_acc: 0.9666\n",
            "Epoch [25], train_loss: 0.1989, val_loss: 0.1199, val_acc: 0.9692\n",
            "Epoch [26], train_loss: 0.3377, val_loss: 0.2229, val_acc: 0.9433\n",
            "Epoch [27], train_loss: 0.2591, val_loss: 0.1353, val_acc: 0.9633\n",
            "Epoch [28], train_loss: 0.2019, val_loss: 0.0923, val_acc: 0.9683\n",
            "Epoch [29], train_loss: 0.1527, val_loss: 0.0761, val_acc: 0.9775\n",
            "Epoch [30], train_loss: 0.3041, val_loss: 0.1244, val_acc: 0.9542\n",
            "Epoch [31], train_loss: 0.1423, val_loss: 0.0658, val_acc: 0.9775\n",
            "Epoch [32], train_loss: 0.1035, val_loss: 0.0598, val_acc: 0.9750\n",
            "Epoch [33], train_loss: 0.1068, val_loss: 0.0527, val_acc: 0.9767\n",
            "Epoch [34], train_loss: 0.0621, val_loss: 0.0397, val_acc: 0.9808\n",
            "Epoch [35], train_loss: 0.0532, val_loss: 0.0382, val_acc: 0.9808\n",
            "Epoch [36], train_loss: 0.0471, val_loss: 0.0499, val_acc: 0.9808\n",
            "Epoch [37], train_loss: 0.0626, val_loss: 0.0299, val_acc: 0.9808\n",
            "Epoch [38], train_loss: 0.0405, val_loss: 0.0382, val_acc: 0.9800\n",
            "Epoch [39], train_loss: 0.0459, val_loss: 0.0360, val_acc: 0.9800\n",
            "Epoch [40], train_loss: 0.0395, val_loss: 0.0375, val_acc: 0.9800\n",
            "Epoch [41], train_loss: 0.0587, val_loss: 0.0336, val_acc: 0.9800\n",
            "Epoch [42], train_loss: 0.0366, val_loss: 0.0294, val_acc: 0.9800\n",
            "Epoch [43], train_loss: 0.0399, val_loss: 0.0335, val_acc: 0.9783\n",
            "Epoch [44], train_loss: 0.0523, val_loss: 0.0348, val_acc: 0.9792\n",
            "Epoch [45], train_loss: 0.0439, val_loss: 0.0350, val_acc: 0.9783\n",
            "Epoch [46], train_loss: 0.0361, val_loss: 0.0293, val_acc: 0.9800\n",
            "Epoch [47], train_loss: 0.0636, val_loss: 0.0654, val_acc: 0.9658\n",
            "Epoch [48], train_loss: 0.1143, val_loss: 0.1566, val_acc: 0.9508\n",
            "Epoch [49], train_loss: 0.1035, val_loss: 0.1193, val_acc: 0.9466\n",
            "Epoch [50], train_loss: 0.0874, val_loss: 0.0485, val_acc: 0.9783\n"
          ]
        }
      ],
      "source": [
        "history = fit(50, 0.001, model, train_loader, val_loader, torch.optim.Adam)\n",
        "\n",
        "torch.save(model, model_path)"
      ]
    },
    {
      "cell_type": "code",
      "execution_count": null,
      "id": "205783a4",
      "metadata": {
        "colab": {
          "base_uri": "https://localhost:8080/",
          "height": 295
        },
        "id": "205783a4",
        "outputId": "36cb9fac-b832-4ac2-896e-6e12c7e8eac1"
      },
      "outputs": [
        {
          "data": {
            "image/png": "[encoded data removed]",
            "text/plain": [
              "<Figure size 432x288 with 1 Axes>"
            ]
          },
          "metadata": {
            "needs_background": "light"
          },
          "output_type": "display_data"
        }
      ],
      "source": [
        "import matplotlib.pyplot as plt\n",
        "\n",
        "def plot_accuracies(history):\n",
        "    \"\"\" Plot the history of accuracies\"\"\"\n",
        "    accuracies = [x['val_acc'] for x in history]\n",
        "    plt.plot(accuracies, '-x')\n",
        "    plt.xlabel('epoch')\n",
        "    plt.ylabel('accuracy')\n",
        "    plt.title('Accuracy vs. No. of epochs');\n",
        "    \n",
        "\n",
        "plot_accuracies(history)"
      ]
    },
    {
      "cell_type": "code",
      "execution_count": null,
      "id": "4bf8b30b",
      "metadata": {
        "colab": {
          "base_uri": "https://localhost:8080/",
          "height": 295
        },
        "id": "4bf8b30b",
        "outputId": "d0f44d65-5210-478d-e9fa-3b8ec4d5847f"
      },
      "outputs": [
        {
          "data": {
            "image/png": "[encoded data removed]",
            "text/plain": [
              "<Figure size 432x288 with 1 Axes>"
            ]
          },
          "metadata": {
            "needs_background": "light"
          },
          "output_type": "display_data"
        }
      ],
      "source": [
        "def plot_losses(history):\n",
        "    \"\"\" Plot the losses in each epoch\"\"\"\n",
        "    train_losses = [x.get('train_loss') for x in history]\n",
        "    val_losses = [x['val_loss'] for x in history]\n",
        "    plt.plot(train_losses, '-bx')\n",
        "    plt.plot(val_losses, '-rx')\n",
        "    plt.xlabel('epoch')\n",
        "    plt.ylabel('loss')\n",
        "    plt.legend(['Training', 'Validation'])\n",
        "    plt.title('Loss vs. No. of epochs');\n",
        "\n",
        "plot_losses(history)"
      ]
    },
    {
      "cell_type": "code",
      "execution_count": null,
      "id": "ti3qPWSu6Ibs",
      "metadata": {
        "colab": {
          "base_uri": "https://localhost:8080/"
        },
        "id": "ti3qPWSu6Ibs",
        "outputId": "52fddaa4-a905-4dba-dc4d-90ed61fae29a"
      },
      "outputs": [
        {
          "name": "stdout",
          "output_type": "stream",
          "text": [
            "Loading test set\n"
          ]
        }
      ],
      "source": [
        "test_dataset = FaceMaskDataset(test_indexes, conversion=transform)\n",
        "print(\"Loading test set\")\n",
        "test_loader = torch.utils.data.DataLoader(\n",
        "    dataset=test_dataset, batch_size=batch_size, shuffle=True, num_workers=0)"
      ]
    },
    {
      "cell_type": "code",
      "execution_count": null,
      "id": "QSiViMuXfOMr",
      "metadata": {
        "colab": {
          "base_uri": "https://localhost:8080/"
        },
        "id": "QSiViMuXfOMr",
        "outputId": "0fb3052f-1ec9-4435-84f8-b827f6c5de46"
      },
      "outputs": [
        {
          "name": "stdout",
          "output_type": "stream",
          "text": [
            "Test Accuracy of the model: 91.59789947486871 %\n"
          ]
        }
      ],
      "source": [
        "y_true = torch.tensor([])\n",
        "y_true = y_true.to(device)\n",
        "y_preds = torch.tensor([])\n",
        "y_preds = y_preds.to(device)\n",
        "\n",
        "# test-the-model\n",
        "model.eval()  # it-disables-dropout\n",
        "with torch.no_grad():\n",
        "    correct = 0\n",
        "    total = 0\n",
        "    for images, labels in test_loader:\n",
        "        images = images.to(device)\n",
        "        labels = labels.to(device)\n",
        "        y_true = torch.cat(\n",
        "            (y_true, labels)\n",
        "        )\n",
        "        outputs = model(images)\n",
        "        _, predicted = torch.max(outputs.data, 1)\n",
        "        total += labels.size(0)\n",
        "        correct += (predicted == labels).sum().item()\n",
        "        y_preds = torch.cat(\n",
        "            (y_preds, predicted)\n",
        "        )\n",
        "          \n",
        "    print('Test Accuracy of the model: {} %'.format(100 * correct / total))\n",
        "\n",
        "y_true = y_true.to('cpu')\n",
        "y_preds = y_preds.to('cpu')"
      ]
    },
    {
      "cell_type": "code",
      "execution_count": null,
      "id": "tfPWLcs_hpHE",
      "metadata": {
        "colab": {
          "base_uri": "https://localhost:8080/",
          "height": 459
        },
        "id": "tfPWLcs_hpHE",
        "outputId": "eb481f7b-4b1b-4e54-d3a7-a413847ca3da"
      },
      "outputs": [
        {
          "data": {
            "image/png": "[encoded data removed]",
            "text/plain": [
              "<Figure size 720x504 with 2 Axes>"
            ]
          },
          "metadata": {
            "needs_background": "light"
          },
          "output_type": "display_data"
        }
      ],
      "source": [
        "from sklearn.metrics import confusion_matrix, classification_report\n",
        "import seaborn as sns\n",
        "\n",
        "# show confusion matrix\n",
        "def show_confusion_matrix(y_true, y_preds):\n",
        "    matrix = confusion_matrix(y_true, y_preds)\n",
        "    plt.figure(figsize = (10,7))\n",
        "    ax = sns.heatmap(matrix, fmt='', annot=True, cmap='Blues')\n",
        "    ax.set_title('Confusion Matrix with labels!!');\n",
        "    ax.set_xlabel('Predicted Mask Type')\n",
        "    ax.set_ylabel('Actual Mask Type')\n",
        "    ax.xaxis.set_ticklabels([i for i in classes.keys()])\n",
        "    ax.yaxis.set_ticklabels([i for i in classes.keys()])\n",
        "    plt.show()\n",
        "\n",
        "show_confusion_matrix(y_true, y_preds)"
      ]
    },
    {
      "cell_type": "code",
      "execution_count": null,
      "id": "DZGw6Wh3hr4u",
      "metadata": {
        "colab": {
          "base_uri": "https://localhost:8080/"
        },
        "id": "DZGw6Wh3hr4u",
        "outputId": "2f53e02d-0a66-4abf-ffe9-da2e88d155a3"
      },
      "outputs": [
        {
          "name": "stdout",
          "output_type": "stream",
          "text": [
            "              precision    recall  f1-score   support\n",
            "\n",
            "         0.0       0.94      0.92      0.93       400\n",
            "         1.0       0.94      0.93      0.94       400\n",
            "         2.0       0.90      0.94      0.92       400\n",
            "         3.0       0.81      0.79      0.80       133\n",
            "\n",
            "    accuracy                           0.92      1333\n",
            "   macro avg       0.90      0.89      0.90      1333\n",
            "weighted avg       0.92      0.92      0.92      1333\n",
            "\n"
          ]
        }
      ],
      "source": [
        "from sklearn.metrics import precision_recall_fscore_support as score\n",
        "precision, recall, fscore, support = score(y_true, y_preds)\n",
        "print(classification_report(y_true,y_preds))"
      ]
    },
    {
      "cell_type": "code",
      "execution_count": null,
      "id": "2Q419aDnyF00",
      "metadata": {
        "id": "2Q419aDnyF00"
      },
      "outputs": [],
      "source": [
        "def label_to_classname(label):\n",
        "  for classname in classes.keys():\n",
        "    if classes[classname] == label:\n",
        "      return classname\n",
        "  return 'NULL'"
      ]
    },
    {
      "cell_type": "code",
      "execution_count": null,
      "id": "7f67cc65",
      "metadata": {
        "colab": {
          "base_uri": "https://localhost:8080/"
        },
        "id": "7f67cc65",
        "outputId": "1d7c7796-c507-4167-c025-845bccc1fd5a"
      },
      "outputs": [
        {
          "name": "stdout",
          "output_type": "stream",
          "text": [
            "1.jpg file is face_no_mask\n",
            "4.jpg file is mask_surgical\n",
            "121212.png file is ffp2_mask\n",
            "0748.jpg file is face_no_mask\n"
          ]
        }
      ],
      "source": [
        "# Put new images at the 'test' directory to classify them\n",
        "new_images_path = os.path.join(root_folder, \"./test\")\n",
        "\n",
        "# get new images\n",
        "new_images = os.listdir(new_images_path)\n",
        "\n",
        "with torch.no_grad():\n",
        "    for image in new_images:\n",
        "      file_name = image\n",
        "      image = transform(Image.open(os.path.join(new_images_path, image)).convert('RGB'))\n",
        "      # image = image.unsqueeze(1)\n",
        "      image = image.unsqueeze(0)\n",
        "      image = image.to(device)\n",
        "      labels = model(image)\n",
        "      _, predicted = torch.max(labels.data, 1)\n",
        "      print(f'{file_name} file is {label_to_classname(predicted[0])}')\n"
      ]
    },
    {
      "cell_type": "code",
      "execution_count": null,
      "id": "25d62024",
      "metadata": {
        "id": "25d62024"
      },
      "outputs": [],
      "source": [
        "# transform = transforms.Compose(\n",
        "#     [transforms.Resize((100, 100)),\n",
        "#         transforms.ToTensor(),\n",
        "#         transforms.Normalize((0.5, 0.5, 0.5), (0.5, 0.5, 0.5))])\n",
        "\n",
        "\n",
        "# new_data_folder = \"./data/new/images\"\n",
        "\n",
        "# tensor_image = transforms.ToPILImage()(transform(Image.open(os.path.join(new_data_folder, '1.png'))))\n",
        "\n",
        "# import matplotlib.pyplot as plt\n",
        "\n",
        "# plt.imshow(tensor_image)\n",
        "# plt.show()"
      ]
    }
  ],
  "metadata": {
    "accelerator": "GPU",
    "colab": {
      "collapsed_sections": [],
      "machine_shape": "hm",
      "name": "Project.ipynb",
      "provenance": []
    },
    "kernelspec": {
      "display_name": "Python 3",
      "language": "python",
      "name": "python3"
    },
    "language_info": {
      "codemirror_mode": {
        "name": "ipython",
        "version": 3
      },
      "file_extension": ".py",
      "mimetype": "text/x-python",
      "name": "python",
      "nbconvert_exporter": "python",
      "pygments_lexer": "ipython3",
      "version": "3.8.8"
    }
  },
  "nbformat": 4,
  "nbformat_minor": 5
}
